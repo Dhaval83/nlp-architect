{
 "cells": [
  {
   "cell_type": "markdown",
   "metadata": {},
   "source": [
    "# Data Analysis - Semantic vs. Syntactic dependecies"
   ]
  },
  {
   "cell_type": "code",
   "execution_count": null,
   "metadata": {},
   "outputs": [],
   "source": []
  },
  {
   "cell_type": "code",
   "execution_count": 676,
   "metadata": {},
   "outputs": [],
   "source": [
    "import sys, os, json\n",
    "from collections import defaultdict, Counter\n",
    "from itertools import product, combinations, permutations\n",
    "from importlib import reload\n",
    "from glob import glob\n",
    "from IPython.display import HTML, display\n",
    "import tabulate\n",
    "import matplotlib.pyplot as plt\n",
    "import seaborn as sns\n",
    "from typing import List, Any, Dict, Tuple, Callable, Iterable, Union, Set\n",
    "Numeric = Union[int, float]\n",
    "from graph import Graph, Node     # mtool graphs\n",
    "import networkx as nx, numpy as np, pandas as pd\n",
    "from networkx import NetworkXNoPath\n",
    "\n",
    "# a hack for functional-like posfix list functions (map, filter, count, size)\n",
    "import gc\n",
    "postfix_map = lambda l,f: list(map(f,l))\n",
    "postfix_filter = lambda l,f: list(filter(f,l))\n",
    "postfix_count = lambda l,f: len(list(filter(f,l)))\n",
    "gc.get_referents(list.__dict__)[0]['map'] = postfix_map\n",
    "gc.get_referents(list.__dict__)[0]['filter'] = postfix_filter\n",
    "gc.get_referents(list.__dict__)[0]['count'] = postfix_count\n",
    "gc.get_referents(list.__dict__)[0]['size'] = lambda l:len(l)\n",
    "\n",
    "# root of project in nlp-architext repo\n",
    "libert_dir = \"/data/home/ayalklei/nlp-architect/nlp_architect/models/libert\"\n",
    "analysis_dir = f\"{libert_dir}/analysis\"\n",
    "\n",
    "# useful \"meta\" data - number of sentence per domain \n",
    "# (can be computed by #-lines in raw_sentences.txt files - `wc $liber_dir/analysis/raw_sentences/*.txt`)\n",
    "num_sents = {\"device\": 3834, \"restaurants\": 5842, \"laptops\": 3846}\n",
    "domains = [\"restaurants\", \"laptops\", \"device\"]\n",
    "datasets = list(permutations(domains, 2))\n",
    "\n",
    "ud_enhancement_formalisms = [\"eud\", \"eud_pp\", \"bart\", \"eud_pp_bart\"]\n",
    "# usefull general utils\n",
    "def display_table(table):\n",
    "    display(HTML(tabulate.tabulate(table, tablefmt='html')))\n",
    "def display_1d_dict(dic):\n",
    "    keys, values = zip(*dic.items())\n",
    "    display_table([keys, values])\n",
    "def display_ndict(nested_dict: Dict[str, Dict[str, Any]], \n",
    "                  with_mean=True, \n",
    "                  pprint: Callable = None,\n",
    "                  precision: int = 4):\n",
    "    \"\"\" Display two-level nested dict as a pretty table. \"\"\"\n",
    "    if not pprint:\n",
    "        def pprint_f(x):\n",
    "            if isinstance(x, float):\n",
    "                return float(f\"{x:.{precision}f}\")\n",
    "            else:\n",
    "                return x\n",
    "        pprint = pprint_f\n",
    "    row_labels = list(nested_dict.keys())\n",
    "    column_labels = list(list(nested_dict.values())[0].keys())\n",
    "    as_tabular = [[\"-\"] + column_labels] + \\\n",
    "                 [[row] + [pprint(nested_dict[row][col]) for col in column_labels]\n",
    "                  for row in row_labels]\n",
    "    if with_mean:\n",
    "        as_tabular[0] += [\"mean\"]\n",
    "        for i in range(1, len(as_tabular)):\n",
    "            mean = np.mean(as_tabular[i][1:])\n",
    "            as_tabular[i] += [pprint(mean)]\n",
    "    display_table(as_tabular)\n",
    "\n",
    "def display_absa_graph(graph: Graph, method=\"displacy\"):\n",
    "    # visualize\n",
    "    print(f\"Sentence: {graph.input}\")\n",
    "    if method == \"dot\":\n",
    "        # visalize using dot\n",
    "        dot_fn = \"dot_example.dot\"\n",
    "        graph.dot(open(dot_fn, \"w\"))    # write dot file\n",
    "        # see dot in jupyter\n",
    "        def view_dot(fn):\n",
    "            from graphviz import Source\n",
    "            return Source.from_file(fn)\n",
    "        return view_dot(dot_fn)\n",
    "    elif method==\"tikz\":\n",
    "        # visalize using tikz\n",
    "        tikz_fn = \"tikz_example.tex\"\n",
    "        graph.tikz(open(tikz_fn, \"w\"))    # write tikz latex file\n",
    "        # I can't show it in notebook meantime since %load_ext tikzmagic not working\n",
    "        return None\n",
    "    else:\n",
    "        print(\"opinions: \", graph.opinion_spans, \n",
    "              [' '.join(graph.input.split(\" \")[i] \n",
    "                        for i in range(*span))\n",
    "                        for span in graph.opinion_spans])\n",
    "        print(\"aspects: \", graph.aspect_spans,\n",
    "              [' '.join(graph.input.split(\" \")[i] \n",
    "                        for i in range(*span))\n",
    "                        for span in graph.aspect_spans])\n",
    "        graph.displacy(jupyter=True, options={\"compact\":True, \"distance\":100})\n",
    "            \n",
    "def plot_hist_with_long_labels(array, bins=None, title=\"\"):\n",
    "    \"\"\" Display hostogram with rotated x-labels \"\"\"\n",
    "    import matplotlib.pyplot as plt\n",
    "    fig, ax = plt.subplots()\n",
    "    ax.hist(array, bins = bins or len(array), color = 'red', edgecolor = 'black',)\n",
    "    for tick in ax.get_xticklabels():\n",
    "        tick.set_rotation(270)\n",
    "    ax.set_title(title)\n",
    "\n",
    "def plot_bar_with_long_labels(labels, values, title=\"\", save_as=None):\n",
    "    \"\"\" Display histogram with rotated x-labels \"\"\"\n",
    "    import matplotlib.pyplot as plt\n",
    "    indexes = np.arange(len(labels))\n",
    "    fig, ax = plt.subplots()\n",
    "    ax.bar(indexes, values, color = 'blue', edgecolor = 'black')\n",
    "    for tick in ax.get_xticklabels():\n",
    "        tick.set_rotation(270)\n",
    "    plt.xticks(indexes, labels)\n",
    "    ax.set_title(title)\n",
    "    if save_as:\n",
    "        plt.savefig(save_as)\n",
    "\n",
    "def plot_counter_with_long_labels(c: Counter):\n",
    "    plot_bar_with_long_labels(*zip(*c.items()))\n",
    "    \n",
    "def report_overlap(**kwargs):\n",
    "    assert len(kwargs)==2\n",
    "    (nm1, s1), (nm2, s2) = tuple(kwargs.items())\n",
    "    s1, s2 = set(s1), set(s2)\n",
    "    print(f\"|{nm1}|={len(s1)}, |{nm2}|={len(s2)};   Union: {len(s1|s2)}  Intersection: {len(s1&s2)} \")\n",
    "    print(f\"|{nm1}-{nm2}|={len(s1-s2)}, |{nm2}-{nm1}|={len(s2-s1)};   \")"
   ]
  },
  {
   "cell_type": "code",
   "execution_count": 481,
   "metadata": {},
   "outputs": [],
   "source": [
    "# general DS utils (lists, sets, dicts, counters)\n",
    "def counter_as_accumulative(counter: Counter) -> Counter:\n",
    "    \"\"\" Return the accumulative distribution of the `counter` distribution.\n",
    "        `counter` keys should be numbers. \"\"\"\n",
    "    sorted_keys = list(sorted(counter.keys()))\n",
    "    accum = 0\n",
    "    out = {}\n",
    "    for k in sorted_keys:\n",
    "        accum += counter[k]\n",
    "        out[k] = accum\n",
    "    return out\n",
    "\n",
    "def counter_as_relative(distribution: Dict):\n",
    "    # get a list\\dict of numbers (a distribution), return the relative distribution (element/sum)\n",
    "    sm = float(sum(distribution.values()))\n",
    "    return {k: v / sm for k, v in distribution.items()}\n",
    "\n",
    "def is_iterable(e):\n",
    "    return '__iter__' in dir(e)\n",
    "\n",
    "def flatten(lst, recursively=False):\n",
    "    \"\"\" Flatten a list.\n",
    "    if recursively=True, flattens all levels of nesting, until reaching non-iterable items\n",
    "    (strings are considered non-iterable to that matter.)\n",
    "    :returns a flatten list (a non-nested list)\n",
    "    \"\"\"\n",
    "    if not is_iterable(lst):\n",
    "        return lst\n",
    "    out = []\n",
    "    for element in lst:\n",
    "        if is_iterable(element):\n",
    "            if recursively:\n",
    "                out.extend(flatten(element))\n",
    "            else:\n",
    "                out.extend(element)\n",
    "        else:\n",
    "            out.append(element)\n",
    "    return out\n",
    "\n",
    "def IOU(set1, set2):\n",
    "    set1 = set(set1)\n",
    "    set2 = set(set2)\n",
    "    intersection = len(set1 & set2)\n",
    "    union = len(set1 | set2)\n",
    "    return intersection / union\n",
    "\n",
    "def agg(d: Dict[Any, List[Any]]) -> List[Any]:\n",
    "    \" Aggreate values of 1-level dict holding list, e.g. all_graphs['ud'] := {domain: [graph1, ...]} \"\n",
    "    return flatten(d.values())\n",
    "def agg2l(d: Dict[Any, Any]) -> List[Any]:\n",
    "    \" Aggreate values of 2-level nested dict. \"\n",
    "    return [d[k1][k2] for k1 in d for k2 in d[k1]]\n",
    "def agg2l_l(d: Dict[Any, List[Any]]) -> List[Any]:\n",
    "    \" Aggreate values of 2-level nested dict holding list, e.g. all_graphs := {frmlsm: {domain: [graph1, ...]}} \"\n",
    "    return flatten(agg2l(d))"
   ]
  },
  {
   "cell_type": "code",
   "execution_count": 7,
   "metadata": {},
   "outputs": [
    {
     "name": "stdout",
     "output_type": "stream",
     "text": [
      "['To', 'be', 'completely', 'fair', ',', 'the', 'only', 'redeeming', 'factor', 'was', 'the', 'food', ',', 'which', 'was', 'above', 'average', ',', 'but', 'could', \"n't\", 'make', 'up', 'for', 'all', 'the', 'other', 'deficiencies', 'of', 'Teodora', '.'] 31\n"
     ]
    }
   ],
   "source": [
    "# utils for loading and visualizing dependency graphs (both syntactic and semantic) \n",
    "def load_parsed_graph(formalism=\"dm\", domain=\"restaurants\", graph_id = 1) -> Graph:\n",
    "    # load a parsed graph\n",
    "    if formalism is \"spacy\":\n",
    "        parsed_graphs_dir=f\"{libert_dir}/analysis/spacy-syndep-parses\"\n",
    "        parsed_fn=f\"{parsed_graphs_dir}/{domain}-syndep.mrp\"\n",
    "    elif formalism is \"ud\":\n",
    "        parsed_graphs_dir=f\"{libert_dir}/analysis/udpipe-syndep-parses\"\n",
    "        parsed_fn=f\"{parsed_graphs_dir}/{domain}-syndep.mrp\"\n",
    "    elif formalism in ud_enhancement_formalisms:\n",
    "        parsed_graphs_dir=f\"{libert_dir}/analysis/ud-enhancements/{formalism}\"\n",
    "        parsed_fn=f\"{parsed_graphs_dir}/{domain}-syndep.mrp\"\n",
    "    elif formalism in [\"dm\", \"psd\"]:    \n",
    "        parsed_graphs_dir=f\"{libert_dir}/analysis/HIT-SCIR-parses\"\n",
    "        parsed_fn=f\"{parsed_graphs_dir}/{formalism}-{domain}-output.mrp\"\n",
    "    else:\n",
    "        raise ValueError(f\"formalism {formalism} is not among supprted formalisms - clir (spacy), ud, dm, psd\")\n",
    "    with open(parsed_fn) as fin:\n",
    "        lines = list(fin.readlines())\n",
    "    g = Graph.decode(json.loads(lines[graph_id]))\n",
    "    # fix nodes in parsed_graph to include all tokens in input sentence\n",
    "    g._full_sentence_recovery() \n",
    "    return g\n",
    "\n",
    "\n",
    "# running example\n",
    "g = load_parsed_graph(\"spacy\")\n",
    "print([n.label for n in g.nodes], len(g.nodes))\n"
   ]
  },
  {
   "cell_type": "markdown",
   "metadata": {},
   "source": [
    "## Loading ABSA information into graphs\n",
    "Mark nodes in the graph with 'opinion' and 'aspect' boolean attributes  "
   ]
  },
  {
   "cell_type": "code",
   "execution_count": 8,
   "metadata": {},
   "outputs": [],
   "source": [
    "# first, read ABSA data from \"conll\" BIO-tagged files into a intermediate format.\n",
    "# our format will be per sentence - {\"sentence_id\":..., \"tokens\": [...], \"token_tags\": [...], \n",
    "#                                       \"aspect_spans\": [(from_id, to_id), ...],\n",
    "#                                       \"opinion_spans\": [(from_id, to_id), ...]}\n",
    "absa_data_dir = f\"{libert_dir}/data/conll/domains_all\"\n",
    "absa_data = {}\n",
    "formalisms = [\"spacy\", \"ud\", \"dm\", \"psd\"] + ud_enhancement_formalisms\n",
    "for domain in domains:\n",
    "    absa_bio_fn = f\"{absa_data_dir}/{domain}.txt\"\n",
    "    with open(absa_bio_fn) as fin:\n",
    "        # read blocks, and in empty lines (=block delimiter) - consolidate block (=sentence) info\n",
    "        block_tuples = []   # a tuple correspond to a line; \n",
    "                            # in these conll-bio ABSA files, it is a (token, bio_tag) pair\n",
    "        bio_spans, cur_span_info = [], None\n",
    "        data = []\n",
    "        running_sentence_id = 0\n",
    "        token_id = 0\n",
    "        for line in fin:\n",
    "            line = line.strip()\n",
    "            if line != \"\":\n",
    "                block_tuples.append(line.split())\n",
    "                # on the same pass, collect BIO spans info\n",
    "                _, bio_tag = line.split()\n",
    "                if (bio_tag == \"O\" or bio_tag.startswith(\"B\")) and cur_span_info: \n",
    "                    # finalize previous span\n",
    "                    cur_span_info[\"to\"] = token_id  # span is exclusive\n",
    "                    bio_spans.append(cur_span_info)\n",
    "                    cur_span_info = None\n",
    "                if bio_tag.startswith(\"B\"): # start new span \n",
    "                    # start new span \n",
    "                    label = bio_tag.split(\"-\")[1]\n",
    "                    cur_span_info = {\"from\": token_id, \"label\": label}\n",
    "                token_id += 1\n",
    "            else:   # line seperator, consolidate block information\n",
    "                tokens, bio_tags = zip(*block_tuples)\n",
    "                # ABSA-specific logic:\n",
    "                # split bio_spans into aspect spans and opinion spans \n",
    "                apsect_spans = [(s[\"from\"], s[\"to\"]) for s in bio_spans if s[\"label\"]==\"ASP\"]\n",
    "                opinion_spans = [(s[\"from\"], s[\"to\"]) for s in bio_spans if s[\"label\"]==\"OP\"]\n",
    "\n",
    "                sentence_data = {\"sentence_id\": f\"{running_sentence_id:04}\",\n",
    "                                 \"tokens\": list(tokens),\n",
    "                                 \"token_tags\": bio_tags,    # auxilary info\n",
    "                                 \"apsect_spans\": apsect_spans,\n",
    "                                 \"opinion_spans\": opinion_spans}\n",
    "                data.append(sentence_data) \n",
    "                # initialize for next block   \n",
    "                running_sentence_id += 1\n",
    "                block_tuples = [] \n",
    "                token_id = 0\n",
    "                bio_spans, cur_span_info = [], None\n",
    "    absa_data[domain] = data"
   ]
  },
  {
   "cell_type": "code",
   "execution_count": 9,
   "metadata": {},
   "outputs": [
    {
     "data": {
      "text/plain": [
       "['spacy', 'ud', 'dm', 'psd', 'eud', 'eud_pp', 'bart', 'eud_pp_bart']"
      ]
     },
     "execution_count": 9,
     "metadata": {},
     "output_type": "execute_result"
    }
   ],
   "source": [
    "# now with any loaded graph, we can augment ABSA information into graph\n",
    "def load_absa_graph(formalism=\"dm\", domain=\"laptops\", graph_id = 3240):\n",
    "    g = load_parsed_graph(formalism=formalism, domain=domain, graph_id=graph_id)\n",
    "    sent_absa = absa_data[domain][graph_id]\n",
    "    # verify correspondense\n",
    "    assert g.input.split() == sent_absa[\"tokens\"], \\\n",
    "        f\"mismatch between parsed graph and absa-data: '{g.input.split()}' vs. '{sent_absa['tokens']}'\"\n",
    "    # augment ABSA info into graphs:\n",
    "    #  - in graph level (`aspect_spans` and `opinion_spans` graph properties)\n",
    "            # `first_node` requisite: fixing node ids in \"aspect/opinion terms\" so that they will correspond \n",
    "            # to their index in g.nodes list. It is mainly for 1-indexed graphs like\n",
    "            # those deserialized from CoNLL-U files (where first token's id is 1 and not 0).\n",
    "    first_node = min(n.id for n in g.nodes)\n",
    "    g.aspect_spans = [(b+first_node,e+first_node) for b,e in sent_absa[\"apsect_spans\"]]\n",
    "    g.opinion_spans = [(b+first_node,e+first_node) for b,e in sent_absa[\"opinion_spans\"]]\n",
    "    #  - in node level (`aspect_term` and `opinion_term` node properties)\n",
    "    for n in g.nodes:\n",
    "        n.aspect_term = False\n",
    "        n.opinion_term = False\n",
    "    for span in g.aspect_spans:\n",
    "        for i in range(*span):\n",
    "            g.find_node(i).aspect_term = True\n",
    "    for span in g.opinion_spans:\n",
    "        for i in range(*span):\n",
    "            g.find_node(i).opinion_term = True\n",
    "    return g\n",
    "\n",
    "# Select running example \n",
    "formalism=\"spacy\"; domain=\"device\"; graph_id=1\n",
    "g = load_parsed_graph(formalism=formalism, domain=domain, graph_id=graph_id)\n",
    "g2 = load_absa_graph(formalism=formalism, domain=domain, graph_id=graph_id)\n",
    "# display_absa_graph(g2)\n",
    "# absa_data[\"laptops\"][3034]\n",
    "# [n.label for n in g.nodes]\n",
    "formalisms\n"
   ]
  },
  {
   "cell_type": "code",
   "execution_count": 9,
   "metadata": {},
   "outputs": [
    {
     "name": "stdout",
     "output_type": "stream",
     "text": [
      "0:there  1:is  2:much  3:which  4:has  5:been  6:said  7:in  8:other  9:reviews  10:about  11:the  12:features  13:of  14:this  15:phone  16:,  17:it  18:is  19:a  20:great  21:phone  22:,  23:mine  24:worked  25:without  26:any  27:problems  28:right  29:out  30:of  31:the  32:box  33:.\n",
      "aspects: [(16, 17), (22, 23)]\n",
      "opinions: [(21, 22)]\n"
     ]
    }
   ],
   "source": [
    "# inspect some properties of example graph\n",
    "print('  '.join([f\"{i}:{tok}\" for i,tok in enumerate(g2.input.split())]))\n",
    "print(\"aspects:\", g2.aspect_spans)\n",
    "print(\"opinions:\", g2.opinion_spans)"
   ]
  },
  {
   "cell_type": "markdown",
   "metadata": {},
   "source": [
    "## Collect & Filter indicative graphs\n",
    "Filter sentences with single OT & single AT. Since we don't have a AT<->OT mapping in the annotations, we should limit the analysis of AT--OT paths to cases where we are certain they are corresponding.   "
   ]
  },
  {
   "cell_type": "code",
   "execution_count": 10,
   "metadata": {},
   "outputs": [],
   "source": [
    "# collect all graphs (by formalism, by domain) - NOTE: takes several minutes in first run, afterwards loading from file\n",
    "from collections import defaultdict\n",
    "import pickle\n",
    "all_graphs_fn = \"all_absa_graphs.pickle\"\n",
    "try:\n",
    "    all_graphs = pickle.load(open(all_graphs_fn, \"rb\"))\n",
    "except FileNotFoundError:\n",
    "    all_graphs = defaultdict(dict)  # will be: {<formalism>: {<domain>: [sent-0-graph, ...], ...}, ...}\n",
    "    for formalism in formalisms:\n",
    "        for domain in domains:\n",
    "            graphs = [load_absa_graph(formalism, domain, i) for i in range(num_sents[domain])]\n",
    "            all_graphs[formalism][domain] = graphs\n",
    "    pickle.dump(all_graphs, open(all_graphs_fn, \"wb\"))"
   ]
  },
  {
   "cell_type": "code",
   "execution_count": 19,
   "metadata": {},
   "outputs": [
    {
     "name": "stdout",
     "output_type": "stream",
     "text": [
      "collected 13522 graphs for 5 formalisms\n"
     ]
    }
   ],
   "source": [
    "def count_graphs(graphs: Dict[str, Dict[str, List[Graph]]]) -> int:\n",
    "    return  sum([1\n",
    "                 for formalism_dict in list(graphs.values())[:1]\n",
    "                 for domain_list in formalism_dict.values()\n",
    "                 for g in domain_list])\n",
    "print(f\"collected {count_graphs(all_graphs)} graphs for {len(formalisms)} formalisms\")"
   ]
  },
  {
   "cell_type": "code",
   "execution_count": 20,
   "metadata": {},
   "outputs": [],
   "source": [
    "# filter indicative graphs \n",
    "def is_indicative_graph(g: Graph) -> bool:\n",
    "    \"\"\" return true iff sentence have a single Aspect-Term (AT) and a single Opinion-Term (OT). \"\"\"\n",
    "    return len(g.aspect_spans)==1 and len(g.opinion_spans)==1\n",
    "\n",
    "indicative_sentences_ids = {domain: [i\n",
    "                                     for i in range(num_sents[domain]) \n",
    "                                     if is_indicative_graph(all_graphs[\"ud\"][domain][i])]\n",
    "                            for domain in domains}\n",
    "all_indicative_graphs = {formalism: \n",
    "                             {domain: \n",
    "                                  [all_graphs[formalism][domain][i]\n",
    "                                   for i in range(num_sents[domain])\n",
    "                                   if i in indicative_sentences_ids[domain]]\n",
    "                              for domain in domains}\n",
    "                         for formalism in formalisms}\n"
   ]
  },
  {
   "cell_type": "code",
   "execution_count": 21,
   "metadata": {},
   "outputs": [
    {
     "name": "stdout",
     "output_type": "stream",
     "text": [
      "collected 2451 graphs for 5 formalisms\n"
     ]
    }
   ],
   "source": [
    "print(f\"collected {count_graphs(all_indicative_graphs)} graphs for {len(formalisms)} formalisms\")"
   ]
  },
  {
   "cell_type": "markdown",
   "metadata": {},
   "source": [
    "## Leveraging NetworkX classes for data analysis\n",
    "We will convert mtool's `Graph`s to `nx.DiGraph` objects. \n",
    "Then, we can use nx to search for path and to convert the graph to an undirected graph. \n"
   ]
  },
  {
   "cell_type": "code",
   "execution_count": 22,
   "metadata": {},
   "outputs": [
    {
     "data": {
      "text/plain": [
       "[]"
      ]
     },
     "execution_count": 22,
     "metadata": {},
     "output_type": "execute_result"
    }
   ],
   "source": [
    "def take_keys(d: Dict, keys: List[Any]):\n",
    "    return {k:v for k,v in d.items() if k in keys}\n",
    "\n",
    "def to_nx(g: Graph) -> nx.DiGraph:\n",
    "    graph_attr = take_keys(g.__dict__, [\"flavor\", \"framework\", \"id\", \"input\", \"opinion_spans\", \"aspect_spans\"])\n",
    "    nxg = nx.DiGraph(**graph_attr)\n",
    "    nxg.g = g # save original `mtool` Graph object simple as `g` property\n",
    "    # for better transparency between nx.DiGraph and mtool's Graph, put graph attributes\n",
    "    # as first order properties in DiGraph object\n",
    "    nxg.__dict__.update(**graph_attr)\n",
    "    # add nodes\n",
    "    for node in g.nodes:\n",
    "        attr = take_keys(node.__dict__, ['id', 'anchors', 'label', 'is_top', 'type', 'opinion_term', 'aspect_term'])\n",
    "        # put g.node properties as first-order citizens in nxg.node properties\n",
    "        if node.properties and node.values:\n",
    "            attr.update(dict(zip(node.properties, node.values)))\n",
    "        nxg.add_node(node.id, **attr)\n",
    "    # add edges\n",
    "    for edge in g.edges:\n",
    "        attr = take_keys(edge.__dict__, ['lab', 'anchors', 'id', 'normal'])\n",
    "        # put g.edge attributes as first-order citizens in nxg.edge properties\n",
    "        if edge.attributes and edge.values:\n",
    "            attr.update(dict(zip(edge.attributes, edge.values)))\n",
    "        nxg.add_edge(edge.src, edge.tgt, **attr)\n",
    "    return nxg\n",
    "\n",
    "# running example\n",
    "g2 = all_indicative_graphs[\"ud\"][\"device\"][0]\n",
    "nxg = to_nx(g2)\n",
    "[]"
   ]
  },
  {
   "cell_type": "markdown",
   "metadata": {},
   "source": [
    "## Compute average **directed** path length between AT and OT"
   ]
  },
  {
   "cell_type": "code",
   "execution_count": 23,
   "metadata": {},
   "outputs": [],
   "source": [
    "def filtered(array):\n",
    "    filtered_array = [e for e in array if e is not None]\n",
    "    return filtered_array \n",
    "\n",
    "def filtered_f(array, f: Callable[[Iterable[Graph],], Any]):\n",
    "    filtered_array = filtered(array)\n",
    "    return f(filtered_array) if filtered_array else None\n",
    "\n",
    "    \n",
    "def directed_path_length(nxg: nx.DiGraph):\n",
    "    def shortest_path_length(source, target) -> Union[int, None]:\n",
    "        try:\n",
    "            return nx.shortest_path_length(nxg, source=source, target=target)\n",
    "        except NetworkXNoPath:\n",
    "            return None\n",
    "        \n",
    "    # Return the minimum path length between an OT token and an AT token (either AT~~>OT or OT~~>AT)\n",
    "    OT2AT_path_lengths = [shortest_path_length(source_tokid, target_tokid) \n",
    "                          for source_tokid in range(*nxg.opinion_spans[0])\n",
    "                          for target_tokid in range(*nxg.aspect_spans[0])]\n",
    "    AT2OT_path_lengths = [shortest_path_length(source_tokid, target_tokid) \n",
    "                          for source_tokid in range(*nxg.aspect_spans[0])\n",
    "                          for target_tokid in range(*nxg.opinion_spans[0])]\n",
    "    return filtered_f(OT2AT_path_lengths + AT2OT_path_lengths, min)\n"
   ]
  },
  {
   "cell_type": "code",
   "execution_count": 24,
   "metadata": {},
   "outputs": [],
   "source": [
    "# compute average directed path length per formalism per domain. \n",
    "mean_directed_path_length = defaultdict(dict)\n",
    "dist_directed_path_length = defaultdict(dict) # disribution of path lengths\n",
    "count_is_directed_path = defaultdict(dict)\n",
    "count_indicative_graphs = defaultdict(dict)\n",
    "percentage_direct_relation = defaultdict(dict) # out of all indicative graphs, %-graphs with direct relation (path-length==1)\n",
    "\n",
    "for formalism in formalisms:\n",
    "    for domain in domains:\n",
    "        shortest_paths = [directed_path_length(to_nx(g)) \n",
    "                          for g in all_indicative_graphs[formalism][domain]]\n",
    "        n_graphs = len(all_indicative_graphs[formalism][domain])\n",
    "        count_indicative_graphs[formalism][domain] = n_graphs\n",
    "        mean_directed_path_length[formalism][domain] = filtered_f(shortest_paths, np.mean)\n",
    "        dist = filtered_f(shortest_paths, Counter) \n",
    "        dist_directed_path_length[formalism][domain] = dist\n",
    "        count_is_directed_path[formalism][domain] = filtered_f(shortest_paths, len)\n",
    "        percentage_direct_relation[formalism][domain] = 100* (dist[1] / n_graphs)"
   ]
  },
  {
   "cell_type": "markdown",
   "metadata": {},
   "source": [
    "#### Results"
   ]
  },
  {
   "cell_type": "code",
   "execution_count": 25,
   "metadata": {},
   "outputs": [
    {
     "name": "stdout",
     "output_type": "stream",
     "text": [
      "#-Graphs for analysis (single AT & single OT):\n"
     ]
    },
    {
     "data": {
      "text/html": [
       "<table>\n",
       "<tbody>\n",
       "<tr><td>-     </td><td>device</td><td>restaurants</td><td>laptops</td><td>mean </td></tr>\n",
       "<tr><td>spacy </td><td>551   </td><td>1291       </td><td>609    </td><td>817.0</td></tr>\n",
       "<tr><td>ud    </td><td>551   </td><td>1291       </td><td>609    </td><td>817.0</td></tr>\n",
       "<tr><td>dm    </td><td>551   </td><td>1291       </td><td>609    </td><td>817.0</td></tr>\n",
       "<tr><td>psd   </td><td>551   </td><td>1291       </td><td>609    </td><td>817.0</td></tr>\n",
       "<tr><td>eud_pp</td><td>551   </td><td>1291       </td><td>609    </td><td>817.0</td></tr>\n",
       "</tbody>\n",
       "</table>"
      ],
      "text/plain": [
       "<IPython.core.display.HTML object>"
      ]
     },
     "metadata": {},
     "output_type": "display_data"
    },
    {
     "name": "stdout",
     "output_type": "stream",
     "text": [
      "#-Graphs that have a directed path AT~~>OT or OT~~>AT:\n"
     ]
    },
    {
     "data": {
      "text/html": [
       "<table>\n",
       "<tbody>\n",
       "<tr><td>-     </td><td>device</td><td>restaurants</td><td>laptops</td><td>mean    </td></tr>\n",
       "<tr><td>spacy </td><td>225   </td><td>563        </td><td>286    </td><td>358.0   </td></tr>\n",
       "<tr><td>ud    </td><td>404   </td><td>1001       </td><td>461    </td><td>622.0   </td></tr>\n",
       "<tr><td>dm    </td><td>392   </td><td>898        </td><td>378    </td><td>556.0   </td></tr>\n",
       "<tr><td>psd   </td><td>200   </td><td>558        </td><td>263    </td><td>340.3333</td></tr>\n",
       "<tr><td>eud_pp</td><td>407   </td><td>1009       </td><td>467    </td><td>627.6667</td></tr>\n",
       "</tbody>\n",
       "</table>"
      ],
      "text/plain": [
       "<IPython.core.display.HTML object>"
      ]
     },
     "metadata": {},
     "output_type": "display_data"
    },
    {
     "name": "stdout",
     "output_type": "stream",
     "text": [
      "Mean of shortest path length between AT and OT (if exists):\n"
     ]
    },
    {
     "data": {
      "text/html": [
       "<table>\n",
       "<tbody>\n",
       "<tr><td>-     </td><td>device</td><td>restaurants</td><td>laptops</td><td>mean  </td></tr>\n",
       "<tr><td>spacy </td><td>1.3244</td><td>1.3552     </td><td>1.472  </td><td>1.3839</td></tr>\n",
       "<tr><td>ud    </td><td>1.1634</td><td>1.1379     </td><td>1.256  </td><td>1.1858</td></tr>\n",
       "<tr><td>dm    </td><td>1.125 </td><td>1.0846     </td><td>1.164  </td><td>1.1245</td></tr>\n",
       "<tr><td>psd   </td><td>1.165 </td><td>1.1882     </td><td>1.2357 </td><td>1.1963</td></tr>\n",
       "<tr><td>eud_pp</td><td>1.1572</td><td>1.1328     </td><td>1.227  </td><td>1.1723</td></tr>\n",
       "</tbody>\n",
       "</table>"
      ],
      "text/plain": [
       "<IPython.core.display.HTML object>"
      ]
     },
     "metadata": {},
     "output_type": "display_data"
    },
    {
     "name": "stdout",
     "output_type": "stream",
     "text": [
      "Distribution (Counter) of shortest path lengths between AT and OT:\n"
     ]
    },
    {
     "data": {
      "text/html": [
       "<table>\n",
       "<tbody>\n",
       "<tr><td>-     </td><td>device                                          </td><td>restaurants                                        </td><td>laptops                                                </td></tr>\n",
       "<tr><td>spacy </td><td>Counter({1: 178, 2: 34, 3: 6, 5: 4, 4: 2, 6: 1})</td><td>Counter({1: 423, 2: 102, 3: 22, 4: 11, 5: 4, 6: 1})</td><td>Counter({1: 204, 2: 51, 3: 21, 4: 4, 6: 3, 5: 2, 8: 1})</td></tr>\n",
       "<tr><td>ud    </td><td>Counter({1: 355, 2: 33, 3: 15, 4: 1})           </td><td>Counter({1: 901, 2: 70, 3: 23, 4: 6, 5: 1})        </td><td>Counter({1: 375, 2: 64, 3: 14, 4: 6, 5: 2})            </td></tr>\n",
       "<tr><td>dm    </td><td>Counter({1: 353, 2: 31, 3: 6, 4: 2})            </td><td>Counter({1: 833, 2: 59, 3: 4, 7: 1, 4: 1})         </td><td>Counter({1: 327, 2: 41, 3: 9, 4: 1})                   </td></tr>\n",
       "<tr><td>psd   </td><td>Counter({1: 178, 2: 13, 3: 7, 4: 2})            </td><td>Counter({1: 481, 2: 56, 3: 14, 4: 7})              </td><td>Counter({1: 222, 2: 28, 3: 9, 5: 2, 6: 1, 4: 1})       </td></tr>\n",
       "<tr><td>eud_pp</td><td>Counter({1: 360, 2: 31, 3: 15, 4: 1})           </td><td>Counter({1: 910, 2: 72, 3: 20, 4: 6, 5: 1})        </td><td>Counter({1: 389, 2: 58, 3: 14, 4: 4, 5: 2})            </td></tr>\n",
       "</tbody>\n",
       "</table>"
      ],
      "text/plain": [
       "<IPython.core.display.HTML object>"
      ]
     },
     "metadata": {},
     "output_type": "display_data"
    },
    {
     "name": "stdout",
     "output_type": "stream",
     "text": [
      "%-graphs with direct relation (out of all graphs):\n"
     ]
    },
    {
     "data": {
      "text/html": [
       "<table>\n",
       "<tbody>\n",
       "<tr><td>-     </td><td>device </td><td>restaurants</td><td>laptops</td><td>mean   </td></tr>\n",
       "<tr><td>spacy </td><td>32.3049</td><td>32.7653    </td><td>33.4975</td><td>32.8559</td></tr>\n",
       "<tr><td>ud    </td><td>64.4283</td><td>69.7909    </td><td>61.5764</td><td>65.2652</td></tr>\n",
       "<tr><td>dm    </td><td>64.0653</td><td>64.5236    </td><td>53.6946</td><td>60.7612</td></tr>\n",
       "<tr><td>psd   </td><td>32.3049</td><td>37.2579    </td><td>36.4532</td><td>35.3387</td></tr>\n",
       "<tr><td>eud_pp</td><td>65.3358</td><td>70.488     </td><td>63.8752</td><td>66.5663</td></tr>\n",
       "</tbody>\n",
       "</table>"
      ],
      "text/plain": [
       "<IPython.core.display.HTML object>"
      ]
     },
     "metadata": {},
     "output_type": "display_data"
    }
   ],
   "source": [
    "# display results in tables\n",
    "print(\"#-Graphs for analysis (single AT & single OT):\")\n",
    "display_ndict(count_indicative_graphs)\n",
    "print(\"#-Graphs that have a directed path AT~~>OT or OT~~>AT:\")\n",
    "display_ndict(count_is_directed_path)\n",
    "print(\"Mean of shortest path length between AT and OT (if exists):\")\n",
    "display_ndict(mean_directed_path_length)\n",
    "print(\"Distribution (Counter) of shortest path lengths between AT and OT:\")\n",
    "display_ndict(dist_directed_path_length, with_mean=False)\n",
    "print(\"%-graphs with direct relation (out of all graphs):\")\n",
    "display_ndict(percentage_direct_relation)\n"
   ]
  },
  {
   "cell_type": "markdown",
   "metadata": {},
   "source": [
    "## Compute average **undirected** path length between AT and OT"
   ]
  },
  {
   "cell_type": "code",
   "execution_count": 26,
   "metadata": {},
   "outputs": [],
   "source": [
    "def undirected_path_length(nxg: nx.DiGraph):\n",
    "    nxug = nxg.to_undirected()\n",
    "    def shortest_path_length(source, target) -> Union[int, None]:\n",
    "        try:\n",
    "            return nx.shortest_path_length(nxug, source=source, target=target)\n",
    "        except NetworkXNoPath:\n",
    "            return None\n",
    "        \n",
    "    # Return the minimum path length between an OT token and an AT token (AT<~~>OT)\n",
    "    path_lengths = [shortest_path_length(source_tokid, target_tokid)\n",
    "                    for source_tokid in range(*nxg.opinion_spans[0])\n",
    "                    for target_tokid in range(*nxg.aspect_spans[0])]\n",
    "    return filtered_f(path_lengths, min)\n",
    "\n",
    "# compute average undirected path length per formalism per domain. \n",
    "mean_undirected_path_length = defaultdict(dict)\n",
    "count_is_undirected_path = defaultdict(dict)\n",
    "dist_undirected_path_length = defaultdict(dict) # disribution of path lengths\n",
    "dist_cumm_rel_undirected_path_length = defaultdict(dict) # cummulative relative disribution of path lengths\n",
    "\n",
    "percentage_direct_relation = defaultdict(dict) # out of all indicative graphs, %-graphs with direct relation (path-length==1)\n",
    "\n",
    "for formalism in formalisms:\n",
    "    for domain in domains:\n",
    "        shortest_paths = [undirected_path_length(to_nx(g)) \n",
    "                          for g in all_indicative_graphs[formalism][domain]]\n",
    "        n_graphs = len(all_indicative_graphs[formalism][domain])\n",
    "        count_indicative_graphs[formalism][domain] = n_graphs\n",
    "        dist = filtered_f(shortest_paths, Counter) \n",
    "        dist_undirected_path_length[formalism][domain] = dist\n",
    "        dist_cumm_rel_undirected_path_length[formalism][domain] = \\\n",
    "            counter_as_accumulative(counter_as_relative(dist))\n",
    "        count_is_undirected_path[formalism][domain] = filtered_f(shortest_paths, len)\n",
    "        percentage_direct_relation[formalism][domain] = 100* (dist[1] / n_graphs)\n",
    "        mean_undirected_path_length[formalism][domain] = filtered_f(shortest_paths, np.mean)\n"
   ]
  },
  {
   "cell_type": "code",
   "execution_count": 27,
   "metadata": {},
   "outputs": [
    {
     "name": "stdout",
     "output_type": "stream",
     "text": [
      "#-Graphs for analysis (single AT & single OT):\n"
     ]
    },
    {
     "data": {
      "text/html": [
       "<table>\n",
       "<tbody>\n",
       "<tr><td>-     </td><td>device</td><td>restaurants</td><td>laptops</td><td>mean </td></tr>\n",
       "<tr><td>spacy </td><td>551   </td><td>1291       </td><td>609    </td><td>817.0</td></tr>\n",
       "<tr><td>ud    </td><td>551   </td><td>1291       </td><td>609    </td><td>817.0</td></tr>\n",
       "<tr><td>dm    </td><td>551   </td><td>1291       </td><td>609    </td><td>817.0</td></tr>\n",
       "<tr><td>psd   </td><td>551   </td><td>1291       </td><td>609    </td><td>817.0</td></tr>\n",
       "<tr><td>eud_pp</td><td>551   </td><td>1291       </td><td>609    </td><td>817.0</td></tr>\n",
       "</tbody>\n",
       "</table>"
      ],
      "text/plain": [
       "<IPython.core.display.HTML object>"
      ]
     },
     "metadata": {},
     "output_type": "display_data"
    },
    {
     "name": "stdout",
     "output_type": "stream",
     "text": [
      "#-Graphs that have an undirected path AT<~~>OT:\n"
     ]
    },
    {
     "data": {
      "text/html": [
       "<table>\n",
       "<tbody>\n",
       "<tr><td>-     </td><td>device</td><td>restaurants</td><td>laptops</td><td>mean    </td></tr>\n",
       "<tr><td>spacy </td><td>551   </td><td>1291       </td><td>609    </td><td>817.0   </td></tr>\n",
       "<tr><td>ud    </td><td>551   </td><td>1291       </td><td>609    </td><td>817.0   </td></tr>\n",
       "<tr><td>dm    </td><td>543   </td><td>1264       </td><td>592    </td><td>799.6667</td></tr>\n",
       "<tr><td>psd   </td><td>545   </td><td>1279       </td><td>593    </td><td>805.6667</td></tr>\n",
       "<tr><td>eud_pp</td><td>551   </td><td>1291       </td><td>609    </td><td>817.0   </td></tr>\n",
       "</tbody>\n",
       "</table>"
      ],
      "text/plain": [
       "<IPython.core.display.HTML object>"
      ]
     },
     "metadata": {},
     "output_type": "display_data"
    },
    {
     "name": "stdout",
     "output_type": "stream",
     "text": [
      "Mean of shortest undirected path length between AT and OT (if exists):\n"
     ]
    },
    {
     "data": {
      "text/html": [
       "<table>\n",
       "<tbody>\n",
       "<tr><td>-     </td><td>device</td><td>restaurants</td><td>laptops</td><td>mean  </td></tr>\n",
       "<tr><td>spacy </td><td>2.1797</td><td>2.1077     </td><td>2.2808 </td><td>2.1894</td></tr>\n",
       "<tr><td>ud    </td><td>1.5717</td><td>1.4833     </td><td>1.6502 </td><td>1.5684</td></tr>\n",
       "<tr><td>dm    </td><td>1.7145</td><td>1.697      </td><td>1.9611 </td><td>1.7909</td></tr>\n",
       "<tr><td>psd   </td><td>2.0606</td><td>1.9633     </td><td>2.059  </td><td>2.0276</td></tr>\n",
       "<tr><td>eud_pp</td><td>1.5554</td><td>1.4632     </td><td>1.6108 </td><td>1.5431</td></tr>\n",
       "</tbody>\n",
       "</table>"
      ],
      "text/plain": [
       "<IPython.core.display.HTML object>"
      ]
     },
     "metadata": {},
     "output_type": "display_data"
    },
    {
     "name": "stdout",
     "output_type": "stream",
     "text": [
      "Distribution (Counter) of shortest undirected path lengths between AT and OT:\n"
     ]
    },
    {
     "data": {
      "text/html": [
       "<table>\n",
       "<tbody>\n",
       "<tr><td>-     </td><td>device                                                                </td><td>restaurants                                                                    </td><td>laptops                                                          </td></tr>\n",
       "<tr><td>spacy </td><td>Counter({2: 235, 1: 178, 3: 67, 4: 28, 5: 28, 6: 8, 7: 5, 8: 1, 9: 1})</td><td>Counter({2: 557, 1: 423, 3: 175, 4: 71, 5: 40, 6: 10, 7: 8, 8: 5, 10: 1, 9: 1})</td><td>Counter({2: 209, 1: 204, 3: 97, 4: 54, 5: 24, 6: 11, 7: 6, 8: 4})</td></tr>\n",
       "<tr><td>ud    </td><td>Counter({1: 355, 2: 111, 3: 59, 4: 19, 5: 6, 6: 1})                   </td><td>Counter({1: 901, 2: 231, 3: 112, 4: 31, 5: 11, 7: 2, 6: 2, 11: 1})             </td><td>Counter({1: 375, 2: 131, 3: 58, 4: 34, 5: 8, 6: 3})              </td></tr>\n",
       "<tr><td>dm    </td><td>Counter({1: 353, 2: 79, 3: 60, 4: 30, 5: 13, 7: 3, 6: 3, 8: 2})       </td><td>Counter({1: 833, 2: 197, 3: 112, 4: 63, 5: 39, 6: 12, 7: 5, 9: 2, 10: 1})      </td><td>Counter({1: 327, 2: 110, 3: 76, 4: 40, 5: 17, 6: 15, 7: 6, 9: 1})</td></tr>\n",
       "<tr><td>psd   </td><td>Counter({2: 232, 1: 178, 3: 81, 4: 37, 5: 13, 6: 3, 7: 1})            </td><td>Counter({2: 541, 1: 481, 3: 140, 4: 75, 5: 32, 6: 6, 7: 2, 8: 1, 10: 1})       </td><td>Counter({1: 222, 2: 216, 3: 91, 4: 38, 5: 17, 6: 6, 7: 3})       </td></tr>\n",
       "<tr><td>eud_pp</td><td>Counter({1: 360, 2: 108, 3: 57, 4: 21, 5: 4, 6: 1})                   </td><td>Counter({1: 910, 2: 234, 3: 103, 4: 29, 5: 11, 7: 2, 6: 1, 11: 1})             </td><td>Counter({1: 389, 2: 120, 3: 61, 4: 29, 5: 7, 6: 3})              </td></tr>\n",
       "</tbody>\n",
       "</table>"
      ],
      "text/plain": [
       "<IPython.core.display.HTML object>"
      ]
     },
     "metadata": {},
     "output_type": "display_data"
    },
    {
     "name": "stdout",
     "output_type": "stream",
     "text": [
      "Cummlative Relative Distribution (Counter) of these path lengths:\n"
     ]
    },
    {
     "data": {
      "text/html": [
       "<table>\n",
       "<tbody>\n",
       "<tr><td>-     </td><td>device                                                                                                                                                                                           </td><td>restaurants                                                                                                                                                                                                             </td><td>laptops                                                                                                                                                                                  </td></tr>\n",
       "<tr><td>spacy </td><td>{1: 0.32304900181488205, 2: 0.7495462794918331, 3: 0.8711433756805808, 4: 0.9219600725952813, 5: 0.9727767695099819, 6: 0.9872958257713249, 7: 0.9963702359346643, 8: 0.9981851179673322, 9: 1.0}</td><td>{1: 0.32765298218435324, 2: 0.7591014717273432, 3: 0.8946553059643687, 4: 0.9496514329976762, 5: 0.9806351665375678, 6: 0.9883810999225406, 7: 0.994577846630519, 8: 0.9984508133230054, 9: 0.9992254066615027, 10: 1.0}</td><td>{1: 0.33497536945812806, 2: 0.6781609195402298, 3: 0.8374384236453202, 4: 0.9261083743842364, 5: 0.9655172413793103, 6: 0.9835796387520525, 7: 0.9934318555008209, 8: 0.9999999999999999}</td></tr>\n",
       "<tr><td>ud    </td><td>{1: 0.6442831215970962, 2: 0.8457350272232305, 3: 0.9528130671506352, 4: 0.9872958257713248, 5: 0.998185117967332, 6: 0.9999999999999999}                                                        </td><td>{1: 0.6979085979860573, 2: 0.876839659178931, 3: 0.9635941130906274, 4: 0.9876065065840434, 5: 0.9961270333075135, 6: 0.9976762199845081, 7: 0.9992254066615026, 11: 0.9999999999999999}                                </td><td>{1: 0.6157635467980296, 2: 0.8308702791461412, 3: 0.9261083743842364, 4: 0.9819376026272578, 5: 0.9950738916256158, 6: 1.0}                                                              </td></tr>\n",
       "<tr><td>dm    </td><td>{1: 0.6500920810313076, 2: 0.7955801104972375, 3: 0.9060773480662982, 4: 0.9613259668508286, 5: 0.9852670349907918, 6: 0.9907918968692448, 7: 0.9963167587476979, 8: 0.9999999999999999}         </td><td>{1: 0.6590189873417721, 2: 0.8148734177215189, 3: 0.9034810126582278, 4: 0.9533227848101266, 5: 0.9841772151898734, 6: 0.9936708860759494, 7: 0.9976265822784811, 9: 0.9992088607594938, 10: 1.0}                       </td><td>{1: 0.5523648648648649, 2: 0.7381756756756757, 3: 0.8665540540540541, 4: 0.9341216216216216, 5: 0.9628378378378378, 6: 0.9881756756756757, 7: 0.9983108108108107, 9: 0.9999999999999999} </td></tr>\n",
       "<tr><td>psd   </td><td>{1: 0.326605504587156, 2: 0.7522935779816514, 3: 0.9009174311926607, 4: 0.9688073394495413, 5: 0.9926605504587156, 6: 0.998165137614679, 7: 1.0}                                                 </td><td>{1: 0.37607505863956214, 2: 0.7990617670054729, 3: 0.9085222830336199, 4: 0.9671618451915558, 5: 0.9921813917122752, 6: 0.99687255668491, 7: 0.998436278342455, 8: 0.9992181391712275, 10: 1.0}                         </td><td>{1: 0.37436762225969644, 2: 0.7386172006745362, 3: 0.8920741989881955, 4: 0.9561551433389543, 5: 0.9848229342327149, 6: 0.9949409780775716, 7: 1.0}                                      </td></tr>\n",
       "<tr><td>eud_pp</td><td>{1: 0.6533575317604355, 2: 0.8493647912885662, 3: 0.9528130671506352, 4: 0.9909255898366606, 5: 0.9981851179673321, 6: 1.0}                                                                      </td><td>{1: 0.7048799380325329, 2: 0.8861347792408985, 3: 0.9659178931061192, 4: 0.9883810999225405, 5: 0.9969016266460107, 6: 0.997676219984508, 7: 0.9992254066615025, 11: 0.9999999999999998}                                </td><td>{1: 0.638752052545156, 2: 0.8357963875205254, 3: 0.9359605911330049, 4: 0.9835796387520526, 5: 0.9950738916256158, 6: 1.0}                                                               </td></tr>\n",
       "</tbody>\n",
       "</table>"
      ],
      "text/plain": [
       "<IPython.core.display.HTML object>"
      ]
     },
     "metadata": {},
     "output_type": "display_data"
    },
    {
     "name": "stdout",
     "output_type": "stream",
     "text": [
      "%-graphs with direct (undirected) relation (out of all graphs):\n"
     ]
    },
    {
     "data": {
      "text/html": [
       "<table>\n",
       "<tbody>\n",
       "<tr><td>-     </td><td>device </td><td>restaurants</td><td>laptops</td><td>mean   </td></tr>\n",
       "<tr><td>spacy </td><td>32.3049</td><td>32.7653    </td><td>33.4975</td><td>32.8559</td></tr>\n",
       "<tr><td>ud    </td><td>64.4283</td><td>69.7909    </td><td>61.5764</td><td>65.2652</td></tr>\n",
       "<tr><td>dm    </td><td>64.0653</td><td>64.5236    </td><td>53.6946</td><td>60.7612</td></tr>\n",
       "<tr><td>psd   </td><td>32.3049</td><td>37.2579    </td><td>36.4532</td><td>35.3387</td></tr>\n",
       "<tr><td>eud_pp</td><td>65.3358</td><td>70.488     </td><td>63.8752</td><td>66.5663</td></tr>\n",
       "</tbody>\n",
       "</table>"
      ],
      "text/plain": [
       "<IPython.core.display.HTML object>"
      ]
     },
     "metadata": {},
     "output_type": "display_data"
    }
   ],
   "source": [
    "# display results in tables\n",
    "print(\"#-Graphs for analysis (single AT & single OT):\")\n",
    "display_ndict(count_indicative_graphs)\n",
    "print(\"#-Graphs that have an undirected path AT<~~>OT:\")\n",
    "display_ndict(count_is_undirected_path)\n",
    "print(\"Mean of shortest undirected path length between AT and OT (if exists):\")\n",
    "display_ndict(mean_undirected_path_length)\n",
    "print(\"Distribution (Counter) of shortest undirected path lengths between AT and OT:\")\n",
    "display_ndict(dist_undirected_path_length, with_mean=False)\n",
    "print(\"Cummlative Relative Distribution (Counter) of these path lengths:\")\n",
    "display_ndict(dist_cumm_rel_undirected_path_length, with_mean=False)\n",
    "print(\"%-graphs with direct (undirected) relation (out of all graphs):\")\n",
    "display_ndict(percentage_direct_relation)"
   ]
  },
  {
   "cell_type": "markdown",
   "metadata": {},
   "source": [
    "## Path Patterns\n",
    "Analyze the path-patterns between OT and AT.\n",
    "\n",
    "Let's support several kinds of path-patterns:\n",
    "\n",
    "* A `deplbl` path-pattern would be a list of dependecy labels in the path, where `OT` and `AT` are marked in the begin & end of path (by directionality), and other nodes are hidden. E.g. `[AT, dobj, *, nsubjpass, OT]`.\n",
    "* A `pos-deplbl` path-pattern would be a list of node's- POS and dependecy labels in the path, where `OT` and `AT` are marked instead of POS in the begin & end of path. E.g. `[AT, dobj, NN, nsubjpass, OT]`.  \n",
    "\n",
    "Then, we will compute frequency distributions of these patterns, and find the most common ones.\n",
    "We will also compute similarity between distributions of different domains, to assess domain-abstraction.\n"
   ]
  },
  {
   "cell_type": "markdown",
   "metadata": {},
   "source": [
    "### Produce `deplbl` path-patterns"
   ]
  },
  {
   "cell_type": "code",
   "execution_count": 28,
   "metadata": {},
   "outputs": [],
   "source": [
    "def deplbl_path_pattern(nxg: nx.DiGraph) -> Union[List[str], None]:\n",
    "    \"\"\" \n",
    "    Return the deplbl path-pettern of the shortest OT~~AT path in the graph. \n",
    "    Return None if no directed OT~~AT path exists.\n",
    "    \"\"\"\n",
    "    def shortest_path(source, target) -> Union[List[int], None]:\n",
    "        try:\n",
    "            return nx.shortest_path(nxg, source=source, target=target)\n",
    "        except NetworkXNoPath:\n",
    "            return None\n",
    "        \n",
    "    # Return the minimum path length between an OT token and an AT token (either AT~~>OT or OT~~>AT)\n",
    "    OT2AT_paths = [shortest_path(source_tokid, target_tokid) \n",
    "                          for source_tokid in range(*nxg.opinion_spans[0])\n",
    "                          for target_tokid in range(*nxg.aspect_spans[0])]\n",
    "    AT2OT_paths = [shortest_path(source_tokid, target_tokid) \n",
    "                          for source_tokid in range(*nxg.aspect_spans[0])\n",
    "                          for target_tokid in range(*nxg.opinion_spans[0])]\n",
    "    tok_paths = filtered(OT2AT_paths + AT2OT_paths)\n",
    "    if not tok_paths:\n",
    "        return None\n",
    "    shortest_ATOT_path = sorted(tok_paths, key=len)[0]\n",
    "    \n",
    "    def node_repr(node_id: int) -> str: \n",
    "        \"\"\" for `deplbl` patterns, only state whether it is an AT or OT onde\"\"\"\n",
    "        if nxg.g.nodes[node_id].opinion_term: return \"OT\"\n",
    "        elif nxg.g.nodes[node_id].aspect_term: return \"AT\"\n",
    "        else: return \"*\"\n",
    "    def edge_repr(u: int, v: int) -> str:\n",
    "        \"\"\" return dependency-label. \"\"\"\n",
    "        return nxg.edges[(u,v)]['lab']\n",
    "    \n",
    "    def nxpath_to_path_pattern(path) -> List[str]:\n",
    "        \"\"\" Generate path-pattern from nx.path. \"\"\"\n",
    "        if not path:\n",
    "            return path\n",
    "        pattern = [node_repr(path[0])] # first node\n",
    "        # iteratively add <edge>, <node> from path\n",
    "        for i in range(1, len(path)):\n",
    "            pattern.append(edge_repr(path[i-1], path[i]))\n",
    "            pattern.append(node_repr(path[i]))\n",
    "        return pattern\n",
    "        \n",
    "    return nxpath_to_path_pattern(shortest_ATOT_path)\n"
   ]
  },
  {
   "cell_type": "code",
   "execution_count": 29,
   "metadata": {},
   "outputs": [
    {
     "data": {
      "text/html": [
       "<table>\n",
       "<tbody>\n",
       "<tr><td>-     </td><td>device                                                                                                                                                                                                                                                                                                                                                                                </td><td>restaurants                                                                                                                                                                                                                                                                                                                                                                               </td><td>laptops                                                                                                                                                                                                                                                                                                                                                          </td></tr>\n",
       "<tr><td>spacy </td><td>[(&quot;[&#x27;AT&#x27;, &#x27;amod&#x27;, &#x27;OT&#x27;]&quot;, 107), (&quot;[&#x27;OT&#x27;, &#x27;dobj&#x27;, &#x27;AT&#x27;]&quot;, 23), (&quot;[&#x27;OT&#x27;, &#x27;nsubj&#x27;, &#x27;AT&#x27;]&quot;, 19), (&quot;[&#x27;OT&#x27;, &#x27;prep&#x27;, &#x27;*&#x27;, &#x27;pobj&#x27;, &#x27;AT&#x27;]&quot;, 16), (&quot;[&#x27;OT&#x27;, &#x27;xcomp&#x27;, &#x27;AT&#x27;]&quot;, 7), (&quot;[&#x27;AT&#x27;, &#x27;relcl&#x27;, &#x27;*&#x27;, &#x27;acomp&#x27;, &#x27;OT&#x27;]&quot;, 5), (&quot;[&#x27;AT&#x27;, &#x27;advmod&#x27;, &#x27;OT&#x27;]&quot;, 5), (&quot;[&#x27;AT&#x27;, &#x27;acomp&#x27;, &#x27;OT&#x27;]&quot;, 5), (&quot;[&#x27;OT&#x27;, &#x27;ccomp&#x27;, &#x27;*&#x27;, &#x27;dobj&#x27;, &#x27;AT&#x27;]&quot;, 2), (&quot;[&#x27;OT&#x27;, &#x27;nsubjpass&#x27;, &#x27;AT&#x27;]&quot;, 2)]                           </td><td>[(&quot;[&#x27;AT&#x27;, &#x27;amod&#x27;, &#x27;OT&#x27;]&quot;, 292), (&quot;[&#x27;OT&#x27;, &#x27;dobj&#x27;, &#x27;AT&#x27;]&quot;, 68), (&quot;[&#x27;OT&#x27;, &#x27;prep&#x27;, &#x27;*&#x27;, &#x27;pobj&#x27;, &#x27;AT&#x27;]&quot;, 47), (&quot;[&#x27;AT&#x27;, &#x27;relcl&#x27;, &#x27;*&#x27;, &#x27;acomp&#x27;, &#x27;OT&#x27;]&quot;, 23), (&quot;[&#x27;OT&#x27;, &#x27;nsubj&#x27;, &#x27;AT&#x27;]&quot;, 18), (&quot;[&#x27;AT&#x27;, &#x27;compound&#x27;, &#x27;OT&#x27;]&quot;, 12), (&quot;[&#x27;OT&#x27;, &#x27;nsubjpass&#x27;, &#x27;AT&#x27;]&quot;, 9), (&quot;[&#x27;AT&#x27;, &#x27;advmod&#x27;, &#x27;OT&#x27;]&quot;, 7), (&quot;[&#x27;OT&#x27;, &#x27;npadvmod&#x27;, &#x27;AT&#x27;]&quot;, 4), (&quot;[&#x27;AT&#x27;, &#x27;appos&#x27;, &#x27;*&#x27;, &#x27;amod&#x27;, &#x27;OT&#x27;]&quot;, 3)]                       </td><td>[(&quot;[&#x27;AT&#x27;, &#x27;amod&#x27;, &#x27;OT&#x27;]&quot;, 67), (&quot;[&#x27;OT&#x27;, &#x27;nsubj&#x27;, &#x27;AT&#x27;]&quot;, 32), (&quot;[&#x27;OT&#x27;, &#x27;prep&#x27;, &#x27;*&#x27;, &#x27;pobj&#x27;, &#x27;AT&#x27;]&quot;, 29), (&quot;[&#x27;OT&#x27;, &#x27;dobj&#x27;, &#x27;AT&#x27;]&quot;, 24), (&quot;[&#x27;AT&#x27;, &#x27;advmod&#x27;, &#x27;OT&#x27;]&quot;, 18), (&quot;[&#x27;OT&#x27;, &#x27;xcomp&#x27;, &#x27;AT&#x27;]&quot;, 15), (&quot;[&#x27;OT&#x27;, &#x27;pobj&#x27;, &#x27;AT&#x27;]&quot;, 11), (&quot;[&#x27;OT&#x27;, &#x27;nsubjpass&#x27;, &#x27;AT&#x27;]&quot;, 9), (&quot;[&#x27;AT&#x27;, &#x27;acomp&#x27;, &#x27;OT&#x27;]&quot;, 5), (&quot;[&#x27;OT&#x27;, &#x27;compound&#x27;, &#x27;AT&#x27;]&quot;, 4)]                             </td></tr>\n",
       "<tr><td>ud    </td><td>[(&quot;[&#x27;OT&#x27;, &#x27;nsubj&#x27;, &#x27;AT&#x27;]&quot;, 160), (&quot;[&#x27;AT&#x27;, &#x27;amod&#x27;, &#x27;OT&#x27;]&quot;, 100), (&quot;[&#x27;OT&#x27;, &#x27;obj&#x27;, &#x27;AT&#x27;]&quot;, 22), (&quot;[&#x27;OT&#x27;, &#x27;obl&#x27;, &#x27;AT&#x27;]&quot;, 16), (&quot;[&#x27;AT&#x27;, &#x27;xcomp&#x27;, &#x27;OT&#x27;]&quot;, 6), (&quot;[&#x27;OT&#x27;, &#x27;nsubj&#x27;, &#x27;*&#x27;, &#x27;nmod&#x27;, &#x27;AT&#x27;]&quot;, 5), (&quot;[&#x27;AT&#x27;, &#x27;acl:relcl&#x27;, &#x27;OT&#x27;]&quot;, 5), (&quot;[&#x27;OT&#x27;, &#x27;ccomp&#x27;, &#x27;AT&#x27;]&quot;, 5), (&quot;[&#x27;OT&#x27;, &#x27;advcl&#x27;, &#x27;AT&#x27;]&quot;, 5), (&quot;[&#x27;AT&#x27;, &#x27;advmod&#x27;, &#x27;OT&#x27;]&quot;, 4)]                                                       </td><td>[(&quot;[&#x27;OT&#x27;, &#x27;nsubj&#x27;, &#x27;AT&#x27;]&quot;, 391), (&quot;[&#x27;AT&#x27;, &#x27;amod&#x27;, &#x27;OT&#x27;]&quot;, 298), (&quot;[&#x27;OT&#x27;, &#x27;obj&#x27;, &#x27;AT&#x27;]&quot;, 63), (&quot;[&#x27;OT&#x27;, &#x27;obl&#x27;, &#x27;AT&#x27;]&quot;, 40), (&quot;[&#x27;AT&#x27;, &#x27;acl:relcl&#x27;, &#x27;OT&#x27;]&quot;, 20), (&quot;[&#x27;OT&#x27;, &#x27;nmod&#x27;, &#x27;AT&#x27;]&quot;, 17), (&quot;[&#x27;AT&#x27;, &#x27;compound&#x27;, &#x27;OT&#x27;]&quot;, 17), (&quot;[&#x27;OT&#x27;, &#x27;nsubj:pass&#x27;, &#x27;AT&#x27;]&quot;, 11), (&quot;[&#x27;AT&#x27;, &#x27;advmod&#x27;, &#x27;OT&#x27;]&quot;, 8), (&quot;[&#x27;OT&#x27;, &#x27;conj&#x27;, &#x27;AT&#x27;]&quot;, 7)]                                                              </td><td>[(&quot;[&#x27;OT&#x27;, &#x27;nsubj&#x27;, &#x27;AT&#x27;]&quot;, 147), (&quot;[&#x27;AT&#x27;, &#x27;amod&#x27;, &#x27;OT&#x27;]&quot;, 63), (&quot;[&#x27;OT&#x27;, &#x27;obl&#x27;, &#x27;AT&#x27;]&quot;, 28), (&quot;[&#x27;OT&#x27;, &#x27;obj&#x27;, &#x27;AT&#x27;]&quot;, 25), (&quot;[&#x27;AT&#x27;, &#x27;advmod&#x27;, &#x27;OT&#x27;]&quot;, 19), (&quot;[&#x27;OT&#x27;, &#x27;ccomp&#x27;, &#x27;AT&#x27;]&quot;, 10), (&quot;[&#x27;OT&#x27;, &#x27;nmod&#x27;, &#x27;AT&#x27;]&quot;, 9), (&quot;[&#x27;AT&#x27;, &#x27;case&#x27;, &#x27;OT&#x27;]&quot;, 8), (&quot;[&#x27;OT&#x27;, &#x27;nsubj:pass&#x27;, &#x27;AT&#x27;]&quot;, 6), (&quot;[&#x27;OT&#x27;, &#x27;compound&#x27;, &#x27;AT&#x27;]&quot;, 6)]                                            </td></tr>\n",
       "<tr><td>dm    </td><td>[(&quot;[&#x27;OT&#x27;, &#x27;ARG1&#x27;, &#x27;AT&#x27;]&quot;, 308), (&quot;[&#x27;OT&#x27;, &#x27;ARG2&#x27;, &#x27;AT&#x27;]&quot;, 31), (&quot;[&#x27;OT&#x27;, &#x27;ARG1&#x27;, &#x27;*&#x27;, &#x27;ARG1&#x27;, &#x27;AT&#x27;]&quot;, 10), (&quot;[&#x27;OT&#x27;, &#x27;ARG1&#x27;, &#x27;*&#x27;, &#x27;ARG2&#x27;, &#x27;AT&#x27;]&quot;, 9), (&quot;[&#x27;OT&#x27;, &#x27;ARG2&#x27;, &#x27;*&#x27;, &#x27;ARG2&#x27;, &#x27;AT&#x27;]&quot;, 4), (&quot;[&#x27;AT&#x27;, &#x27;ARG2&#x27;, &#x27;OT&#x27;]&quot;, 4), (&quot;[&#x27;OT&#x27;, &#x27;subord&#x27;, &#x27;*&#x27;, &#x27;ARG1&#x27;, &#x27;AT&#x27;]&quot;, 3), (&quot;[&#x27;OT&#x27;, &#x27;appos&#x27;, &#x27;AT&#x27;]&quot;, 2), (&quot;[&#x27;OT&#x27;, &#x27;subord&#x27;, &#x27;*&#x27;, &#x27;ARG2&#x27;, &#x27;AT&#x27;]&quot;, 2), (&quot;[&#x27;OT&#x27;, &#x27;compound&#x27;, &#x27;AT&#x27;]&quot;, 2)]      </td><td>[(&quot;[&#x27;OT&#x27;, &#x27;ARG1&#x27;, &#x27;AT&#x27;]&quot;, 709), (&quot;[&#x27;OT&#x27;, &#x27;ARG2&#x27;, &#x27;AT&#x27;]&quot;, 96), (&quot;[&#x27;OT&#x27;, &#x27;compound&#x27;, &#x27;AT&#x27;]&quot;, 15), (&quot;[&#x27;OT&#x27;, &#x27;ARG1&#x27;, &#x27;*&#x27;, &#x27;ARG1&#x27;, &#x27;AT&#x27;]&quot;, 15), (&quot;[&#x27;OT&#x27;, &#x27;ARG1&#x27;, &#x27;*&#x27;, &#x27;ARG2&#x27;, &#x27;AT&#x27;]&quot;, 9), (&quot;[&#x27;OT&#x27;, &#x27;ARG2&#x27;, &#x27;*&#x27;, &#x27;ARG2&#x27;, &#x27;AT&#x27;]&quot;, 7), (&quot;[&#x27;OT&#x27;, &#x27;ARG1&#x27;, &#x27;*&#x27;, &#x27;appos&#x27;, &#x27;AT&#x27;]&quot;, 6), (&quot;[&#x27;OT&#x27;, &#x27;ARG1&#x27;, &#x27;*&#x27;, &#x27;part&#x27;, &#x27;AT&#x27;]&quot;, 5), (&quot;[&#x27;OT&#x27;, &#x27;subord&#x27;, &#x27;*&#x27;, &#x27;ARG1&#x27;, &#x27;AT&#x27;]&quot;, 4), (&quot;[&#x27;OT&#x27;, &#x27;BV&#x27;, &#x27;AT&#x27;]&quot;, 2)]</td><td>[(&quot;[&#x27;OT&#x27;, &#x27;ARG1&#x27;, &#x27;AT&#x27;]&quot;, 244), (&quot;[&#x27;OT&#x27;, &#x27;ARG2&#x27;, &#x27;AT&#x27;]&quot;, 53), (&quot;[&#x27;OT&#x27;, &#x27;ARG1&#x27;, &#x27;*&#x27;, &#x27;ARG1&#x27;, &#x27;AT&#x27;]&quot;, 14), (&quot;[&#x27;OT&#x27;, &#x27;ARG1&#x27;, &#x27;*&#x27;, &#x27;ARG2&#x27;, &#x27;AT&#x27;]&quot;, 8), (&quot;[&#x27;OT&#x27;, &#x27;compound&#x27;, &#x27;AT&#x27;]&quot;, 7), (&quot;[&#x27;AT&#x27;, &#x27;compound&#x27;, &#x27;OT&#x27;]&quot;, 6), (&quot;[&#x27;OT&#x27;, &#x27;ARG2&#x27;, &#x27;*&#x27;, &#x27;ARG2&#x27;, &#x27;AT&#x27;]&quot;, 5), (&quot;[&#x27;OT&#x27;, &#x27;BV&#x27;, &#x27;AT&#x27;]&quot;, 3), (&quot;[&#x27;OT&#x27;, &#x27;loc&#x27;, &#x27;AT&#x27;]&quot;, 3), (&quot;[&#x27;OT&#x27;, &#x27;_and_c&#x27;, &#x27;AT&#x27;]&quot;, 2)]             </td></tr>\n",
       "<tr><td>psd   </td><td>[(&quot;[&#x27;AT&#x27;, &#x27;RSTR&#x27;, &#x27;OT&#x27;]&quot;, 104), (&quot;[&#x27;OT&#x27;, &#x27;PAT-arg&#x27;, &#x27;AT&#x27;]&quot;, 33), (&quot;[&#x27;OT&#x27;, &#x27;ACT-arg&#x27;, &#x27;AT&#x27;]&quot;, 19), (&quot;[&#x27;AT&#x27;, &#x27;MANN&#x27;, &#x27;OT&#x27;]&quot;, 6), (&quot;[&#x27;OT&#x27;, &#x27;PAT-arg&#x27;, &#x27;*&#x27;, &#x27;PAT-arg&#x27;, &#x27;AT&#x27;]&quot;, 4), (&quot;[&#x27;AT&#x27;, &#x27;RSTR&#x27;, &#x27;*&#x27;, &#x27;PAT-arg&#x27;, &#x27;OT&#x27;]&quot;, 4), (&quot;[&#x27;AT&#x27;, &#x27;PAT-arg&#x27;, &#x27;OT&#x27;]&quot;, 3), (&quot;[&#x27;OT&#x27;, &#x27;PAT-arg&#x27;, &#x27;*&#x27;, &#x27;PAT-arg&#x27;, &#x27;*&#x27;, &#x27;PAT-arg&#x27;, &#x27;AT&#x27;]&quot;, 3), (&quot;[&#x27;OT&#x27;, &#x27;ACMP&#x27;, &#x27;AT&#x27;]&quot;, 2), (&quot;[&#x27;OT&#x27;, &#x27;MEANS&#x27;, &#x27;AT&#x27;]&quot;, 2)]</td><td>[(&quot;[&#x27;AT&#x27;, &#x27;RSTR&#x27;, &#x27;OT&#x27;]&quot;, 311), (&quot;[&#x27;OT&#x27;, &#x27;PAT-arg&#x27;, &#x27;AT&#x27;]&quot;, 100), (&quot;[&#x27;OT&#x27;, &#x27;ACT-arg&#x27;, &#x27;AT&#x27;]&quot;, 24), (&quot;[&#x27;AT&#x27;, &#x27;RSTR&#x27;, &#x27;*&#x27;, &#x27;PAT-arg&#x27;, &#x27;OT&#x27;]&quot;, 14), (&quot;[&#x27;AT&#x27;, &#x27;DESCR&#x27;, &#x27;*&#x27;, &#x27;PAT-arg&#x27;, &#x27;OT&#x27;]&quot;, 11), (&quot;[&#x27;AT&#x27;, &#x27;MANN&#x27;, &#x27;OT&#x27;]&quot;, 8), (&quot;[&#x27;OT&#x27;, &#x27;REG&#x27;, &#x27;AT&#x27;]&quot;, 7), (&quot;[&#x27;OT&#x27;, &#x27;PAT-arg&#x27;, &#x27;*&#x27;, &#x27;PAT-arg&#x27;, &#x27;AT&#x27;]&quot;, 6), (&quot;[&#x27;OT&#x27;, &#x27;AIM&#x27;, &#x27;AT&#x27;]&quot;, 4), (&quot;[&#x27;OT&#x27;, &#x27;MAT&#x27;, &#x27;AT&#x27;]&quot;, 4)]                          </td><td>[(&quot;[&#x27;AT&#x27;, &#x27;RSTR&#x27;, &#x27;OT&#x27;]&quot;, 72), (&quot;[&#x27;OT&#x27;, &#x27;PAT-arg&#x27;, &#x27;AT&#x27;]&quot;, 53), (&quot;[&#x27;OT&#x27;, &#x27;ACT-arg&#x27;, &#x27;AT&#x27;]&quot;, 42), (&quot;[&#x27;AT&#x27;, &#x27;MANN&#x27;, &#x27;OT&#x27;]&quot;, 22), (&quot;[&#x27;OT&#x27;, &#x27;REG&#x27;, &#x27;AT&#x27;]&quot;, 7), (&quot;[&#x27;OT&#x27;, &#x27;PAT-arg&#x27;, &#x27;*&#x27;, &#x27;PAT-arg&#x27;, &#x27;AT&#x27;]&quot;, 7), (&quot;[&#x27;AT&#x27;, &#x27;RSTR&#x27;, &#x27;*&#x27;, &#x27;PAT-arg&#x27;, &#x27;OT&#x27;]&quot;, 5), (&quot;[&#x27;OT&#x27;, &#x27;RSTR&#x27;, &#x27;AT&#x27;]&quot;, 4), (&quot;[&#x27;AT&#x27;, &#x27;RHEM&#x27;, &#x27;OT&#x27;]&quot;, 3), (&quot;[&#x27;AT&#x27;, &#x27;ACT-arg&#x27;, &#x27;*&#x27;, &#x27;PAT-arg&#x27;, &#x27;OT&#x27;]&quot;, 2)]</td></tr>\n",
       "<tr><td>eud_pp</td><td>[(&quot;[&#x27;OT&#x27;, &#x27;nsubj&#x27;, &#x27;AT&#x27;]&quot;, 163), (&quot;[&#x27;AT&#x27;, &#x27;amod&#x27;, &#x27;OT&#x27;]&quot;, 100), (&quot;[&#x27;OT&#x27;, &#x27;obj&#x27;, &#x27;AT&#x27;]&quot;, 22), (&quot;[&#x27;OT&#x27;, &#x27;obl&#x27;, &#x27;AT&#x27;]&quot;, 16), (&quot;[&#x27;AT&#x27;, &#x27;xcomp&#x27;, &#x27;OT&#x27;]&quot;, 6), (&quot;[&#x27;AT&#x27;, &#x27;acl:relcl&#x27;, &#x27;OT&#x27;]&quot;, 5), (&quot;[&#x27;OT&#x27;, &#x27;ccomp&#x27;, &#x27;AT&#x27;]&quot;, 5), (&quot;[&#x27;AT&#x27;, &#x27;advmod&#x27;, &#x27;OT&#x27;]&quot;, 4), (&quot;[&#x27;AT&#x27;, &#x27;appos&#x27;, &#x27;OT&#x27;]&quot;, 4), (&quot;[&#x27;OT&#x27;, &#x27;nsubj:pass&#x27;, &#x27;AT&#x27;]&quot;, 3)]                                                               </td><td>[(&quot;[&#x27;OT&#x27;, &#x27;nsubj&#x27;, &#x27;AT&#x27;]&quot;, 396), (&quot;[&#x27;AT&#x27;, &#x27;amod&#x27;, &#x27;OT&#x27;]&quot;, 299), (&quot;[&#x27;OT&#x27;, &#x27;obj&#x27;, &#x27;AT&#x27;]&quot;, 63), (&quot;[&#x27;OT&#x27;, &#x27;obl&#x27;, &#x27;AT&#x27;]&quot;, 40), (&quot;[&#x27;AT&#x27;, &#x27;acl:relcl&#x27;, &#x27;OT&#x27;]&quot;, 21), (&quot;[&#x27;AT&#x27;, &#x27;compound&#x27;, &#x27;OT&#x27;]&quot;, 17), (&quot;[&#x27;OT&#x27;, &#x27;nsubj:pass&#x27;, &#x27;AT&#x27;]&quot;, 12), (&quot;[&#x27;AT&#x27;, &#x27;advmod&#x27;, &#x27;OT&#x27;]&quot;, 8), (&quot;[&#x27;OT&#x27;, &#x27;nmod:of&#x27;, &#x27;AT&#x27;]&quot;, 7), (&quot;[&#x27;AT&#x27;, &#x27;nsubj&#x27;, &#x27;OT&#x27;]&quot;, 6)]                                                           </td><td>[(&quot;[&#x27;OT&#x27;, &#x27;nsubj&#x27;, &#x27;AT&#x27;]&quot;, 151), (&quot;[&#x27;AT&#x27;, &#x27;amod&#x27;, &#x27;OT&#x27;]&quot;, 63), (&quot;[&#x27;OT&#x27;, &#x27;obl&#x27;, &#x27;AT&#x27;]&quot;, 31), (&quot;[&#x27;OT&#x27;, &#x27;obj&#x27;, &#x27;AT&#x27;]&quot;, 25), (&quot;[&#x27;AT&#x27;, &#x27;advmod&#x27;, &#x27;OT&#x27;]&quot;, 19), (&quot;[&#x27;OT&#x27;, &#x27;ccomp&#x27;, &#x27;AT&#x27;]&quot;, 10), (&quot;[&#x27;AT&#x27;, &#x27;case&#x27;, &#x27;OT&#x27;]&quot;, 8), (&quot;[&#x27;OT&#x27;, &#x27;csubj&#x27;, &#x27;AT&#x27;]&quot;, 6), (&quot;[&#x27;OT&#x27;, &#x27;nsubj:pass&#x27;, &#x27;AT&#x27;]&quot;, 6), (&quot;[&#x27;OT&#x27;, &#x27;compound&#x27;, &#x27;AT&#x27;]&quot;, 6)]                                           </td></tr>\n",
       "</tbody>\n",
       "</table>"
      ],
      "text/plain": [
       "<IPython.core.display.HTML object>"
      ]
     },
     "metadata": {},
     "output_type": "display_data"
    }
   ],
   "source": [
    "# collect all path patterns\n",
    "deplbl_patterns = defaultdict(dict) # all patterns as list objects\n",
    "deplbl_pattern_strs = defaultdict(dict) # all patterns as string representation\n",
    "deplbl_counters = defaultdict(dict) # frequency distribution\n",
    "deplbl_top10 = defaultdict(dict) # top 10 most common patterns\n",
    "deplbl_n_patterns = defaultdict(dict) # number of different patterns\n",
    "pattern2graphs = defaultdict(lambda: defaultdict(list)) # map pattern-string to list of graphs (cross-domain)\n",
    "\n",
    "for formalism in formalisms:\n",
    "    for domain in domains:\n",
    "        patterns = []\n",
    "        for g in all_indicative_graphs[formalism][domain]:\n",
    "            pattern = deplbl_path_pattern(to_nx(g))\n",
    "            patterns.append(pattern)\n",
    "            if pattern:\n",
    "                pattern2graphs[formalism][repr(pattern)].append(g)\n",
    "                                 \n",
    "        filtered_patterns = filtered(patterns)\n",
    "        deplbl_patterns[formalism][domain] = filtered_patterns\n",
    "        deplbl_pattern_strs[formalism][domain] = [repr(p) for p in filtered_patterns]\n",
    "        deplbl_counters[formalism][domain] = Counter(deplbl_pattern_strs[formalism][domain])\n",
    "        deplbl_top10[formalism][domain] = deplbl_counters[formalism][domain].most_common(10)\n",
    "        deplbl_n_patterns[formalism][domain] = len(deplbl_counters[formalism][domain])\n",
    "display_ndict(deplbl_top10, with_mean=False)"
   ]
  },
  {
   "cell_type": "markdown",
   "metadata": {},
   "source": [
    "#### Display some graphs per pattern"
   ]
  },
  {
   "cell_type": "code",
   "execution_count": 30,
   "metadata": {},
   "outputs": [],
   "source": [
    "pattern = \"['OT', 'obl', 'AT']\"\n",
    "g = pattern2graphs[\"ud\"][pattern][0]\n"
   ]
  },
  {
   "cell_type": "markdown",
   "metadata": {},
   "source": [
    "### Visualize commulative frequency of path-patterns"
   ]
  },
  {
   "cell_type": "code",
   "execution_count": 778,
   "metadata": {},
   "outputs": [],
   "source": [
    "# Present commulative frequency of path-patterns histogram\n",
    "def display_cum_dist_as_bar_chart(counter: Dict[Any, Numeric], \n",
    "                                  title: str = 'cummulative distribution', \n",
    "                                  save_as=None,\n",
    "                                  xlabel = '',\n",
    "                                  ylabel = '',\n",
    "                                  show=True):\n",
    "    print(len(counter))\n",
    "    # plot_bar_with_long_labels(*zip(*deplbl_top10[formalism][domain]), title=formalism)\n",
    "    data = sorted(counter.values(), reverse=True)\n",
    "    cum = np.cumsum(data)\n",
    "    _, ax = plt.subplots()\n",
    "    ax.bar(np.arange(len(cum)), cum, color = 'red', edgecolor = 'red')\n",
    "    ax.set_title(title)\n",
    "    if xlabel:\n",
    "        plt.xlabel(xlabel)\n",
    "    if ylabel:\n",
    "        plt.ylabel(ylabel)\n",
    "    if save_as:\n",
    "        plt.savefig(save_as)\n",
    "    if show:\n",
    "        plt.show()\n",
    "        "
   ]
  },
  {
   "cell_type": "code",
   "execution_count": 728,
   "metadata": {},
   "outputs": [
    {
     "name": "stdout",
     "output_type": "stream",
     "text": [
      "42\n"
     ]
    },
    {
     "data": {
      "image/png": "[encoded data removed]",
      "text/plain": [
       "<Figure size 432x288 with 1 Axes>"
      ]
     },
     "metadata": {},
     "output_type": "display_data"
    },
    {
     "name": "stdout",
     "output_type": "stream",
     "text": [
      "69\n"
     ]
    },
    {
     "data": {
      "image/png": "[encoded data removed]",
      "text/plain": [
       "<Figure size 432x288 with 1 Axes>"
      ]
     },
     "metadata": {},
     "output_type": "display_data"
    },
    {
     "name": "stdout",
     "output_type": "stream",
     "text": [
      "27\n"
     ]
    },
    {
     "data": {
      "image/png": "[encoded data removed]",
      "text/plain": [
       "<Figure size 432x288 with 1 Axes>"
      ]
     },
     "metadata": {},
     "output_type": "display_data"
    },
    {
     "name": "stdout",
     "output_type": "stream",
     "text": [
      "28\n"
     ]
    },
    {
     "data": {
      "image/png": "[encoded data removed]",
      "text/plain": [
       "<Figure size 432x288 with 1 Axes>"
      ]
     },
     "metadata": {},
     "output_type": "display_data"
    },
    {
     "name": "stdout",
     "output_type": "stream",
     "text": [
      "75\n"
     ]
    },
    {
     "data": {
      "image/png": "[encoded data removed]",
      "text/plain": [
       "<Figure size 432x288 with 1 Axes>"
      ]
     },
     "metadata": {},
     "output_type": "display_data"
    }
   ],
   "source": [
    "# formalism = [\"ud\", \"dm\", \"psd\"][2]\n",
    "domain = ['device', 'restaurants', 'laptops'][0]\n",
    "for formalism in formalisms:\n",
    "    display_cum_dist_as_bar_chart(deplbl_counters[formalism][domain], title=formalism)"
   ]
  },
  {
   "cell_type": "markdown",
   "metadata": {},
   "source": [
    "### Path Pattern - Cross-domain Similarity\n",
    "\n",
    "We want to assess to what extent linguistic information (syntactic vs. semantic information) may facilitate cross-domain generalization w.r.t. the ABSA task. To that end, we will measure how similar are OT\\~~AT paths across different domains.\n",
    "\n",
    "For each formalism, a domain is represented by a probability distribution of path-patterns. We measure the Jensen–Shannon Divergence (JSD) between any two domains, where lower JSD signals a potential for better cross-domain transfer.  "
   ]
  },
  {
   "cell_type": "code",
   "execution_count": 32,
   "metadata": {},
   "outputs": [
    {
     "name": "stdout",
     "output_type": "stream",
     "text": [
      "total number of patterns across domains:  {'spacy': 118, 'ud': 173, 'dm': 68, 'psd': 100, 'eud_pp': 201}\n"
     ]
    },
    {
     "data": {
      "text/html": [
       "<table>\n",
       "<tbody>\n",
       "<tr><td>-     </td><td>device-restaurants</td><td>device-laptops</td><td>restaurants-laptops</td><td>mean  </td></tr>\n",
       "<tr><td>spacy </td><td>0.3852            </td><td>0.4438        </td><td>0.503              </td><td>0.444 </td></tr>\n",
       "<tr><td>ud    </td><td>0.3519            </td><td>0.4057        </td><td>0.4363             </td><td>0.398 </td></tr>\n",
       "<tr><td>dm    </td><td>0.2063            </td><td>0.2885        </td><td>0.2734             </td><td>0.2561</td></tr>\n",
       "<tr><td>psd   </td><td>0.3467            </td><td>0.4149        </td><td>0.4736             </td><td>0.4117</td></tr>\n",
       "<tr><td>eud_pp</td><td>0.3639            </td><td>0.4147        </td><td>0.4502             </td><td>0.4096</td></tr>\n",
       "</tbody>\n",
       "</table>"
      ],
      "text/plain": [
       "<IPython.core.display.HTML object>"
      ]
     },
     "metadata": {},
     "output_type": "display_data"
    }
   ],
   "source": [
    "import scipy\n",
    "from scipy.spatial.distance import jensenshannon as jsd\n",
    "from itertools import combinations\n",
    "\n",
    "# convert path-pattern raw data (deplbl_pattern_strs) to a probability distribtuion of patterns\n",
    "all_patterns_of_formalism = {formalism: list(set().union(*[deplbl_pattern_strs[formalism][domain] \n",
    "                                                           for domain in domains])) \n",
    "\n",
    "                             for formalism in formalisms}\n",
    "n_all_patterns = {formalism: len(all_patterns) for formalism, all_patterns in all_patterns_of_formalism.items()}\n",
    "print(\"total number of patterns across domains: \", \n",
    "      n_all_patterns)\n",
    "# probabilty distribution for a domain would be a list, where index i is \n",
    "# the probability of the pattern all_patterns_of_formalism[formalism][i]\n",
    "pattern2idx = {formalism: {pattern: idx\n",
    "                           for idx, pattern in enumerate(all_patterns_of_formalism[formalism])}\n",
    "               for formalism in formalisms}\n",
    "pattern_prob_distr =  {formalism: {domain: [deplbl_counters[formalism][domain][pattern] / count_is_directed_path[formalism][domain] \n",
    "                                            for pattern in all_patterns_of_formalism[formalism]] \n",
    "                                   for domain in domains} \n",
    "                       for formalism in formalisms}\n",
    "assert abs(1-sum(pattern_prob_distr['dm']['device']))<0.00000001, \"probability distribution should sum up to 1\"\n",
    "\n",
    "# compute Jensen–Shannon Divergence (JSD) between any two domains\n",
    "domain_pairs = list(combinations(domains, 2))\n",
    "jsds = {formalism: {f\"{dom1}-{dom2}\": jsd(pattern_prob_distr[formalism][dom1], pattern_prob_distr[formalism][dom2], base=2) \n",
    "                    for dom1, dom2 in domain_pairs}\n",
    "        for formalism in formalisms}\n",
    "display_ndict(jsds)"
   ]
  },
  {
   "cell_type": "markdown",
   "metadata": {},
   "source": [
    "## Data Exploration \n",
    "Some easy ways to manually \"look at the data\" - visualize graphs and ABSA terms"
   ]
  },
  {
   "cell_type": "code",
   "execution_count": 33,
   "metadata": {},
   "outputs": [],
   "source": [
    "def display_graph(g):\n",
    "    nxg = to_nx(g)\n",
    "    pattern = deplbl_path_pattern(nxg)\n",
    "    print(\"Path Pattern: \", pattern)\n",
    "    display_absa_graph(g)\n",
    "\n",
    "    "
   ]
  },
  {
   "cell_type": "markdown",
   "metadata": {},
   "source": [
    "# Analysis for Multitask Learning approach\n",
    "In this section we add analyses and data-preparations taylored specifically to the multitask approach we plan to take in order to utilize the linguistic structured for DA-ABSA.\n",
    "\n",
    "We want the model to predict the “path pattern” between OT and AT (and perhaps, additionally, the identity of corresponding AT, e.g. relative position) in parallel to BIO sequence tagging. For this matter, since we should (I think) formulate the task as a classification problem **per Opinion Term**, we look at OT\\~~>AT paths. So we need to reformulate the \"pattern\" concept."
   ]
  },
  {
   "cell_type": "markdown",
   "metadata": {},
   "source": [
    "### Re-defining \"indicative graphs\"\n",
    "Now the relvant graphs would be all graphs with at least one Opinion Term (OT). "
   ]
  },
  {
   "cell_type": "code",
   "execution_count": 34,
   "metadata": {},
   "outputs": [],
   "source": [
    "# filter indicative graphs \n",
    "def graph_has_OT(g: Graph) -> bool:\n",
    "    \"\"\" return true iff sentence have at least one Opinion Term. \"\"\"\n",
    "    return len(g.opinion_spans)>0\n",
    "\n",
    "def graph_has_no_OT(g: Graph) -> bool:\n",
    "    \"\"\" return true iff sentence have no Opinion Term. \"\"\"\n",
    "    return len(g.opinion_spans)==0\n",
    "\n",
    "\n",
    "indicative_sentences_ids = {domain: [i\n",
    "                                     for i in range(num_sents[domain]) \n",
    "                                     if graph_has_OT(all_graphs[\"ud\"][domain][i])]\n",
    "                            for domain in domains}\n",
    "all_graphs_with_OT = {formalism: \n",
    "                             {domain: \n",
    "                                  [all_graphs[formalism][domain][i]\n",
    "                                   for i in range(num_sents[domain])\n",
    "                                   if i in indicative_sentences_ids[domain]]\n",
    "                              for domain in domains}\n",
    "                         for formalism in formalisms}\n",
    "\n",
    "all_graphs_without_OT = {formalism: \n",
    "                             {domain: \n",
    "                                  [all_graphs[formalism][domain][i]\n",
    "                                   for i in range(num_sents[domain])\n",
    "                                   if i not in indicative_sentences_ids[domain]]\n",
    "                              for domain in domains}\n",
    "                         for formalism in formalisms}"
   ]
  },
  {
   "cell_type": "code",
   "execution_count": 35,
   "metadata": {},
   "outputs": [
    {
     "name": "stdout",
     "output_type": "stream",
     "text": [
      "Overall, we have 13522 graphs for each of the 5 formalisms\n",
      "collected 7100 graphs with OT.\n",
      "\t Out of which, 5686 have also at least one AT.\n",
      "collected 6422 graphs without OTs.\n",
      "num_ATs_in_graphs_without_OT:  Counter({0: 4906, 1: 1082, 2: 286, 3: 97, 4: 38, 5: 9, 6: 4})\n",
      "num_ATs_in_graphs_with_OT:  Counter({1: 3431, 2: 1507, 0: 1414, 3: 499, 4: 174, 5: 49, 6: 14, 7: 6, 8: 4, 9: 1, 13: 1})\n",
      "overall #-AT without any OT in same sentence: 1516, out of 11229 ATs total (13.5%)\n"
     ]
    }
   ],
   "source": [
    "# collect graph with both AT and OT\n",
    "all_graphs_with_OT_and_AT = {formalism: \n",
    "                             {domain: \n",
    "                                  [g\n",
    "                                   for g in all_graphs_with_OT[formalism][domain]\n",
    "                                   if len(g.aspect_spans)>0]\n",
    "                              for domain in domains}\n",
    "                         for formalism in formalisms}\n",
    "\n",
    "print(f\"Overall, we have {count_graphs(all_graphs)} graphs for each of the {len(formalisms)} formalisms\")\n",
    "print(f\"collected {count_graphs(all_graphs_with_OT)} graphs with OT.\")\n",
    "print(f\"\\t Out of which, {count_graphs(all_graphs_with_OT_and_AT)} have also at least one AT.\")\n",
    "print(f\"collected {count_graphs(all_graphs_without_OT)} graphs without OTs.\")\n",
    "num_ATs_in_graphs_without_OT = Counter([len(g.aspect_spans) \n",
    "                                        for domain in domains\n",
    "                                        for g in all_graphs_without_OT[\"ud\"][domain]])\n",
    "                                        \n",
    "print(f\"num_ATs_in_graphs_without_OT: \", num_ATs_in_graphs_without_OT)\n",
    "\n",
    "num_ATs_in_graphs_with_OT = Counter([len(g.aspect_spans) \n",
    "                                        for domain in domains\n",
    "                                        for g in all_graphs_with_OT[\"ud\"][domain]])\n",
    "                                        \n",
    "print(f\"num_ATs_in_graphs_with_OT: \", num_ATs_in_graphs_with_OT)\n",
    "\n",
    "overall_num_ATs = sum(len(g.aspect_spans) \n",
    "                                        for domain in domains\n",
    "                                        for g in all_graphs[\"ud\"][domain]) \n",
    "num_AT_without_OT = sum(num_ATs_in_graphs_without_OT.values())-num_ATs_in_graphs_without_OT[0]\n",
    "print(f\"overall #-AT without any OT in same sentence: {num_AT_without_OT}, out of {overall_num_ATs} ATs total \" \n",
    "      f\"({100*num_AT_without_OT/overall_num_ATs:.03}%)\")\n"
   ]
  },
  {
   "cell_type": "markdown",
   "metadata": {},
   "source": [
    "## Define \"relatedness\" from OT to AT\n",
    "We would have some heuristics by which we define an AT to be \"related\" (i.e. corresponding) to an OT. \n",
    "This heuristics will yield the (OT, AT) pairs consisting of our data, where each OT should appear at least once. \n",
    "\n",
    "The most sensible criterion is related to the path on the linguistic graph. \n",
    "We can take a maximal path length (undirected) as filter, and then select the most frequenct path patterns if we want a 1-to-1 mapping between OT and AT. \n",
    "Look at the path pattern analysis above to determine which patterns look reasonable for a correspondence. \n"
   ]
  },
  {
   "cell_type": "code",
   "execution_count": 36,
   "metadata": {},
   "outputs": [],
   "source": [
    "# Collect all (unrestricted) OT,AT pairs - each OT,AT pair that occur in the same sentence.\n",
    "# each pair is represnted by a tuple (Graph, OT-span, AT-span).\n",
    "#   resulting graph-set is equivalent to `all_graphs_with_OT_and_AT`.\n",
    "#   Note: we will deal with OT having no AT later\n",
    "from itertools import product\n",
    "formalisms = ['spacy', 'ud', 'dm', 'psd', \"eud_pp\"] # let's focus our attention on these formalisms\n",
    "formalism = \"ud\"\n",
    "all_possible_pairs = {formalism: {domain: [(g, op, asp) \n",
    "                                           for g in all_graphs[formalism][domain]\n",
    "                                           for op, asp in product(g.opinion_spans, g.aspect_spans)]\n",
    "                                  for domain in domains}\n",
    "                      for formalism in formalisms}\n"
   ]
  },
  {
   "cell_type": "markdown",
   "metadata": {},
   "source": [
    "## Path - Re-Definition \n",
    "Above, In the Data Analysis Section, we defined a *directed* AT\\~\\~OT path as a directed path from AT to OT (AT\\~\\~>OT) *OR* a directed path from OT to AT (OT\\~\\~>AT), and an *undirected* AT<\\~\\~>OT path as the path between them on the undirected graph, i.e. when cancelling directionality altogether. \n",
    "\n",
    "For our purposes here, we are interested specifically on the directional relation from **OT** toward ATs.\n",
    "Thus, we define a path OT\\~>\\~AT to be the description of hops to be taken on the graph from OT to an AT. For this matter, we are allowed to hop across a reversed arc, but this would be distinguished from hopping the standard direction using the relation label, which will be appended a `^-1` marker. E.g. for a graph `X<--a1--Z--a2-->Y` (`a1` and `a2` being the relation labels), there is a path from X to Y (X\\~>\\~Y), and its `deplbl` pattern would be `[X, a1^-1, Z, a2, Y]`.  \n",
    "\n",
    "To find this kind of path, we will use the undirected graph and retrieve the nx.shortest_path as list of nodes. Then, we will iterate the original directed graph and recover arc labels (including directionality markers).  "
   ]
  },
  {
   "cell_type": "code",
   "execution_count": 37,
   "metadata": {},
   "outputs": [],
   "source": [
    "Span = Tuple[int, int] # for typing\n",
    "Path = Union[List[str], None] # for typing\n",
    "\n",
    "def get_nx_undirected_path(nxg: nx.DiGraph, opinion: Span, aspect: Span) -> Union[List[int], None]:\n",
    "    \"\"\" \n",
    "    Returns the list of nodes on the undirected path from opinion to aspect.   \n",
    "    \"\"\"\n",
    "    nxug = nxg.to_undirected()\n",
    "\n",
    "    def shortest_path(source, target) -> Path:\n",
    "        \"\"\" source and target are token indices. Return None if no path.\"\"\"\n",
    "        try:\n",
    "            return nx.shortest_path(nxug, source=source, target=target)\n",
    "        except NetworkXNoPath:\n",
    "            return None\n",
    "    all_paths = [shortest_path(source_tokid, target_tokid) \n",
    "                 for source_tokid in range(*opinion)\n",
    "                 for target_tokid in range(*aspect)]\n",
    "    all_paths = filtered(all_paths) # remove None instances\n",
    "    if not all_paths:\n",
    "        return None # no path at all\n",
    "    shortest_ATOT_path = sorted(all_paths, key=len)[0]\n",
    "    return shortest_ATOT_path\n",
    " \n",
    "def deplbl_path_pattern(nxg: nx.DiGraph, opinion: Span, aspect: Span) -> Path:\n",
    "    \"\"\" \n",
    "    Return the deplbl path-pettern of the shortest OT~~AT path in the graph. \n",
    "    Return None if no directed OT~~AT path exists.\n",
    "    \"\"\"\n",
    "    # Comprise the path pattern from representation of nodes and edges along the path\n",
    "    def node_repr(node_id: int) -> str: \n",
    "        \"\"\" for `deplbl` patterns, only state whether it is an AT or OT node\"\"\"\n",
    "        if node_id in range(*opinion): return \"OT\"\n",
    "        elif node_id in range(*aspect): return \"AT\"\n",
    "        else: return \"*\"\n",
    "    def edge_repr(u: int, v: int) -> str:\n",
    "        \"\"\" return dependency-label. Assuming (u,v) in nxg.edges. \"\"\"\n",
    "        return nxg.edges[(u,v)]['lab']\n",
    "\n",
    "    path = get_nx_undirected_path(nxg, opinion, aspect) # path is list of nodes (indices)\n",
    "    if path is None:  # handle no path\n",
    "        return None\n",
    "    \n",
    "    # create and fill the pattern\n",
    "    pattern = [node_repr(path[0])] # first node\n",
    "    # iteratively add <edge>, <node> from path\n",
    "    for i in range(1, len(path)):\n",
    "        # represent edge - edge might be in reverse direction\n",
    "        hop = (path[i-1], path[i]) # the next hop in path is from path[i-1] to path[i]\n",
    "        assert hop in nxg.edges or tuple(reversed(hop)) in nxg.edges, \"nx_path contain hops not in DiGraph\"\n",
    "        if hop in nxg.edges: # hop is in standard direction of arc\n",
    "            pattern.append(edge_repr(*hop))\n",
    "        else:   # hop is in reverse direction of arc\n",
    "            pattern.append(edge_repr(*reversed(hop)) + \"^-1\") # concatenate reverse-dir marker \n",
    "        # represent node\n",
    "        pattern.append(node_repr(path[i])) \n",
    "    return pattern\n",
    "        "
   ]
  },
  {
   "cell_type": "code",
   "execution_count": 504,
   "metadata": {},
   "outputs": [],
   "source": [
    "# compute average path length per formalism per domain. \n",
    "mean_path_length = defaultdict(dict)\n",
    "dist_path_length = defaultdict(dict) # disribution of path lengths\n",
    "count_is_path = defaultdict(dict)\n",
    "list_patterns = defaultdict(dict)\n",
    "dist_patterns = defaultdict(dict)\n",
    "num_patterns = defaultdict(dict)\n",
    "set_of_patterns = defaultdict(dict)\n",
    "top10_patterns = defaultdict(dict)\n",
    "\n",
    "for formalism in formalisms:\n",
    "    for domain in domains:\n",
    "        shortest_paths = []\n",
    "        patterns = []\n",
    "        for g, op, asp in all_possible_pairs[formalism][domain]:\n",
    "            nxg = to_nx(g)\n",
    "            nx_path = get_nx_undirected_path(nxg, op, asp) # nx_path is a node list \n",
    "            pattern = deplbl_path_pattern(nxg, op, asp)\n",
    "            if nx_path:\n",
    "                shortest_paths.append(len(nx_path)-1)\n",
    "                patterns.append(json.dumps(pattern))\n",
    "        mean_path_length[formalism][domain] = np.mean(shortest_paths)\n",
    "        dist_path_length[formalism][domain] = Counter(shortest_paths) \n",
    "        count_is_path[formalism][domain] = len(shortest_paths)\n",
    "        list_patterns[formalism][domain] = patterns\n",
    "        dist_patterns[formalism][domain] = Counter(patterns)\n",
    "        set_of_patterns[formalism][domain] = set(patterns)\n",
    "        num_patterns[formalism][domain] = len(set(patterns))\n",
    "        top10_patterns[formalism][domain] = dist_patterns[formalism][domain].most_common(10)"
   ]
  },
  {
   "cell_type": "code",
   "execution_count": 505,
   "metadata": {},
   "outputs": [
    {
     "name": "stdout",
     "output_type": "stream",
     "text": [
      "#-Graphs for analysis (at least one OT & AT):\n"
     ]
    },
    {
     "data": {
      "text/html": [
       "<table>\n",
       "<tbody>\n",
       "<tr><td>-     </td><td>device</td><td>restaurants</td><td>laptops</td></tr>\n",
       "<tr><td>spacy </td><td>1113  </td><td>3181       </td><td>1392   </td></tr>\n",
       "<tr><td>ud    </td><td>1113  </td><td>3181       </td><td>1392   </td></tr>\n",
       "<tr><td>dm    </td><td>1113  </td><td>3181       </td><td>1392   </td></tr>\n",
       "<tr><td>psd   </td><td>1113  </td><td>3181       </td><td>1392   </td></tr>\n",
       "<tr><td>eud_pp</td><td>1113  </td><td>3181       </td><td>1392   </td></tr>\n",
       "</tbody>\n",
       "</table>"
      ],
      "text/plain": [
       "<IPython.core.display.HTML object>"
      ]
     },
     "metadata": {},
     "output_type": "display_data"
    },
    {
     "name": "stdout",
     "output_type": "stream",
     "text": [
      "#-paths OT~>~AT:\n"
     ]
    },
    {
     "data": {
      "text/html": [
       "<table>\n",
       "<tbody>\n",
       "<tr><td>-     </td><td>device</td><td>restaurants</td><td>laptops</td><td>mean     </td></tr>\n",
       "<tr><td>spacy </td><td>3173  </td><td>9946       </td><td>3511   </td><td>5543.3333</td></tr>\n",
       "<tr><td>ud    </td><td>3173  </td><td>9946       </td><td>3511   </td><td>5543.3333</td></tr>\n",
       "<tr><td>dm    </td><td>3037  </td><td>9562       </td><td>3376   </td><td>5325.0   </td></tr>\n",
       "<tr><td>psd   </td><td>3118  </td><td>9660       </td><td>3425   </td><td>5401.0   </td></tr>\n",
       "<tr><td>eud_pp</td><td>3173  </td><td>9946       </td><td>3511   </td><td>5543.3333</td></tr>\n",
       "</tbody>\n",
       "</table>"
      ],
      "text/plain": [
       "<IPython.core.display.HTML object>"
      ]
     },
     "metadata": {},
     "output_type": "display_data"
    },
    {
     "name": "stdout",
     "output_type": "stream",
     "text": [
      "Mean of shortest path length OT>~>AT (if exists):\n"
     ]
    },
    {
     "data": {
      "text/html": [
       "<table>\n",
       "<tbody>\n",
       "<tr><td>-     </td><td>device</td><td>restaurants</td><td>laptops</td><td>mean</td></tr>\n",
       "<tr><td>spacy </td><td>3.05  </td><td>3.05       </td><td>3.04   </td><td>3.05</td></tr>\n",
       "<tr><td>ud    </td><td>2.35  </td><td>2.24       </td><td>2.4    </td><td>2.33</td></tr>\n",
       "<tr><td>dm    </td><td>2.6   </td><td>2.57       </td><td>2.78   </td><td>2.65</td></tr>\n",
       "<tr><td>psd   </td><td>2.78  </td><td>2.73       </td><td>2.72   </td><td>2.74</td></tr>\n",
       "<tr><td>eud_pp</td><td>2.2   </td><td>2.09       </td><td>2.23   </td><td>2.17</td></tr>\n",
       "</tbody>\n",
       "</table>"
      ],
      "text/plain": [
       "<IPython.core.display.HTML object>"
      ]
     },
     "metadata": {},
     "output_type": "display_data"
    },
    {
     "name": "stdout",
     "output_type": "stream",
     "text": [
      "Distribution (Counter) of shortest path lengths (number of hops / edges, i.e. 1 is minimum) between OT>~>AT:\n"
     ]
    },
    {
     "data": {
      "text/html": [
       "<table>\n",
       "<tbody>\n",
       "<tr><td>-     </td><td>device                                                                                                      </td><td>restaurants                                                                                                                            </td><td>laptops                                                                                                                   </td></tr>\n",
       "<tr><td>spacy </td><td>Counter({2: 842, 1: 697, 3: 601, 4: 407, 5: 272, 6: 166, 7: 85, 8: 51, 9: 25, 10: 12, 11: 10, 12: 4, 13: 1})</td><td>Counter({2: 2807, 3: 2303, 1: 1766, 4: 1371, 5: 752, 6: 425, 7: 225, 8: 142, 9: 77, 10: 38, 11: 21, 12: 9, 13: 5, 14: 2, 15: 2, 17: 1})</td><td>Counter({2: 885, 1: 811, 3: 681, 4: 462, 5: 277, 6: 172, 7: 104, 8: 61, 9: 26, 10: 18, 11: 8, 12: 2, 13: 2, 16: 1, 14: 1})</td></tr>\n",
       "<tr><td>ud    </td><td>Counter({1: 1178, 2: 808, 3: 597, 4: 328, 5: 139, 6: 68, 7: 26, 8: 12, 9: 8, 10: 3, 11: 3, 12: 2, 13: 1})   </td><td>Counter({1: 3716, 2: 2858, 3: 1774, 4: 893, 5: 417, 6: 166, 7: 85, 8: 25, 9: 8, 11: 2, 10: 2})                                         </td><td>Counter({1: 1306, 2: 874, 3: 612, 4: 378, 5: 176, 6: 88, 7: 44, 8: 19, 9: 8, 10: 3, 11: 1, 12: 1, 14: 1})                 </td></tr>\n",
       "<tr><td>dm    </td><td>Counter({1: 1161, 2: 631, 3: 473, 4: 303, 5: 208, 6: 132, 7: 70, 8: 27, 9: 14, 10: 8, 11: 7, 12: 3})        </td><td>Counter({1: 3772, 2: 1922, 3: 1522, 4: 999, 5: 591, 6: 317, 7: 227, 8: 97, 9: 62, 10: 18, 11: 16, 13: 6, 12: 6, 14: 4, 15: 2, 16: 1})  </td><td>Counter({1: 1181, 2: 690, 3: 557, 4: 358, 5: 232, 6: 157, 7: 83, 8: 59, 9: 30, 10: 17, 11: 8, 12: 4})                     </td></tr>\n",
       "<tr><td>psd   </td><td>Counter({2: 918, 1: 675, 3: 640, 4: 471, 5: 251, 6: 91, 7: 39, 8: 21, 9: 6, 10: 6})                         </td><td>Counter({2: 2934, 1: 2074, 3: 1897, 4: 1605, 5: 752, 6: 251, 7: 103, 8: 33, 10: 5, 9: 4, 11: 2})                                       </td><td>Counter({1: 900, 2: 898, 3: 693, 4: 470, 5: 275, 6: 101, 7: 47, 8: 25, 9: 11, 10: 5})                                     </td></tr>\n",
       "<tr><td>eud_pp</td><td>Counter({1: 1276, 2: 820, 3: 606, 4: 267, 5: 120, 6: 49, 7: 12, 8: 11, 9: 7, 10: 4, 11: 1})                 </td><td>Counter({1: 4264, 2: 2689, 3: 1684, 4: 791, 5: 321, 6: 120, 7: 56, 8: 13, 9: 5, 11: 2, 10: 1})                                         </td><td>Counter({1: 1454, 2: 849, 3: 600, 4: 344, 5: 160, 6: 58, 7: 27, 9: 8, 8: 8, 10: 2, 13: 1})                                </td></tr>\n",
       "</tbody>\n",
       "</table>"
      ],
      "text/plain": [
       "<IPython.core.display.HTML object>"
      ]
     },
     "metadata": {},
     "output_type": "display_data"
    },
    {
     "name": "stdout",
     "output_type": "stream",
     "text": [
      "number of different patterns:\n"
     ]
    },
    {
     "data": {
      "text/html": [
       "<table>\n",
       "<tbody>\n",
       "<tr><td>-     </td><td>device</td><td>restaurants</td><td>laptops</td></tr>\n",
       "<tr><td>spacy </td><td>1179  </td><td>2482       </td><td>1401   </td></tr>\n",
       "<tr><td>ud    </td><td>1055  </td><td>2033       </td><td>1272   </td></tr>\n",
       "<tr><td>dm    </td><td>880   </td><td>2014       </td><td>1099   </td></tr>\n",
       "<tr><td>psd   </td><td>820   </td><td>1813       </td><td>1049   </td></tr>\n",
       "<tr><td>eud_pp</td><td>987   </td><td>1979       </td><td>1238   </td></tr>\n",
       "</tbody>\n",
       "</table>"
      ],
      "text/plain": [
       "<IPython.core.display.HTML object>"
      ]
     },
     "metadata": {},
     "output_type": "display_data"
    },
    {
     "name": "stdout",
     "output_type": "stream",
     "text": [
      "Top-10 patterns:\n"
     ]
    },
    {
     "data": {
      "text/html": [
       "<table>\n",
       "<tbody>\n",
       "<tr><td>-     </td><td>device                                                                                                                                                                                                                                                                                                                                                                                                                                                                                                                                                                                               </td><td>restaurants                                                                                                                                                                                                                                                                                                                                                                                                                                                                                                                                                                                                                                                                                          </td><td>laptops                                                                                                                                                                                                                                                                                                                                                                                                                                                                                                                                                            </td></tr>\n",
       "<tr><td>spacy </td><td>[(&#x27;[&quot;OT&quot;, &quot;amod^-1&quot;, &quot;AT&quot;]&#x27;, 410), (&#x27;[&quot;OT&quot;, &quot;acomp^-1&quot;, &quot;*&quot;, &quot;nsubj&quot;, &quot;AT&quot;]&#x27;, 373), (&#x27;[&quot;OT&quot;, &quot;xcomp&quot;, &quot;AT&quot;]&#x27;, 95), (&#x27;[&quot;OT&quot;, &quot;prep&quot;, &quot;*&quot;, &quot;pobj&quot;, &quot;AT&quot;]&#x27;, 49), (&#x27;[&quot;OT&quot;, &quot;advmod^-1&quot;, &quot;AT&quot;]&#x27;, 44), (&#x27;[&quot;OT&quot;, &quot;amod^-1&quot;, &quot;*&quot;, &quot;conj&quot;, &quot;AT&quot;]&#x27;, 41), (&#x27;[&quot;OT&quot;, &quot;dobj&quot;, &quot;AT&quot;]&#x27;, 40), (&#x27;[&quot;OT&quot;, &quot;acomp^-1&quot;, &quot;*&quot;, &quot;conj^-1&quot;, &quot;*&quot;, &quot;nsubj&quot;, &quot;AT&quot;]&#x27;, 40), (&#x27;[&quot;OT&quot;, &quot;amod^-1&quot;, &quot;*&quot;, &quot;prep&quot;, &quot;*&quot;, &quot;pobj&quot;, &quot;AT&quot;]&#x27;, 36), (&#x27;[&quot;OT&quot;, &quot;amod^-1&quot;, &quot;*&quot;, &quot;conj^-1&quot;, &quot;AT&quot;]&#x27;, 33)]                                                                                                                                             </td><td>[(&#x27;[&quot;OT&quot;, &quot;acomp^-1&quot;, &quot;*&quot;, &quot;nsubj&quot;, &quot;AT&quot;]&#x27;, 1491), (&#x27;[&quot;OT&quot;, &quot;amod^-1&quot;, &quot;AT&quot;]&#x27;, 1308), (&#x27;[&quot;OT&quot;, &quot;acomp^-1&quot;, &quot;*&quot;, &quot;conj&quot;, &quot;*&quot;, &quot;nsubj&quot;, &quot;AT&quot;]&#x27;, 235), (&#x27;[&quot;OT&quot;, &quot;acomp^-1&quot;, &quot;*&quot;, &quot;conj^-1&quot;, &quot;*&quot;, &quot;nsubj&quot;, &quot;AT&quot;]&#x27;, 227), (&#x27;[&quot;OT&quot;, &quot;conj^-1&quot;, &quot;*&quot;, &quot;acomp^-1&quot;, &quot;*&quot;, &quot;nsubj&quot;, &quot;AT&quot;]&#x27;, 224), (&#x27;[&quot;OT&quot;, &quot;amod^-1&quot;, &quot;*&quot;, &quot;conj&quot;, &quot;AT&quot;]&#x27;, 175), (&#x27;[&quot;OT&quot;, &quot;dobj&quot;, &quot;AT&quot;]&#x27;, 166), (&#x27;[&quot;OT&quot;, &quot;prep&quot;, &quot;*&quot;, &quot;pobj&quot;, &quot;AT&quot;]&#x27;, 147), (&#x27;[&quot;OT&quot;, &quot;amod^-1&quot;, &quot;*&quot;, &quot;conj^-1&quot;, &quot;AT&quot;]&#x27;, 139), (&#x27;[&quot;OT&quot;, &quot;amod^-1&quot;, &quot;*&quot;, &quot;prep&quot;, &quot;*&quot;, &quot;pobj&quot;, &quot;AT&quot;]&#x27;, 114)]                                                                                                                                                                        </td><td>[(&#x27;[&quot;OT&quot;, &quot;amod^-1&quot;, &quot;AT&quot;]&#x27;, 355), (&#x27;[&quot;OT&quot;, &quot;acomp^-1&quot;, &quot;*&quot;, &quot;nsubj&quot;, &quot;AT&quot;]&#x27;, 267), (&#x27;[&quot;OT&quot;, &quot;prep&quot;, &quot;*&quot;, &quot;pobj&quot;, &quot;AT&quot;]&#x27;, 109), (&#x27;[&quot;OT&quot;, &quot;nsubj&quot;, &quot;AT&quot;]&#x27;, 90), (&#x27;[&quot;OT&quot;, &quot;dobj&quot;, &quot;AT&quot;]&#x27;, 80), (&#x27;[&quot;OT&quot;, &quot;advmod^-1&quot;, &quot;AT&quot;]&#x27;, 57), (&#x27;[&quot;OT&quot;, &quot;amod^-1&quot;, &quot;*&quot;, &quot;conj&quot;, &quot;AT&quot;]&#x27;, 45), (&#x27;[&quot;OT&quot;, &quot;xcomp&quot;, &quot;AT&quot;]&#x27;, 44), (&#x27;[&quot;OT&quot;, &quot;amod^-1&quot;, &quot;*&quot;, &quot;prep&quot;, &quot;*&quot;, &quot;pobj&quot;, &quot;AT&quot;]&#x27;, 34), (&#x27;[&quot;OT&quot;, &quot;conj&quot;, &quot;AT&quot;]&#x27;, 27)]                                                                                                                                                              </td></tr>\n",
       "<tr><td>ud    </td><td>[(&#x27;[&quot;OT&quot;, &quot;amod^-1&quot;, &quot;AT&quot;]&#x27;, 377), (&#x27;[&quot;OT&quot;, &quot;nsubj&quot;, &quot;AT&quot;]&#x27;, 367), (&#x27;[&quot;OT&quot;, &quot;conj^-1&quot;, &quot;*&quot;, &quot;nsubj&quot;, &quot;AT&quot;]&#x27;, 77), (&#x27;[&quot;OT&quot;, &quot;amod^-1&quot;, &quot;*&quot;, &quot;conj^-1&quot;, &quot;*&quot;, &quot;conj&quot;, &quot;AT&quot;]&#x27;, 59), (&#x27;[&quot;OT&quot;, &quot;amod^-1&quot;, &quot;*&quot;, &quot;conj&quot;, &quot;AT&quot;]&#x27;, 52), (&#x27;[&quot;OT&quot;, &quot;ccomp&quot;, &quot;AT&quot;]&#x27;, 50), (&#x27;[&quot;OT&quot;, &quot;obl&quot;, &quot;AT&quot;]&#x27;, 47), (&#x27;[&quot;OT&quot;, &quot;advmod^-1&quot;, &quot;AT&quot;]&#x27;, 44), (&#x27;[&quot;OT&quot;, &quot;obj&quot;, &quot;AT&quot;]&#x27;, 42), (&#x27;[&quot;OT&quot;, &quot;advcl&quot;, &quot;AT&quot;]&#x27;, 40)]                                                                                                                                                                                                             </td><td>[(&#x27;[&quot;OT&quot;, &quot;nsubj&quot;, &quot;AT&quot;]&#x27;, 1544), (&#x27;[&quot;OT&quot;, &quot;amod^-1&quot;, &quot;AT&quot;]&#x27;, 1301), (&#x27;[&quot;OT&quot;, &quot;conj^-1&quot;, &quot;*&quot;, &quot;nsubj&quot;, &quot;AT&quot;]&#x27;, 548), (&#x27;[&quot;OT&quot;, &quot;conj&quot;, &quot;*&quot;, &quot;nsubj&quot;, &quot;AT&quot;]&#x27;, 256), (&#x27;[&quot;OT&quot;, &quot;amod^-1&quot;, &quot;*&quot;, &quot;conj&quot;, &quot;AT&quot;]&#x27;, 200), (&#x27;[&quot;OT&quot;, &quot;obl&quot;, &quot;AT&quot;]&#x27;, 175), (&#x27;[&quot;OT&quot;, &quot;obj&quot;, &quot;AT&quot;]&#x27;, 168), (&#x27;[&quot;OT&quot;, &quot;amod^-1&quot;, &quot;*&quot;, &quot;conj^-1&quot;, &quot;AT&quot;]&#x27;, 148), (&#x27;[&quot;OT&quot;, &quot;conj^-1&quot;, &quot;*&quot;, &quot;conj&quot;, &quot;*&quot;, &quot;nsubj&quot;, &quot;AT&quot;]&#x27;, 118), (&#x27;[&quot;OT&quot;, &quot;amod^-1&quot;, &quot;*&quot;, &quot;conj^-1&quot;, &quot;*&quot;, &quot;conj&quot;, &quot;AT&quot;]&#x27;, 115)]                                                                                                                                                                                                                                           </td><td>[(&#x27;[&quot;OT&quot;, &quot;nsubj&quot;, &quot;AT&quot;]&#x27;, 351), (&#x27;[&quot;OT&quot;, &quot;amod^-1&quot;, &quot;AT&quot;]&#x27;, 344), (&#x27;[&quot;OT&quot;, &quot;obl&quot;, &quot;AT&quot;]&#x27;, 83), (&#x27;[&quot;OT&quot;, &quot;obj&quot;, &quot;AT&quot;]&#x27;, 80), (&#x27;[&quot;OT&quot;, &quot;conj&quot;, &quot;AT&quot;]&#x27;, 63), (&#x27;[&quot;OT&quot;, &quot;conj^-1&quot;, &quot;*&quot;, &quot;nsubj&quot;, &quot;AT&quot;]&#x27;, 61), (&#x27;[&quot;OT&quot;, &quot;advmod^-1&quot;, &quot;AT&quot;]&#x27;, 57), (&#x27;[&quot;OT&quot;, &quot;amod^-1&quot;, &quot;*&quot;, &quot;conj&quot;, &quot;AT&quot;]&#x27;, 52), (&#x27;[&quot;OT&quot;, &quot;nmod&quot;, &quot;AT&quot;]&#x27;, 46), (&#x27;[&quot;OT&quot;, &quot;conj&quot;, &quot;*&quot;, &quot;nsubj&quot;, &quot;AT&quot;]&#x27;, 38)]                                                                                                                                                                                               </td></tr>\n",
       "<tr><td>dm    </td><td>[(&#x27;[&quot;OT&quot;, &quot;ARG1&quot;, &quot;AT&quot;]&#x27;, 991), (&#x27;[&quot;OT&quot;, &quot;ARG2&quot;, &quot;AT&quot;]&#x27;, 75), (&#x27;[&quot;OT&quot;, &quot;ARG1&quot;, &quot;*&quot;, &quot;ARG2^-1&quot;, &quot;*&quot;, &quot;ARG1&quot;, &quot;AT&quot;]&#x27;, 75), (&#x27;[&quot;OT&quot;, &quot;ARG1&quot;, &quot;*&quot;, &quot;ARG2&quot;, &quot;AT&quot;]&#x27;, 72), (&#x27;[&quot;OT&quot;, &quot;ARG1&quot;, &quot;*&quot;, &quot;ARG1^-1&quot;, &quot;*&quot;, &quot;ARG2&quot;, &quot;AT&quot;]&#x27;, 64), (&#x27;[&quot;OT&quot;, &quot;ARG1&quot;, &quot;*&quot;, &quot;ARG1&quot;, &quot;AT&quot;]&#x27;, 60), (&#x27;[&quot;OT&quot;, &quot;ARG2^-1&quot;, &quot;*&quot;, &quot;ARG1&quot;, &quot;AT&quot;]&#x27;, 44), (&#x27;[&quot;OT&quot;, &quot;ARG1^-1&quot;, &quot;*&quot;, &quot;ARG2&quot;, &quot;AT&quot;]&#x27;, 43), (&#x27;[&quot;OT&quot;, &quot;ARG1&quot;, &quot;*&quot;, &quot;_and_c&quot;, &quot;AT&quot;]&#x27;, 42), (&#x27;[&quot;OT&quot;, &quot;_and_c^-1&quot;, &quot;*&quot;, &quot;ARG1&quot;, &quot;AT&quot;]&#x27;, 34)]                                                                                                                                   </td><td>[(&#x27;[&quot;OT&quot;, &quot;ARG1&quot;, &quot;AT&quot;]&#x27;, 3276), (&#x27;[&quot;OT&quot;, &quot;ARG2&quot;, &quot;AT&quot;]&#x27;, 308), (&#x27;[&quot;OT&quot;, &quot;ARG1^-1&quot;, &quot;*&quot;, &quot;ARG2&quot;, &quot;AT&quot;]&#x27;, 179), (&#x27;[&quot;OT&quot;, &quot;ARG1&quot;, &quot;*&quot;, &quot;ARG2^-1&quot;, &quot;*&quot;, &quot;ARG1&quot;, &quot;AT&quot;]&#x27;, 171), (&#x27;[&quot;OT&quot;, &quot;ARG1&quot;, &quot;*&quot;, &quot;ARG1^-1&quot;, &quot;*&quot;, &quot;ARG2&quot;, &quot;AT&quot;]&#x27;, 169), (&#x27;[&quot;OT&quot;, &quot;_and_c&quot;, &quot;*&quot;, &quot;ARG1&quot;, &quot;AT&quot;]&#x27;, 158), (&#x27;[&quot;OT&quot;, &quot;ARG1&quot;, &quot;*&quot;, &quot;_and_c&quot;, &quot;AT&quot;]&#x27;, 152), (&#x27;[&quot;OT&quot;, &quot;_and_c^-1&quot;, &quot;*&quot;, &quot;ARG1&quot;, &quot;AT&quot;]&#x27;, 152), (&#x27;[&quot;OT&quot;, &quot;ARG2^-1&quot;, &quot;*&quot;, &quot;ARG1&quot;, &quot;AT&quot;]&#x27;, 114), (&#x27;[&quot;OT&quot;, &quot;ARG1&quot;, &quot;*&quot;, &quot;conj&quot;, &quot;AT&quot;]&#x27;, 104)]                                                                                                                                                                                                                       </td><td>[(&#x27;[&quot;OT&quot;, &quot;ARG1&quot;, &quot;AT&quot;]&#x27;, 890), (&#x27;[&quot;OT&quot;, &quot;ARG2&quot;, &quot;AT&quot;]&#x27;, 142), (&#x27;[&quot;OT&quot;, &quot;ARG1^-1&quot;, &quot;*&quot;, &quot;ARG2&quot;, &quot;AT&quot;]&#x27;, 108), (&#x27;[&quot;OT&quot;, &quot;ARG1&quot;, &quot;*&quot;, &quot;ARG1^-1&quot;, &quot;*&quot;, &quot;ARG2&quot;, &quot;AT&quot;]&#x27;, 71), (&#x27;[&quot;OT&quot;, &quot;ARG1&quot;, &quot;*&quot;, &quot;_and_c&quot;, &quot;AT&quot;]&#x27;, 57), (&#x27;[&quot;OT&quot;, &quot;ARG2^-1&quot;, &quot;*&quot;, &quot;ARG1&quot;, &quot;AT&quot;]&#x27;, 47), (&#x27;[&quot;OT&quot;, &quot;ARG1&quot;, &quot;*&quot;, &quot;ARG1&quot;, &quot;AT&quot;]&#x27;, 47), (&#x27;[&quot;OT&quot;, &quot;ARG1&quot;, &quot;*&quot;, &quot;ARG2^-1&quot;, &quot;*&quot;, &quot;ARG1&quot;, &quot;AT&quot;]&#x27;, 45), (&#x27;[&quot;OT&quot;, &quot;ARG1&quot;, &quot;*&quot;, &quot;ARG2&quot;, &quot;AT&quot;]&#x27;, 34), (&#x27;[&quot;OT&quot;, &quot;_and_c&quot;, &quot;*&quot;, &quot;ARG1&quot;, &quot;AT&quot;]&#x27;, 34)]                                                                                                  </td></tr>\n",
       "<tr><td>psd   </td><td>[(&#x27;[&quot;OT&quot;, &quot;PAT-arg^-1&quot;, &quot;*&quot;, &quot;ACT-arg&quot;, &quot;AT&quot;]&#x27;, 536), (&#x27;[&quot;OT&quot;, &quot;RSTR^-1&quot;, &quot;AT&quot;]&#x27;, 419), (&#x27;[&quot;OT&quot;, &quot;PAT-arg^-1&quot;, &quot;*&quot;, &quot;CONJ.member^-1&quot;, &quot;*&quot;, &quot;CONJ.member&quot;, &quot;*&quot;, &quot;ACT-arg&quot;, &quot;AT&quot;]&#x27;, 118), (&#x27;[&quot;OT&quot;, &quot;PAT-arg&quot;, &quot;AT&quot;]&#x27;, 78), (&#x27;[&quot;OT&quot;, &quot;RSTR^-1&quot;, &quot;*&quot;, &quot;CONJ.member^-1&quot;, &quot;*&quot;, &quot;CONJ.member&quot;, &quot;AT&quot;]&#x27;, 73), (&#x27;[&quot;OT&quot;, &quot;RSTR^-1&quot;, &quot;*&quot;, &quot;PAT-arg^-1&quot;, &quot;*&quot;, &quot;ACT-arg&quot;, &quot;AT&quot;]&#x27;, 66), (&#x27;[&quot;OT&quot;, &quot;RSTR^-1&quot;, &quot;*&quot;, &quot;PAT-arg^-1&quot;, &quot;*&quot;, &quot;PAT-arg&quot;, &quot;AT&quot;]&#x27;, 65), (&#x27;[&quot;OT&quot;, &quot;MANN^-1&quot;, &quot;AT&quot;]&#x27;, 51), (&#x27;[&quot;OT&quot;, &quot;PAT-arg^-1&quot;, &quot;*&quot;, &quot;ACT-arg&quot;, &quot;*&quot;, &quot;PAT-arg&quot;, &quot;AT&quot;]&#x27;, 45), (&#x27;[&quot;OT&quot;, &quot;PAT-arg^-1&quot;, &quot;*&quot;, &quot;PAT-arg&quot;, &quot;AT&quot;]&#x27;, 45)]</td><td>[(&#x27;[&quot;OT&quot;, &quot;PAT-arg^-1&quot;, &quot;*&quot;, &quot;ACT-arg&quot;, &quot;AT&quot;]&#x27;, 2000), (&#x27;[&quot;OT&quot;, &quot;RSTR^-1&quot;, &quot;AT&quot;]&#x27;, 1430), (&#x27;[&quot;OT&quot;, &quot;PAT-arg^-1&quot;, &quot;*&quot;, &quot;CONJ.member^-1&quot;, &quot;*&quot;, &quot;CONJ.member&quot;, &quot;*&quot;, &quot;ACT-arg&quot;, &quot;AT&quot;]&#x27;, 509), (&#x27;[&quot;OT&quot;, &quot;PAT-arg&quot;, &quot;AT&quot;]&#x27;, 333), (&#x27;[&quot;OT&quot;, &quot;RSTR^-1&quot;, &quot;*&quot;, &quot;CONJ.member^-1&quot;, &quot;*&quot;, &quot;CONJ.member&quot;, &quot;AT&quot;]&#x27;, 260), (&#x27;[&quot;OT&quot;, &quot;RSTR^-1&quot;, &quot;*&quot;, &quot;PAT-arg^-1&quot;, &quot;*&quot;, &quot;PAT-arg&quot;, &quot;AT&quot;]&#x27;, 176), (&#x27;[&quot;OT&quot;, &quot;RSTR^-1&quot;, &quot;*&quot;, &quot;PAT-arg^-1&quot;, &quot;*&quot;, &quot;ACT-arg&quot;, &quot;AT&quot;]&#x27;, 169), (&#x27;[&quot;OT&quot;, &quot;PAT-arg^-1&quot;, &quot;*&quot;, &quot;CONJ.member^-1&quot;, &quot;*&quot;, &quot;CONJ.member&quot;, &quot;*&quot;, &quot;PAT-arg&quot;, &quot;AT&quot;]&#x27;, 117), (&#x27;[&quot;OT&quot;, &quot;PAT-arg^-1&quot;, &quot;*&quot;, &quot;PAT-arg&quot;, &quot;AT&quot;]&#x27;, 88), (&#x27;[&quot;OT&quot;, &quot;PAT-arg^-1&quot;, &quot;*&quot;, &quot;ADVS.member^-1&quot;, &quot;*&quot;, &quot;ADVS.member&quot;, &quot;*&quot;, &quot;ACT-arg&quot;, &quot;AT&quot;]&#x27;, 83)]</td><td>[(&#x27;[&quot;OT&quot;, &quot;PAT-arg^-1&quot;, &quot;*&quot;, &quot;ACT-arg&quot;, &quot;AT&quot;]&#x27;, 428), (&#x27;[&quot;OT&quot;, &quot;RSTR^-1&quot;, &quot;AT&quot;]&#x27;, 396), (&#x27;[&quot;OT&quot;, &quot;PAT-arg&quot;, &quot;AT&quot;]&#x27;, 166), (&#x27;[&quot;OT&quot;, &quot;ACT-arg&quot;, &quot;AT&quot;]&#x27;, 106), (&#x27;[&quot;OT&quot;, &quot;RSTR^-1&quot;, &quot;*&quot;, &quot;PAT-arg^-1&quot;, &quot;*&quot;, &quot;PAT-arg&quot;, &quot;AT&quot;]&#x27;, 71), (&#x27;[&quot;OT&quot;, &quot;MANN^-1&quot;, &quot;AT&quot;]&#x27;, 69), (&#x27;[&quot;OT&quot;, &quot;PAT-arg^-1&quot;, &quot;*&quot;, &quot;CONJ.member^-1&quot;, &quot;*&quot;, &quot;CONJ.member&quot;, &quot;*&quot;, &quot;ACT-arg&quot;, &quot;AT&quot;]&#x27;, 65), (&#x27;[&quot;OT&quot;, &quot;RSTR^-1&quot;, &quot;*&quot;, &quot;CONJ.member^-1&quot;, &quot;*&quot;, &quot;CONJ.member&quot;, &quot;AT&quot;]&#x27;, 54), (&#x27;[&quot;OT&quot;, &quot;PAT-arg^-1&quot;, &quot;*&quot;, &quot;PAT-arg&quot;, &quot;AT&quot;]&#x27;, 41), (&#x27;[&quot;OT&quot;, &quot;RSTR^-1&quot;, &quot;*&quot;, &quot;PAT-arg^-1&quot;, &quot;*&quot;, &quot;ACT-arg&quot;, &quot;AT&quot;]&#x27;, 35)]</td></tr>\n",
       "<tr><td>eud_pp</td><td>[(&#x27;[&quot;OT&quot;, &quot;nsubj&quot;, &quot;AT&quot;]&#x27;, 424), (&#x27;[&quot;OT&quot;, &quot;amod^-1&quot;, &quot;AT&quot;]&#x27;, 382), (&#x27;[&quot;OT&quot;, &quot;obl&quot;, &quot;AT&quot;]&#x27;, 58), (&#x27;[&quot;OT&quot;, &quot;amod^-1&quot;, &quot;*&quot;, &quot;conj^-1&quot;, &quot;*&quot;, &quot;conj&quot;, &quot;AT&quot;]&#x27;, 53), (&#x27;[&quot;OT&quot;, &quot;amod^-1&quot;, &quot;*&quot;, &quot;conj&quot;, &quot;AT&quot;]&#x27;, 52), (&#x27;[&quot;OT&quot;, &quot;ccomp&quot;, &quot;AT&quot;]&#x27;, 51), (&#x27;[&quot;OT&quot;, &quot;advmod^-1&quot;, &quot;AT&quot;]&#x27;, 44), (&#x27;[&quot;OT&quot;, &quot;obj&quot;, &quot;AT&quot;]&#x27;, 42), (&#x27;[&quot;OT&quot;, &quot;conj^-1&quot;, &quot;*&quot;, &quot;nsubj&quot;, &quot;AT&quot;]&#x27;, 39), (&#x27;[&quot;OT&quot;, &quot;xcomp^-1&quot;, &quot;AT&quot;]&#x27;, 35)]                                                                                                                                                                                                          </td><td>[(&#x27;[&quot;OT&quot;, &quot;nsubj&quot;, &quot;AT&quot;]&#x27;, 1917), (&#x27;[&quot;OT&quot;, &quot;amod^-1&quot;, &quot;AT&quot;]&#x27;, 1346), (&#x27;[&quot;OT&quot;, &quot;conj^-1&quot;, &quot;*&quot;, &quot;nsubj&quot;, &quot;AT&quot;]&#x27;, 264), (&#x27;[&quot;OT&quot;, &quot;conj&quot;, &quot;*&quot;, &quot;nsubj&quot;, &quot;AT&quot;]&#x27;, 256), (&#x27;[&quot;OT&quot;, &quot;obl&quot;, &quot;AT&quot;]&#x27;, 208), (&#x27;[&quot;OT&quot;, &quot;amod^-1&quot;, &quot;*&quot;, &quot;conj&quot;, &quot;AT&quot;]&#x27;, 201), (&#x27;[&quot;OT&quot;, &quot;obj&quot;, &quot;AT&quot;]&#x27;, 194), (&#x27;[&quot;OT&quot;, &quot;amod^-1&quot;, &quot;*&quot;, &quot;conj^-1&quot;, &quot;AT&quot;]&#x27;, 149), (&#x27;[&quot;OT&quot;, &quot;conj^-1&quot;, &quot;*&quot;, &quot;conj&quot;, &quot;*&quot;, &quot;nsubj&quot;, &quot;AT&quot;]&#x27;, 123), (&#x27;[&quot;OT&quot;, &quot;parataxis^-1&quot;, &quot;*&quot;, &quot;nsubj&quot;, &quot;AT&quot;]&#x27;, 117)]                                                                                                                                                                                                                                                     </td><td>[(&#x27;[&quot;OT&quot;, &quot;nsubj&quot;, &quot;AT&quot;]&#x27;, 400), (&#x27;[&quot;OT&quot;, &quot;amod^-1&quot;, &quot;AT&quot;]&#x27;, 352), (&#x27;[&quot;OT&quot;, &quot;obl&quot;, &quot;AT&quot;]&#x27;, 101), (&#x27;[&quot;OT&quot;, &quot;obj&quot;, &quot;AT&quot;]&#x27;, 95), (&#x27;[&quot;OT&quot;, &quot;conj&quot;, &quot;AT&quot;]&#x27;, 65), (&#x27;[&quot;OT&quot;, &quot;advmod^-1&quot;, &quot;AT&quot;]&#x27;, 57), (&#x27;[&quot;OT&quot;, &quot;amod^-1&quot;, &quot;*&quot;, &quot;conj&quot;, &quot;AT&quot;]&#x27;, 52), (&#x27;[&quot;OT&quot;, &quot;conj^-1&quot;, &quot;AT&quot;]&#x27;, 36), (&#x27;[&quot;OT&quot;, &quot;ccomp&quot;, &quot;AT&quot;]&#x27;, 36), (&#x27;[&quot;OT&quot;, &quot;conj&quot;, &quot;*&quot;, &quot;nsubj&quot;, &quot;AT&quot;]&#x27;, 36)]                                                                                                                                                                                                           </td></tr>\n",
       "</tbody>\n",
       "</table>"
      ],
      "text/plain": [
       "<IPython.core.display.HTML object>"
      ]
     },
     "metadata": {},
     "output_type": "display_data"
    }
   ],
   "source": [
    "# display results in tables\n",
    "print(\"#-Graphs for analysis (at least one OT & AT):\")\n",
    "display_ndict(all_graphs_with_OT_and_AT, with_mean = False, pprint=len)\n",
    "print(\"#-paths OT~>~AT:\")\n",
    "display_ndict(count_is_path)\n",
    "print(\"Mean of shortest path length OT>~>AT (if exists):\")\n",
    "display_ndict(mean_path_length, pprint=lambda s:float(f\"{s:.03}\"))\n",
    "print(\"Distribution (Counter) of shortest path lengths (number of hops / edges, i.e. 1 is minimum) between OT>~>AT:\")\n",
    "display_ndict(dist_path_length, with_mean=False)\n",
    "print(\"number of different patterns:\")\n",
    "display_ndict(num_patterns, with_mean=False)\n",
    "print(\"Top-10 patterns:\")\n",
    "display_ndict(top10_patterns, with_mean=False)"
   ]
  },
  {
   "cell_type": "code",
   "execution_count": 40,
   "metadata": {},
   "outputs": [],
   "source": [
    "# put all data in DataFrame\n",
    "headers = [\"formalism\", \"domain\", \"graph\", \"sentence\", \"opinion_span\", \"aspect_span\", \"pattern\"]\n",
    "records = [(formalism, domain, g, g.input, op, asp, deplbl_path_pattern(to_nx(g), op, asp)) \n",
    "           for formalism in formalisms\n",
    "           for domain in domains \n",
    "           for g,op,asp in all_possible_pairs[formalism][domain]]\n",
    "df = pd.DataFrame(records, columns=headers)"
   ]
  },
  {
   "cell_type": "code",
   "execution_count": 41,
   "metadata": {},
   "outputs": [
    {
     "name": "stdout",
     "output_type": "stream",
     "text": [
      "Cross-domain relative path-pattern overalp:\n"
     ]
    },
    {
     "data": {
      "text/html": [
       "<table>\n",
       "<tbody>\n",
       "<tr><td>-     </td><td>(&#x27;device&#x27;, &#x27;restaurants&#x27;)</td><td>(&#x27;device&#x27;, &#x27;laptops&#x27;)</td><td>(&#x27;restaurants&#x27;, &#x27;device&#x27;)</td><td>(&#x27;restaurants&#x27;, &#x27;laptops&#x27;)</td><td>(&#x27;laptops&#x27;, &#x27;device&#x27;)</td><td>(&#x27;laptops&#x27;, &#x27;restaurants&#x27;)</td><td>mean  </td></tr>\n",
       "<tr><td>spacy </td><td>0.6662                   </td><td>0.6889               </td><td>0.7006                   </td><td>0.7143                    </td><td>0.6326               </td><td>0.6619                    </td><td>0.6774</td></tr>\n",
       "<tr><td>ud    </td><td>0.7441                   </td><td>0.7286               </td><td>0.7578                   </td><td>0.7603                    </td><td>0.6839               </td><td>0.7123                    </td><td>0.7312</td></tr>\n",
       "<tr><td>dm    </td><td>0.7965                   </td><td>0.7557               </td><td>0.7574                   </td><td>0.76                      </td><td>0.721                </td><td>0.7521                    </td><td>0.7571</td></tr>\n",
       "<tr><td>psd   </td><td>0.77                     </td><td>0.7399               </td><td>0.7344                   </td><td>0.7365                    </td><td>0.6768               </td><td>0.7194                    </td><td>0.7295</td></tr>\n",
       "<tr><td>eud_pp</td><td>0.7296                   </td><td>0.7148               </td><td>0.7474                   </td><td>0.7502                    </td><td>0.6611               </td><td>0.6858                    </td><td>0.7148</td></tr>\n",
       "</tbody>\n",
       "</table>"
      ],
      "text/plain": [
       "<IPython.core.display.HTML object>"
      ]
     },
     "metadata": {},
     "output_type": "display_data"
    }
   ],
   "source": [
    "# compute overlap in patterns\n",
    "pattern_overlap_set = {formalism: {(dom1, dom2): set_of_patterns[formalism][dom1] & set_of_patterns[formalism][dom2]\n",
    "                                   for dom1, dom2 in permutations(domains, 2)} \n",
    "                       for formalism in formalisms}\n",
    "# count #-instances in dom1 included in overlap with dom2\n",
    "pattern_overlap_amount = {formalism: {(dom1, dom2): list_patterns[formalism][dom1].count(\n",
    "    lambda e: e in pattern_overlap_set[formalism][(dom1, dom2)]) \n",
    "                                      for dom1, dom2 in permutations(domains, 2)} \n",
    "                          for formalism in formalisms}\n",
    "pattern_overlap_ratio = {formalism: {(dom1, dom2): pattern_overlap_amount[formalism][(dom1,dom2)] / len(list_patterns[formalism][dom1])\n",
    "                                     for dom1, dom2 in permutations(domains, 2)} \n",
    "                         for formalism in formalisms}\n",
    "print(\"Cross-domain relative path-pattern overalp:\")\n",
    "display_ndict(pattern_overlap_ratio)"
   ]
  },
  {
   "cell_type": "markdown",
   "metadata": {},
   "source": [
    "## \"Relatedness\" Definition\n",
    "### preliminary analysis\n",
    "We want to explore how many path instances are covered within each optional heuristic critrion for \"relatedness\".\n",
    "\n",
    "**Notice** that this is counting \"naive\" coverage - counting how many of *all possible (OT,AT) pairs* are covered (where clearly many such pairs are unrelated)."
   ]
  },
  {
   "cell_type": "markdown",
   "metadata": {},
   "source": [
    "#### Path Length pruning heuristic"
   ]
  },
  {
   "cell_type": "code",
   "execution_count": 42,
   "metadata": {},
   "outputs": [
    {
     "data": {
      "text/html": [
       "<table>\n",
       "<tbody>\n",
       "<tr><td>-     </td><td>device                                                                                                                                                                                                                                                                                                           </td><td>restaurants                                                                                                                                                                                                                                                                                                                                                                            </td><td>laptops                                                                                                                                                                                                                                                                                                                                            </td></tr>\n",
       "<tr><td>spacy </td><td>{2: 0.21966593129530412, 3: 0.4850299401197605, 4: 0.6744405924992122, 5: 0.8027103687362118, 6: 0.8884336589977939, 7: 0.9407500787897889, 8: 0.9675386069965333, 9: 0.9836117239205799, 10: 0.9914907028049166, 11: 0.9952726126693981, 12: 0.9984242042231328, 13: 0.9996848408446267, 14: 1.0000000000000002}</td><td>{2: 0.17755881761512166, 3: 0.4597828272672431, 4: 0.6913331992760909, 5: 0.8291775588176151, 6: 0.9047858435551981, 7: 0.9475165895837523, 8: 0.970138749245928, 9: 0.9844158455660568, 10: 0.9921576513171124, 11: 0.9959782827267243, 12: 0.9980896842951941, 13: 0.9989945706816811, 14: 0.9994972853408405, 15: 0.9996983712045042, 16: 0.999899457068168, 18: 0.9999999999999999}</td><td>{2: 0.23098832241526632, 3: 0.48305326117915126, 4: 0.6770150954144118, 5: 0.8086015380233551, 6: 0.8874964397607519, 7: 0.9364853318142978, 8: 0.9661065223583024, 9: 0.9834804898889205, 10: 0.9908857875249216, 11: 0.9960125320421532, 12: 0.9982910851609228, 13: 0.9988607234406152, 14: 0.9994303617203075, 15: 0.9997151808601538, 17: 1.0}</td></tr>\n",
       "<tr><td>ud    </td><td>{2: 0.3712574850299401, 3: 0.6259060825716987, 4: 0.8140560983296564, 5: 0.9174283012921525, 6: 0.9612354238890639, 7: 0.9826662464544594, 8: 0.9908603844941695, 9: 0.994642294358651, 10: 0.9971635676016387, 11: 0.9981090450677591, 12: 0.9990545225338795, 13: 0.9996848408446264, 14: 0.9999999999999999}  </td><td>{2: 0.37361753468731146, 3: 0.6609692338628594, 4: 0.8393323949326362, 5: 0.929117233058516, 6: 0.971043635632415, 7: 0.9877337623165091, 8: 0.99627991152222, 9: 0.9987934848180172, 10: 0.9995978282726724, 11: 0.9997989141363361, 12: 0.9999999999999999}                                                                                                                          </td><td>{2: 0.37197379663913416, 3: 0.620905724864711, 4: 0.7952150384505839, 5: 0.9028766733124467, 6: 0.9530048419253775, 7: 0.9780689262318429, 8: 0.9906009683850756, 9: 0.9960125320421533, 10: 0.9982910851609229, 11: 0.9991455425804615, 12: 0.9994303617203077, 13: 0.999715180860154, 15: 1.0000000000000002}                                    </td></tr>\n",
       "<tr><td>dm    </td><td>{2: 0.3822851498189002, 3: 0.5900559762923938, 4: 0.7458017780704642, 5: 0.845571287454725, 6: 0.9140599275600921, 7: 0.9575238722423444, 8: 0.980572933816266, 9: 0.9894632861376358, 10: 0.9940730984524201, 11: 0.9967072769180111, 12: 0.9990121830754033, 13: 0.9999999999999999}                           </td><td>{2: 0.3944781426479816, 3: 0.5954821167119849, 4: 0.7546538381091822, 5: 0.8591298891445305, 6: 0.9209370424597365, 7: 0.9540891026981804, 8: 0.9778289060865928, 9: 0.9879732273582933, 10: 0.9944572265216483, 11: 0.9963396778916546, 12: 0.9980129679983268, 13: 0.9986404517883289, 14: 0.999267935578331, 15: 0.9996862581049991, 16: 0.9998954193683331, 17: 1.0000000000000002}</td><td>{2: 0.34982227488151657, 3: 0.5542061611374407, 4: 0.7191943127962085, 5: 0.8252369668246445, 6: 0.893957345971564, 7: 0.9404620853080569, 8: 0.965047393364929, 9: 0.9825236966824645, 10: 0.9914099526066351, 11: 0.9964454976303317, 12: 0.9988151658767772, 13: 1.0}                                                                           </td></tr>\n",
       "<tr><td>psd   </td><td>{2: 0.21648492623476587, 3: 0.5109044259140475, 4: 0.7161642078255293, 5: 0.8672225785760104, 6: 0.9477228992944196, 7: 0.9769082745349583, 8: 0.9894162924951893, 9: 0.9961513790891597, 10: 0.9980756895445799, 11: 1.0}                                                                                       </td><td>{2: 0.21469979296066252, 3: 0.5184265010351967, 4: 0.7148033126293996, 5: 0.8809523809523809, 6: 0.9587991718426501, 7: 0.9847826086956522, 8: 0.9954451345755694, 9: 0.9988612836438924, 10: 0.9992753623188406, 11: 0.9997929606625259, 12: 1.0}                                                                                                                                     </td><td>{2: 0.26277372262773724, 3: 0.5249635036496351, 4: 0.7272992700729928, 5: 0.8645255474452556, 6: 0.9448175182481753, 7: 0.9743065693430658, 8: 0.9880291970802921, 9: 0.9953284671532848, 10: 0.9985401459854016, 11: 1.0000000000000002}                                                                                                          </td></tr>\n",
       "<tr><td>eud_pp</td><td>{2: 0.40214308225653955, 3: 0.6605735896627797, 4: 0.8515600378190986, 5: 0.9357075323038134, 6: 0.973526630948629, 7: 0.9889694295619287, 8: 0.9927513394264103, 9: 0.9962180901355183, 10: 0.9984242042231326, 11: 0.9996848408446265, 12: 1.0}                                                                </td><td>{2: 0.4287150613311884, 3: 0.6990750050271466, 4: 0.868389302232053, 5: 0.9479187613110798, 6: 0.9801930424291172, 7: 0.9922581942489442, 8: 0.9978885984315302, 9: 0.9991956565453448, 10: 0.9996983712045042, 11: 0.9997989141363361, 12: 0.9999999999999999}                                                                                                                        </td><td>{2: 0.4141270293363714, 3: 0.6559384790657932, 4: 0.8268299629735117, 5: 0.9248077470806038, 6: 0.9703788094559954, 7: 0.9868983195670749, 8: 0.9945884363429222, 9: 0.9968669894616917, 10: 0.9991455425804613, 11: 0.9997151808601537, 14: 0.9999999999999999}                                                                                   </td></tr>\n",
       "</tbody>\n",
       "</table>"
      ],
      "text/plain": [
       "<IPython.core.display.HTML object>"
      ]
     },
     "metadata": {},
     "output_type": "display_data"
    }
   ],
   "source": [
    "# How many instances are covered in each path length? \n",
    "# --> we already have this information as Counters in `dist_path_length`, \n",
    "\n",
    "# present it neetly - proportional coverage, accumulative\n",
    "proportion_covered_by_length = defaultdict(dict)\n",
    "for formalism in formalisms:\n",
    "    for domain in domains:\n",
    "        c = dist_path_length[formalism][domain]\n",
    "        proportion_covered_by_length[formalism][domain] = counter_as_accumulative(counter_as_relative(c)) \n",
    "display_ndict(proportion_covered_by_length, with_mean=False)\n",
    "        "
   ]
  },
  {
   "cell_type": "markdown",
   "metadata": {},
   "source": [
    "Probably better to assess the following - \n",
    "among relevant graphs (with >1 AT & >1 OT, i.e. `all_graphs_with_OT_and_AT`), assuming there truly is a 1to1 mapping between AT and OT, how many potential pairs (excluding repetitions) are covered?"
   ]
  },
  {
   "cell_type": "code",
   "execution_count": 43,
   "metadata": {},
   "outputs": [
    {
     "data": {
      "text/html": [
       "<table>\n",
       "<tbody>\n",
       "<tr><td>-     </td><td>device                                                               </td><td>restaurants                                   </td><td>laptops                                                             </td></tr>\n",
       "<tr><td>spacy </td><td>{2: 0.4783802333562114, 3: 1.0562800274536719, 4: 1.4687714481811942}</td><td>{2: 0.4049529924329282, 3: 1.0486127035083697}</td><td>{2: 0.473714953271028, 3: 0.9906542056074766, 4: 1.3884345794392523}</td></tr>\n",
       "<tr><td>ud    </td><td>{2: 0.8085106382978723, 3: 1.3630748112560054}                       </td><td>{2: 0.8520981426278377}                       </td><td>{2: 0.7628504672897196, 3: 1.2733644859813085}                      </td></tr>\n",
       "<tr><td>dm    </td><td>{2: 0.7968428277282087, 3: 1.2299245024021963}                       </td><td>{2: 0.8649392341206146, 3: 1.3056638385691355}</td><td>{2: 0.6898364485981309, 3: 1.092873831775701, 4: 1.4182242990654206}</td></tr>\n",
       "<tr><td>psd   </td><td>{2: 0.46328071379547014, 3: 1.0933424845573096}                      </td><td>{2: 0.4755789956432011, 3: 1.1483604677826187}</td><td>{2: 0.5257009345794392, 3: 1.050233644859813, 4: 1.4550233644859814}</td></tr>\n",
       "<tr><td>eud_pp</td><td>{2: 0.8757721345229924, 3: 1.4385724090597118}                       </td><td>{2: 0.9777573950928686}                       </td><td>{2: 0.8492990654205608, 3: 1.3452102803738317}                      </td></tr>\n",
       "</tbody>\n",
       "</table>"
      ],
      "text/plain": [
       "<IPython.core.display.HTML object>"
      ]
     },
     "metadata": {},
     "output_type": "display_data"
    }
   ],
   "source": [
    "# Add a `potential_pair_count` property to all relevant graphs (those in `all_graphs_with_OT_and_AT`).\n",
    "# This property will quantify how many true (OT,AT) pairs should approximately in the graph.\n",
    "# We will later use it to assess relative coverage of paths.\n",
    "potential_pair_sum = defaultdict(dict)\n",
    "approx_proportion_covered_by_length = defaultdict(dict) \n",
    "\n",
    "for formalism in formalisms:\n",
    "    for domain in domains:\n",
    "        summ = 0\n",
    "        for g in all_graphs_with_OT_and_AT[formalism][domain]:\n",
    "            g.potential_pair_count = min(len(g.opinion_spans), len(g.aspect_spans))\n",
    "            summ += g.potential_pair_count \n",
    "        potential_pair_sum[formalism][domain] = summ\n",
    "        # re-calculate covergae - now, relative to potential matching pairs\n",
    "        accum_counter = counter_as_accumulative(dist_path_length[formalism][domain])\n",
    "        # `accum_counter` counts {i: how many paths are longer than i}\n",
    "        p = {k: v/summ for k,v in accum_counter.items() if v/summ<=1.5}\n",
    "        approx_proportion_covered_by_length[formalism][domain] = p\n",
    "        \n",
    "display_ndict(approx_proportion_covered_by_length, with_mean=False)"
   ]
  },
  {
   "cell_type": "markdown",
   "metadata": {},
   "source": [
    "### Action: Prune by path length\n",
    "*Conclusion*:  pruning with path-length<=2-hops seems reasonable!\n",
    "\n",
    "Generating `all_related_pairs` for better further analyses (and making the analysis on the way)."
   ]
  },
  {
   "cell_type": "code",
   "execution_count": 558,
   "metadata": {},
   "outputs": [],
   "source": [
    "NUM_HOPS_THESHOLD = 2 # path with more hops will be pruned away from `all_related_pairs`\n",
    "\n",
    "all_related_pairs = defaultdict(dict)\n",
    "list_patterns = defaultdict(dict)\n",
    "dist_patterns = defaultdict(dict)\n",
    "num_patterns = defaultdict(dict)\n",
    "set_of_patterns = defaultdict(dict)\n",
    "top10_patterns = defaultdict(dict)\n",
    "\n",
    "for formalism in formalisms:\n",
    "    for domain in domains:\n",
    "        relevant_pairs = []\n",
    "        patterns = []\n",
    "        for g, op, asp in all_possible_pairs[formalism][domain]:\n",
    "            nxg = to_nx(g)\n",
    "            nx_path = get_nx_undirected_path(nxg, op, asp) # nx_path is a node list, so len(path) is 1 + num_hops\n",
    "            if nx_path and len(nx_path) <= 1+NUM_HOPS_THESHOLD: \n",
    "                relevant_pairs.append((g, op, asp))\n",
    "                pattern = deplbl_path_pattern(nxg, op, asp)\n",
    "                patterns.append(json.dumps(pattern))\n",
    "        all_related_pairs[formalism][domain] = relevant_pairs\n",
    "        list_patterns[formalism][domain] = patterns\n",
    "        dist_patterns[formalism][domain] = Counter(patterns)\n",
    "        set_of_patterns[formalism][domain] = set(patterns)\n",
    "        num_patterns[formalism][domain] = len(set(patterns))\n",
    "        top10_patterns[formalism][domain] = dist_patterns[formalism][domain].most_common(10)"
   ]
  },
  {
   "cell_type": "code",
   "execution_count": 423,
   "metadata": {},
   "outputs": [],
   "source": [
    "################### find nice examples for illustration ############\n",
    "pattern2graphs = defaultdict(dict) # map pattern-string to list of graphs (cross-domain)\n",
    "\n",
    "for formalism in formalisms:\n",
    "    for domain in domains:\n",
    "        pattern2graphs[formalism][domain] = defaultdict(list)\n",
    "        patterns = []\n",
    "        for g, op, asp in all_possible_pairs[formalism][domain]:\n",
    "            pattern = deplbl_path_pattern(to_nx(g), op, asp)\n",
    "            patterns.append(pattern)\n",
    "            if pattern:\n",
    "                pattern2graphs[formalism][domain][repr(pattern)].append((g, op, asp))\n"
   ]
  },
  {
   "cell_type": "code",
   "execution_count": 748,
   "metadata": {},
   "outputs": [
    {
     "name": "stdout",
     "output_type": "stream",
     "text": [
      "{'uncomfortable', 'better', 'recommend', 'great', 'bad', 'small', 'cool', 'excellent', 'loud', 'good', 'love', 'beautiful', 'quick'}\n",
      "but the sound is very good ( and loud ) and works well on my portable speakers . asp: (2, 3) sound op: (8, 9) loud\n",
      "\\begin{dependency}[theme=iron, edge theme=copper, label theme=copper] \n",
      "    \\begin{deptext}\n",
      "but \\& the \\& sound \\& is \\& very \\& good \\& ( \\& and \\& loud \\& ) \\& and \\& works \\& well \\& on \\& my \\& portable \\& speakers \\& . \\\\ \n",
      "\\end{deptext}\n",
      "\\depedge{6}{7}{punct} \n",
      "\\depedge{12}{13}{advmod} \n",
      "\\depedge{12}{11}{cc} \n",
      "\\depedge{6}{4}{cop} \n",
      "\\depedge{17}{14}{case} \n",
      "\\depedge{17}{16}{amod} \n",
      "\\depedge{6}{3}{nsubj} \n",
      "\\depedge{6}{5}{advmod} \n",
      "\\depedge{12}{17}{obl} \n",
      "\\depedge{3}{2}{det} \n",
      "\\depedge{6}{10}{punct} \n",
      "\\depedge{6}{1}{cc} \n",
      "\\depedge{6}{9}{conj} \n",
      "\\depedge{17}{15}{nmod:poss} \n",
      "\\depedge{9}{8}{cc} \n",
      "\\depedge{6}{12}{conj} \n",
      "\\depedge{6}{18}{punct} \n",
      "\\wordgroup[group style={fill=blue!20, draw=brown}]{1}{3}{3}{aspect}\n",
      "\\wordgroup[group style={fill=yellow!50, draw=brown}]{1}{9}{9}{opinion}\n",
      "\\end{dependency}\n",
      "\n",
      "The ambience is very calm and quiet . asp: (1, 2) ambience op: (6, 7) quiet\n",
      "\\begin{dependency}[theme=iron, edge theme=copper, label theme=copper] \n",
      "    \\begin{deptext}\n",
      "The \\& ambience \\& is \\& very \\& calm \\& and \\& quiet \\& . \\\\ \n",
      "\\end{deptext}\n",
      "\\depedge{5}{7}{conj} \n",
      "\\depedge{5}{2}{nsubj} \n",
      "\\depedge{5}{8}{punct} \n",
      "\\depedge{2}{1}{det} \n",
      "\\depedge{5}{4}{advmod} \n",
      "\\depedge{7}{6}{cc} \n",
      "\\depedge{5}{3}{cop} \n",
      "\\wordgroup[group style={fill=blue!20, draw=brown}]{1}{2}{2}{aspect}\n",
      "\\wordgroup[group style={fill=yellow!50, draw=brown}]{1}{7}{7}{opinion}\n",
      "\\end{dependency}\n"
     ]
    }
   ],
   "source": [
    "# pattern2graphs[\"spacy\"][\"device\"][\"['OT', 'acomp^-1', '*', 'nsubj', 'AT']\"][1]\n",
    "g, op, asp = pattern2graphs[\"ud\"][\"device\"][\"['OT', 'conj^-1', '*', 'nsubj', 'AT']\"][14]\n",
    "dev_op_to_trip = {g.input.split()[op[0]]: (g, op, asp) \n",
    "                  for g, op, asp in pattern2graphs[\"ud\"][\"device\"][\"['OT', 'conj^-1', '*', 'nsubj', 'AT']\"]}\n",
    "res_op_to_trip = {g.input.split()[op[0]]: (g, op, asp) \n",
    "                  for g, op, asp in pattern2graphs[\"ud\"][\"restaurants\"][\"['OT', 'conj^-1', '*', 'nsubj', 'AT']\"]}\n",
    "\n",
    "print(set(res_op_to_trip.keys()) & set(dev_op_to_trip.keys())) \n",
    "\n",
    "def graph_to_tikz_dependency(g, op, asp):\n",
    "    s = \"\"\"\\\\begin{dependency}[theme=iron, edge theme=copper, label theme=copper] \n",
    "    \\\\begin{deptext}\\n\"\"\"\n",
    "    s += \" \\\\& \".join(g.input.split()) + \" \\\\\\\\ \\n\"\n",
    "    s += \"\\\\end{deptext}\\n\"\n",
    "    s += \"\\n\".join(f\"\\\\depedge{{{e.src+1}}}{{{e.tgt+1}}}{{{e.lab}}} \" for e in g.edges) + \"\\n\"\n",
    "    s += f\"\\\\wordgroup[group style={{fill=blue!20, draw=brown}}]{{1}}{{{asp[0]+1}}}{{{asp[0]+1}}}{{aspect}}\" + \"\\n\"\n",
    "    s += f\"\\\\wordgroup[group style={{fill=yellow!50, draw=brown}}]{{1}}{{{op[0]+1}}}{{{op[0]+1}}}{{opinion}}\" + \"\\n\"\n",
    "    s += \"\\\\end{dependency}\"\n",
    "    return s\n",
    "\n",
    "word = \"loud\"\n",
    "g, op, asp = dev_op_to_trip[word]\n",
    "print(g.input, \"asp:\", asp, g.input.split()[asp[0]], \"op:\", op, g.input.split()[op[0]])\n",
    "print(graph_to_tikz_dependency(g, op, asp))\n",
    "print()\n",
    "g, op, asp = res_op_to_trip[\"quiet\"]\n",
    "print(g.input, \"asp:\", asp, g.input.split()[asp[0]], \"op:\", op, g.input.split()[op[0]])\n",
    "print(graph_to_tikz_dependency(g, op, asp))"
   ]
  },
  {
   "cell_type": "code",
   "execution_count": 726,
   "metadata": {},
   "outputs": [
    {
     "name": "stdout",
     "output_type": "stream",
     "text": [
      "0 Keyboard is great , very quiet for all the typing that I do . asp: (0, 1) Keyboard op: (5, 6) quiet\n",
      "1 keys are all in weird places and is way too large for the way it is designed . asp: (0, 1) keys op: (10, 11) large\n",
      "2 I wish the volume could be louder and the mouse didnt break after only a month . asp: (3, 4) volume op: (11, 12) break\n",
      "3 The screen is very large and crystal clear with amazing colors and resolution . asp: (1, 2) screen op: (6, 8) crystal\n",
      "4 The screen is bright and the keyboard is nice ; asp: (1, 2) screen op: (8, 9) nice\n",
      "5 iTunes is a handy music-management program , and it is essential for anyone with an iPod . asp: (0, 1) iTunes op: (10, 11) essential\n",
      "6 the programs are esay to use and are quick to process this computer works like a charm . asp: (1, 2) programs op: (8, 9) quick\n",
      "7 The price premium is a little much , but when you start looking at the features it is worth the added cash . asp: (1, 3) price op: (18, 19) worth\n",
      "8 Windows is also rather unsteady on its feet and is susceptible to many bugs . asp: (0, 1) Windows op: (10, 11) susceptible\n",
      "9 The 17 inch screen is very large , but the computer is very light . asp: (1, 4) 17 op: (13, 14) light\n",
      "10 The only thing that I do n't like about my mac is that sometimes there are programs that I want to be able to run and I am not able to . asp: (16, 17) programs op: (29, 30) able\n",
      "11 Screen is awesome , battery life is good . asp: (0, 1) Screen op: (7, 8) good\n",
      "12 The graphics were awful and the warranty is n't even worth the cheap payment on the computer . asp: (1, 2) graphics op: (10, 11) worth\n",
      "13 Images are crisp and clean . asp: (0, 1) Images op: (4, 5) clean\n",
      "14 The Apple applications ( ex.iPhoto ) are fun , easy , and really cool to use ( unlike the competition ) ! asp: (1, 3) Apple op: (9, 10) easy\n",
      "15 The Apple applications ( ex.iPhoto ) are fun , easy , and really cool to use ( unlike the competition ) ! asp: (1, 3) Apple op: (13, 14) cool\n",
      "16 The Unibody construction is solid , sleek and beautiful . asp: (1, 3) Unibody op: (6, 7) sleek\n",
      "17 The Unibody construction is solid , sleek and beautiful . asp: (1, 3) Unibody op: (8, 9) beautiful\n",
      "18 the key bindings take a little getting used to , but have loved the Macbook Pro . asp: (1, 3) key op: (12, 13) loved\n",
      "19 The screen is bright and clear , the operating system is solid and friendly to a novice . asp: (1, 2) screen op: (5, 6) clear\n"
     ]
    }
   ],
   "source": [
    "for i, (g, op, asp) in enumerate(pattern2graphs[\"ud\"][\"laptops\"][\"['OT', 'conj^-1', '*', 'nsubj', 'AT']\"][:20]):\n",
    "    print(i, g.input, \"asp:\", asp, g.input.split()[asp[0]], \"op:\", op, g.input.split()[op[0]])"
   ]
  },
  {
   "cell_type": "code",
   "execution_count": 45,
   "metadata": {},
   "outputs": [
    {
     "name": "stdout",
     "output_type": "stream",
     "text": [
      "#-Graphs for analysis (at least one OT & AT):\n"
     ]
    },
    {
     "data": {
      "text/html": [
       "<table>\n",
       "<tbody>\n",
       "<tr><td>-     </td><td>device</td><td>restaurants</td><td>laptops</td></tr>\n",
       "<tr><td>spacy </td><td>1113  </td><td>3181       </td><td>1392   </td></tr>\n",
       "<tr><td>ud    </td><td>1113  </td><td>3181       </td><td>1392   </td></tr>\n",
       "<tr><td>dm    </td><td>1113  </td><td>3181       </td><td>1392   </td></tr>\n",
       "<tr><td>psd   </td><td>1113  </td><td>3181       </td><td>1392   </td></tr>\n",
       "<tr><td>eud_pp</td><td>1113  </td><td>3181       </td><td>1392   </td></tr>\n",
       "</tbody>\n",
       "</table>"
      ],
      "text/plain": [
       "<IPython.core.display.HTML object>"
      ]
     },
     "metadata": {},
     "output_type": "display_data"
    },
    {
     "name": "stdout",
     "output_type": "stream",
     "text": [
      "#-Triplets (g, op, asp) potential (all possible - i.e. within the same sentence):\n"
     ]
    },
    {
     "data": {
      "text/html": [
       "<table>\n",
       "<tbody>\n",
       "<tr><td>-     </td><td>device</td><td>restaurants</td><td>laptops</td></tr>\n",
       "<tr><td>spacy </td><td>3173  </td><td>9946       </td><td>3511   </td></tr>\n",
       "<tr><td>ud    </td><td>3173  </td><td>9946       </td><td>3511   </td></tr>\n",
       "<tr><td>dm    </td><td>3173  </td><td>9946       </td><td>3511   </td></tr>\n",
       "<tr><td>psd   </td><td>3173  </td><td>9946       </td><td>3511   </td></tr>\n",
       "<tr><td>eud_pp</td><td>3173  </td><td>9946       </td><td>3511   </td></tr>\n",
       "</tbody>\n",
       "</table>"
      ],
      "text/plain": [
       "<IPython.core.display.HTML object>"
      ]
     },
     "metadata": {},
     "output_type": "display_data"
    },
    {
     "name": "stdout",
     "output_type": "stream",
     "text": [
      "#-Triplets (g, op, asp) filtered as related:\n"
     ]
    },
    {
     "data": {
      "text/html": [
       "<table>\n",
       "<tbody>\n",
       "<tr><td>-     </td><td>device</td><td>restaurants</td><td>laptops</td></tr>\n",
       "<tr><td>spacy </td><td>1539  </td><td>4573       </td><td>1696   </td></tr>\n",
       "<tr><td>ud    </td><td>1986  </td><td>6574       </td><td>2180   </td></tr>\n",
       "<tr><td>dm    </td><td>1792  </td><td>5694       </td><td>1871   </td></tr>\n",
       "<tr><td>psd   </td><td>1593  </td><td>5008       </td><td>1798   </td></tr>\n",
       "<tr><td>eud_pp</td><td>2096  </td><td>6953       </td><td>2303   </td></tr>\n",
       "</tbody>\n",
       "</table>"
      ],
      "text/plain": [
       "<IPython.core.display.HTML object>"
      ]
     },
     "metadata": {},
     "output_type": "display_data"
    },
    {
     "name": "stdout",
     "output_type": "stream",
     "text": [
      "number of different patterns:\n"
     ]
    },
    {
     "data": {
      "text/html": [
       "<table>\n",
       "<tbody>\n",
       "<tr><td>-     </td><td>device</td><td>restaurants</td><td>laptops</td></tr>\n",
       "<tr><td>spacy </td><td>120   </td><td>164        </td><td>167    </td></tr>\n",
       "<tr><td>ud    </td><td>212   </td><td>277        </td><td>243    </td></tr>\n",
       "<tr><td>dm    </td><td>109   </td><td>146        </td><td>108    </td></tr>\n",
       "<tr><td>psd   </td><td>125   </td><td>242        </td><td>191    </td></tr>\n",
       "<tr><td>eud_pp</td><td>283   </td><td>435        </td><td>339    </td></tr>\n",
       "</tbody>\n",
       "</table>"
      ],
      "text/plain": [
       "<IPython.core.display.HTML object>"
      ]
     },
     "metadata": {},
     "output_type": "display_data"
    },
    {
     "name": "stdout",
     "output_type": "stream",
     "text": [
      "percent of triplets from \"all possible\" covered as \"related\": {'spacy': 0.47595534285538493, 'ud': 0.635927013766423, 'dm': 0.5567177569774256, 'psd': 0.5058907835225023, 'eud_pp': 0.6718623579185731}\n",
      "\t Mean across formalisms: 0.5692706510080618\n"
     ]
    }
   ],
   "source": [
    "# display results in tables\n",
    "print(\"#-Graphs for analysis (at least one OT & AT):\")\n",
    "display_ndict(all_graphs_with_OT_and_AT, with_mean = False, pprint=len)\n",
    "print(\"#-Triplets (g, op, asp) potential (all possible - i.e. within the same sentence):\")\n",
    "display_ndict(all_possible_pairs, with_mean = False, pprint=len)\n",
    "print(\"#-Triplets (g, op, asp) filtered as related:\")\n",
    "display_ndict(all_related_pairs, with_mean = False, pprint=len)\n",
    "print(\"number of different patterns:\")\n",
    "display_ndict(num_patterns, with_mean=False)\n",
    "\n",
    "# Compute aggregated percent of triplets from \"all possible\" covered as \"related\" \n",
    "percent_related = {formalism: np.mean([len(all_related_pairs[formalism][domain])/len(all_possible_pairs[formalism][domain]) \n",
    "                                       for domain in domains])\n",
    "                   for formalism in formalisms}\n",
    "print(f'percent of triplets from \"all possible\" covered as \"related\": {percent_related}')\n",
    "print(f'\\t Mean across formalisms: {np.mean(list(percent_related.values()))}' )"
   ]
  },
  {
   "cell_type": "code",
   "execution_count": 598,
   "metadata": {},
   "outputs": [
    {
     "name": "stdout",
     "output_type": "stream",
     "text": [
      "Cross-domain relative path-pattern overalp:\n"
     ]
    },
    {
     "data": {
      "text/html": [
       "<table>\n",
       "<tbody>\n",
       "<tr><td>-     </td><td>(&#x27;restaurants&#x27;, &#x27;laptops&#x27;)</td><td>(&#x27;restaurants&#x27;, &#x27;device&#x27;)</td><td>(&#x27;laptops&#x27;, &#x27;restaurants&#x27;)</td><td>(&#x27;laptops&#x27;, &#x27;device&#x27;)</td><td>(&#x27;device&#x27;, &#x27;restaurants&#x27;)</td><td>(&#x27;device&#x27;, &#x27;laptops&#x27;)</td></tr>\n",
       "<tr><td>spacy </td><td>89.9                      </td><td>87.4                     </td><td>97.5                      </td><td>96.8                 </td><td>95.3                     </td><td>93.0                 </td></tr>\n",
       "<tr><td>ud    </td><td>93.4                      </td><td>94.0                     </td><td>96.7                      </td><td>95.9                 </td><td>95.7                     </td><td>93.1                 </td></tr>\n",
       "<tr><td>dm    </td><td>97.8                      </td><td>97.9                     </td><td>97.9                      </td><td>97.0                 </td><td>97.3                     </td><td>97.1                 </td></tr>\n",
       "<tr><td>psd   </td><td>93.8                      </td><td>95.5                     </td><td>95.3                      </td><td>96.8                 </td><td>93.2                     </td><td>90.4                 </td></tr>\n",
       "<tr><td>eud_pp</td><td>89.4                      </td><td>91.2                     </td><td>93.1                      </td><td>92.0                 </td><td>92.3                     </td><td>88.7                 </td></tr>\n",
       "</tbody>\n",
       "</table>"
      ],
      "text/plain": [
       "<IPython.core.display.HTML object>"
      ]
     },
     "metadata": {},
     "output_type": "display_data"
    }
   ],
   "source": [
    "# compute overlap in patterns\n",
    "pattern_overlap_set = {formalism: {(dom1, dom2): set_of_patterns[formalism][dom1] & set_of_patterns[formalism][dom2]\n",
    "                                   for dom1, dom2 in permutations(domains, 2)} \n",
    "                       for formalism in formalisms}\n",
    "# count #-instances in dom2 included in overlap with dom1\n",
    "pattern_overlap_amount = {formalism: {(dom1, dom2): list_patterns[formalism][dom2].count(\n",
    "    lambda e: e in pattern_overlap_set[formalism][(dom1, dom2)]) \n",
    "                                      for dom1, dom2 in permutations(domains, 2)} \n",
    "                          for formalism in formalisms}\n",
    "pattern_overlap_ratio = {formalism: {(dom1, dom2): pattern_overlap_amount[formalism][(dom1,dom2)] / len(list_patterns[formalism][dom2])\n",
    "                                     for dom1, dom2 in permutations(domains, 2)} \n",
    "                         for formalism in formalisms}\n",
    "print(\"Cross-domain relative path-pattern overalp:\")\n",
    "display_ndict(pattern_overlap_ratio, pprint=lambda x:f\"{x*100:.1f}\", with_mean=False)"
   ]
  },
  {
   "cell_type": "markdown",
   "metadata": {},
   "source": [
    "\n",
    "#### Top-k patterns heuristics"
   ]
  },
  {
   "cell_type": "code",
   "execution_count": 783,
   "metadata": {},
   "outputs": [
    {
     "name": "stdout",
     "output_type": "stream",
     "text": [
      "164\n"
     ]
    },
    {
     "data": {
      "image/png": "[encoded data removed]",
      "text/plain": [
       "<Figure size 432x288 with 1 Axes>"
      ]
     },
     "metadata": {},
     "output_type": "display_data"
    },
    {
     "name": "stdout",
     "output_type": "stream",
     "text": [
      "277\n"
     ]
    },
    {
     "data": {
      "image/png": "[encoded data removed]",
      "text/plain": [
       "<Figure size 432x288 with 1 Axes>"
      ]
     },
     "metadata": {},
     "output_type": "display_data"
    },
    {
     "name": "stdout",
     "output_type": "stream",
     "text": [
      "146\n"
     ]
    },
    {
     "data": {
      "image/png": "[encoded data removed]",
      "text/plain": [
       "<Figure size 432x288 with 1 Axes>"
      ]
     },
     "metadata": {},
     "output_type": "display_data"
    },
    {
     "name": "stdout",
     "output_type": "stream",
     "text": [
      "242\n"
     ]
    },
    {
     "data": {
      "image/png": "[encoded data removed]",
      "text/plain": [
       "<Figure size 432x288 with 1 Axes>"
      ]
     },
     "metadata": {},
     "output_type": "display_data"
    }
   ],
   "source": [
    "# def display_cum_dist_as_bar_chart(counter: Dict[Any, Numeric], \n",
    "#                                   ax,\n",
    "#                                   title: str = '',\n",
    "#                                   save_as=None,\n",
    "#                                   xlabel = '',\n",
    "#                                   ylabel = '',\n",
    "#                                   show=True):\n",
    "#     print(len(counter))\n",
    "#     # plot_bar_with_long_labels(*zip(*deplbl_top10[formalism][domain]), title=formalism)\n",
    "#     data = sorted(counter.values(), reverse=True)\n",
    "#     cum = np.cumsum(data)\n",
    "# #     ax = plt.subplot(1,4, subplot_index)\n",
    "#     ax.bar(np.arange(len(cum)), cum, color = 'red', edgecolor = 'red')\n",
    "#     ax.set_title(title)\n",
    "#     if xlabel:\n",
    "#         ax.xlabel(xlabel)\n",
    "#     if ylabel:\n",
    "#         ax.ylabel(ylabel)\n",
    "#     if save_as:\n",
    "#         ax.savefig(save_as)\n",
    "#     if show:\n",
    "#         ax.show()\n",
    "        \n",
    "# collect the overall pattern distribution across domains\n",
    "pattern_dist_across_domains = {formalism: sum([dist_patterns[formalism][domain] for domain in domains], Counter())\n",
    "                               for formalism in formalisms}\n",
    "\n",
    "# fig, axes = plt.subplots(nrows=3, ncols=4, figsize=(24, 14))\n",
    "domain = \"restaurants\"\n",
    "for i, formalism in enumerate(formalisms[:4]):\n",
    "    relative = counter_as_relative(dist_patterns[formalism][domain])\n",
    "    display_cum_dist_as_bar_chart(relative, \n",
    "                                  title=f\"{domain.title()} - {formalism.upper()}\",\n",
    "                                  save_as=f\"pattern_cum_distribution_{formalism}_{domain}.jpg\",\n",
    "                                  xlabel=\"Number of patterns\",\n",
    "                                  ylabel=\"Fraction of OT--AT pairs\")\n",
    "# fig.tight_layout()\n",
    "# fig.show()"
   ]
  },
  {
   "cell_type": "code",
   "execution_count": null,
   "metadata": {},
   "outputs": [],
   "source": [
    "fig.savefig(\"pattern_cum_distribution_all.png\")"
   ]
  },
  {
   "cell_type": "markdown",
   "metadata": {},
   "source": [
    "**Conclusion**: *Top-k patterns* is quite a \"wide-covering\" heuristic - with K=25 we get ~80-85% for PSD,DM and spacy or around 70-75% for UD and EUD.  With K=100 we get up 92%-98% (87% for EUD) coverage, which is not bad. \n",
    "However, selecting top-k pattern and leaving the rest of patterns as UNK_PATTERN will leave out a lot of information.  \n",
    "\n",
    "#### Reducing \\ Clustering the pattern-space \n",
    "We suggest two reductions for pattern space:\n",
    "\n",
    "* `trimmed_pattern`: The label would be a representation of **first two hops**, while next hops are totally \"anonimized\", i.e. labels just denotes \"another-hop\" with direction. We may call this shortened pattern `trim_patt` for short .\n",
    "* `bare_pattern`: The label would only represent the direction of edges in the path, stripping out dependency label. "
   ]
  },
  {
   "cell_type": "code",
   "execution_count": 47,
   "metadata": {},
   "outputs": [
    {
     "data": {
      "text/plain": [
       "['[\"OT\", \"am', '[\"OT\", \"ac', '[\"OT\", \"xc', '[\"OT\", \"pr']"
      ]
     },
     "execution_count": 47,
     "metadata": {},
     "output_type": "execute_result"
    }
   ],
   "source": [
    "top10_patterns[\"spacy\"][\"device\"][:4].map(lambda a:a[0][:10])"
   ]
  },
  {
   "cell_type": "code",
   "execution_count": 48,
   "metadata": {},
   "outputs": [],
   "source": [
    "def label2pure_direction(lbl: str) -> str:\n",
    "    return \"<-\" if \"^-1\" in lbl else \"->\"\n",
    "\n",
    "def pattern_to_trimmed_pattern(pattern: Union[List[str], str]) -> Union[List[str], str]:\n",
    "    # handle also string representation of patterns\n",
    "    as_str = isinstance(pattern, str)\n",
    "    if as_str:\n",
    "        pattern = json.loads(pattern)\n",
    "    # trim \n",
    "    # (1) take first 2 hops\n",
    "    trimmed = pattern[:4]\n",
    "    # (2) \"anonimize\" rest of hops - keep directionality of dep-labels\n",
    "    anon_element = lambda s: \"*\" if s is \"*\" else label2pure_direction(s)\n",
    "    if len(pattern) > 4:\n",
    "        trimmed += list(map(anon_element, pattern[4:-1])) + pattern[-1:]\n",
    "    # restore to str if input was str\n",
    "    if as_str:\n",
    "        trimmed = json.dumps(trimmed)\n",
    "    return trimmed\n",
    "\n",
    "\n",
    "def pattern_to_bare_pattern(pattern: Union[List[str], str]) -> Union[List[str], str]:\n",
    "    # handle also string representation of patterns\n",
    "    as_str = isinstance(pattern, str)\n",
    "    if as_str:\n",
    "        pattern = json.loads(pattern)\n",
    "    # strip out labels, keeping only directionality \n",
    "    element_to_bare = lambda s: s if s in (\"*\", \"AT\", \"OT\") else label2pure_direction(s)\n",
    "    bared = list(map(element_to_bare, pattern)) \n",
    "    # restore to str if input was str\n",
    "    if as_str:\n",
    "        bared = json.dumps(bared)\n",
    "    return bared"
   ]
  },
  {
   "cell_type": "code",
   "execution_count": 49,
   "metadata": {},
   "outputs": [
    {
     "name": "stdout",
     "output_type": "stream",
     "text": [
      "pattern: ['OT', 'advcl:in^-1', '*', 'nsubj:xcomp(INF)', 'AT']\n",
      "trimmed: [\"OT\", \"amod^-1\", \"AT\"]\n",
      "bare: [\"OT\", \"<-\", \"AT\"]\n",
      "\n",
      "pattern: ['OT', 'advcl:in^-1', '*', 'nsubj:xcomp(INF)', 'AT']\n",
      "trimmed: [\"OT\", \"det^-1\", \"AT\"]\n",
      "bare: [\"OT\", \"<-\", \"AT\"]\n",
      "\n",
      "pattern: ['OT', 'advcl:in^-1', '*', 'nsubj:xcomp(INF)', 'AT']\n",
      "trimmed: [\"OT\", \"det^-1\", \"*\", \"compound^-1\", \"AT\"]\n",
      "bare: [\"OT\", \"<-\", \"*\", \"<-\", \"AT\"]\n",
      "\n",
      "pattern: ['OT', 'advcl:in^-1', '*', 'nsubj:xcomp(INF)', 'AT']\n",
      "trimmed: [\"OT\", \"conj\", \"*\", \"obl:npmod\", \"AT\"]\n",
      "bare: [\"OT\", \"->\", \"*\", \"->\", \"AT\"]\n",
      "\n"
     ]
    }
   ],
   "source": [
    "# test\n",
    "for patt in list_patterns[\"ud\"][\"laptops\"][12:16]:\n",
    "    trim = pattern_to_trimmed_pattern(patt)\n",
    "    bare = pattern_to_bare_pattern(patt)\n",
    "    print(f\"pattern: {pattern}\")\n",
    "    print(f\"trimmed: {trim}\")\n",
    "    print(f\"bare: {bare}\")\n",
    "    print()"
   ]
  },
  {
   "cell_type": "markdown",
   "metadata": {},
   "source": [
    "# Analysing the Pivot Approach Potential\n",
    "\n",
    "Since a lot of our ideas is based on the thought that Opinion Terms can serve as pivots for generalizing Aspect Term Extraction across domains, here we shall test this underlying assumption. \n",
    "\n",
    "We wish to quantify how many of the apsect terms in a target domain T are extractable based on the OT->-AT path pattern in source domain S. Our \"predictor\" is deterministically applying the top K path-patterns from S and retrieving all possible tokens that match this pattern as predicted AT.  Specifically, we measure what is the *recall* and *precision* of this approach for K $\\in$ \\[1,3,5,10,25,50,100\\] for each formalism. \n",
    "\n",
    "(We can also decide to select P $\\in$ (0,1) instead of K, where `K <- num-pattern * P`; or instead select theshold T for taking pattern occuring more than T times)\n"
   ]
  },
  {
   "cell_type": "code",
   "execution_count": 53,
   "metadata": {},
   "outputs": [],
   "source": [
    "\n",
    "# **** Per instance prediction function ****\n",
    "def extract_by_patterns(g, ot_span, patterns) -> Set[int]:\n",
    "    \"\"\" Given an instance, return the predicted \"aspect terms\" tokens \"\"\"\n",
    "    def pattern2hops(pattern: str) -> List[Tuple[str,str]]:\n",
    "        \"\"\" E.g '[\"OT\", \"acomp^-1\", \"*\", \"nsubj\", \"AT\"]' -> [('acomp', 'in'), ('nsubj', 'out')] \"\"\"\n",
    "        pattern = json.loads(pattern)\n",
    "        edge2hop = lambda e: (e, \"out\") if \"^-1\" not in e else (e.rstrip(\"^-1\"), \"in\")\n",
    "        hops = [edge2hop(pattern[i]) for i in range(1,len(pattern),2)]\n",
    "        return hops\n",
    "\n",
    "    def follow_hop(g, src_node, hop) -> List[Node]:\n",
    "        lbl, dir = hop\n",
    "        edges = {\"in\": src_node.incoming_edges, \"out\": src_node.outgoing_edges}[dir]\n",
    "        matching_edges = filter(lambda e:e.lab==lbl, edges)\n",
    "        if dir==\"out\":\n",
    "            return [g.find_node(e.tgt) for e in matching_edges]\n",
    "        else:\n",
    "            return [g.find_node(e.src) for e in matching_edges]\n",
    "\n",
    "    def follow_path(g, src_node, hops) -> List[Node]: \n",
    "        \"\"\" Returns all target nodes (ids) that match the path pattern from src_node. \"\"\"\n",
    "        hop, next_hops = hops[0], hops[1:]\n",
    "        next_nodes = follow_hop(g, src_node, hop)\n",
    "        if not next_hops: # -- end of route\n",
    "            return next_nodes\n",
    "        else:\n",
    "            dests = []\n",
    "            for next_node in next_nodes:\n",
    "                # continue recursively from next_nodes in path\n",
    "                dests.extend(follow_path(g, next_node, next_hops))\n",
    "            return dests\n",
    "    matching_indices = set()\n",
    "    for ot_token, pattern in product(range(*ot_span), patterns):\n",
    "        src_node = g.find_node(ot_token)\n",
    "        assert ot_token == src_node.id, f\"token index {ot_token} != node id {src_node.id}\"\n",
    "        hops = pattern2hops(pattern)\n",
    "        matching_nodes = follow_path(g, src_node, hops)\n",
    "        matching_indices.update([n.id for n in matching_nodes])\n",
    "    return matching_indices"
   ]
  },
  {
   "cell_type": "code",
   "execution_count": 258,
   "metadata": {},
   "outputs": [],
   "source": [
    "# Evaluation utils\n",
    "def eval_p_r_f1(tp, fp, fn):\n",
    "    if hasattr(tp, '__len__'):\n",
    "        tp = len(set(tp))\n",
    "    if hasattr(fp, '__len__'):\n",
    "        fp = len(set(fp))\n",
    "    if hasattr(fn, '__len__'):\n",
    "        fn = len(set(fn))\n",
    "    p = float(tp) / (tp + fp) if tp + fp > 0 else None\n",
    "    r = float(tp) / (tp + fn) if tp + fn > 0 else None\n",
    "    f1 = (2*p*r)/(p+r) if p and r else None\n",
    "    return p, r, f1\n",
    "def evaluate_sets(gold, predicted) -> Tuple[float, float, float]: # precision, recall, F1\n",
    "    tp = len(set(gold) & set(predicted))\n",
    "    fp = len(set(predicted) - set(gold))\n",
    "    fn = len(set(gold) - set(predicted))\n",
    "    return eval_p_r_f1(tp, fp, fn)\n",
    "def compute_eval_groups_from_sets(gold, predicted) -> Tuple[float, float, float]: # precision, recall, F1\n",
    "    tp = set(gold) & set(predicted)\n",
    "    fp = set(predicted) - set(gold)\n",
    "    fn = set(gold) - set(predicted)\n",
    "    return tp, fp, fn\n",
    "def pretty_eval(p,r,f1):\n",
    "    return f\"P: {p:.2}   R: {r:.2}   F1: {f1:.2}\"\n"
   ]
  },
  {
   "cell_type": "code",
   "execution_count": 634,
   "metadata": {},
   "outputs": [],
   "source": [
    "# pivot_potential_ndict = defaultdict(dict)\n",
    "# pivot_potential_indomain_ndict = defaultdict(dict)\n",
    "pivot_potential_per_domains_ndict = {}"
   ]
  },
  {
   "cell_type": "code",
   "execution_count": 654,
   "metadata": {},
   "outputs": [
    {
     "name": "stdout",
     "output_type": "stream",
     "text": [
      "spacy:  restaurants: 10 patterns\tlaptops: 10 patterns\tdevice: 10 patterns\n",
      "ud:  restaurants: 10 patterns\tlaptops: 10 patterns\tdevice: 10 patterns\n",
      "dm:  restaurants: 10 patterns\tlaptops: 10 patterns\tdevice: 10 patterns\n",
      "psd:  restaurants: 10 patterns\tlaptops: 10 patterns\tdevice: 10 patterns\n"
     ]
    }
   ],
   "source": [
    "\n",
    "pivot_asp_predictions = defaultdict(dict)  \n",
    "# pivot_asp_predictions form: {formalism: {datatset: {\"TP\": [(sent, idx)...], \"FP\": ...}}}\n",
    "\n",
    "def taken_patterns(pattern_counter: Counter, K=None, P=None, T=None) -> List[Tuple[str, int]]:\n",
    "    \"\"\"\n",
    "    K: take most common K patterns\n",
    "    P: take most common %P patterns\n",
    "    T: take patterns occuring more than T times\n",
    "    \"\"\" \n",
    "    if K:\n",
    "        return pattern_counter.most_common(K)\n",
    "    elif P:\n",
    "        K = int(len(pattern_counter) * P)\n",
    "        return pattern_counter.most_common(K)\n",
    "    elif T:\n",
    "        return list(filter(lambda kv: kv[1]>=T, pattern_counter.items()))\n",
    "\n",
    "for k, formalism in product([10], [\"spacy\", \"ud\", \"dm\", \"psd\"]): #,5,10,25,50\n",
    "# for formalism in \"spacy\", \"ud\", \"dm\":\n",
    "    precisions = []; recalls = []; f1s = []\n",
    "    # pivot_potential_per_domains_ndict[k] = defaultdict(dict)\n",
    "\n",
    "    for source_domain, target_domain in datasets: #[(d,d) for d in domains]:\n",
    "        # actual function\n",
    "        top_k_patterns = list(map(lambda x:x[0], taken_patterns(dist_patterns[formalism][source_domain], K=k)))\n",
    "        graphs = all_graphs[formalism][target_domain]\n",
    "#         print(f\"Num graphs (target domain is {target_domain}): {len(graphs)}\")\n",
    "        gold_AT_tokens = [(g, at_token) \n",
    "                          for g in graphs \n",
    "                          for aspect_span in g.aspect_spans\n",
    "                          for at_token in range(*aspect_span)]\n",
    "        dataset_name = f\"{source_domain[0].upper()}->{target_domain[0].upper()}\"\n",
    "        dataset_full_name = f\"{source_domain}_to_{target_domain}\"\n",
    "#         print(f\"\\n{dataset_name}:\")\n",
    "#         print(f\"num gold AT tokens: {len(gold_AT_tokens)}, e.g. {gold_AT_tokens[0]}\")\n",
    "\n",
    "        # predict all AT tokens\n",
    "        predicted_AT_tokens = []\n",
    "        for g in graphs:\n",
    "            for ot_span in g.opinion_spans:\n",
    "                aspect_toks = extract_by_patterns(g, ot_span, top_k_patterns)\n",
    "                predicted_AT_tokens.extend([(g, asp) for asp in aspect_toks])\n",
    "\n",
    "#         print(f\"num predicted AT tokens: {len(predicted_AT_tokens)}, e.g. {predicted_AT_tokens[0]}\")\n",
    "\n",
    "        tp, fp, fn = compute_eval_groups_from_sets(gold_AT_tokens, predicted_AT_tokens)\n",
    "        p,r,f1 = evaluate_sets(gold_AT_tokens, predicted_AT_tokens)\n",
    "#         print(pretty_eval(p,r,f1))\n",
    "        precisions.append(p); recalls.append(r); f1s.append(f1)\n",
    "        pivot_potential_per_domains_ndict[k][formalism][dataset_name] = pretty_eval(p,r,f1)\n",
    "        # for comparing to model, next section\n",
    "        pivot_asp_predictions[formalism][dataset_full_name] = [(g.input.lower(), i) for g,i in predicted_AT_tokens]\n",
    "    \n",
    "    print(f\"{formalism}: \", '\\t'.join([f\"{domain}: {len(taken_patterns(dist_patterns[formalism][domain], K=k))} patterns\" for domain in domains]))\n",
    "    pivot_potential_indomain_ndict[formalism][k] = f\"P: {np.mean(precisions):.2}   R: {np.mean(recalls):.2}    F1: {np.mean(f1s):.2}\""
   ]
  },
  {
   "cell_type": "code",
   "execution_count": 644,
   "metadata": {},
   "outputs": [
    {
     "data": {
      "text/html": [
       "<table>\n",
       "<tbody>\n",
       "<tr><td>-    </td><td>R-&gt;R                        </td><td>L-&gt;L                        </td><td>D-&gt;D                        </td><td>R-&gt;L                        </td><td>R-&gt;D                        </td><td>L-&gt;R                        </td><td>L-&gt;D                        </td><td>D-&gt;R                        </td><td>D-&gt;L                        </td></tr>\n",
       "<tr><td>psd  </td><td>P: 0.36   R: 0.4   F1: 0.38 </td><td>P: 0.22   R: 0.27   F1: 0.24</td><td>P: 0.35   R: 0.36   F1: 0.35</td><td>P: 0.22   R: 0.26   F1: 0.24</td><td>P: 0.41   R: 0.34   F1: 0.37</td><td>P: 0.35   R: 0.4   F1: 0.38 </td><td>P: 0.41   R: 0.35   F1: 0.38</td><td>P: 0.3   R: 0.4   F1: 0.34  </td><td>P: 0.19   R: 0.27   F1: 0.22</td></tr>\n",
       "<tr><td>spacy</td><td>P: 0.57   R: 0.37   F1: 0.45</td><td>P: 0.28   R: 0.24   F1: 0.26</td><td>P: 0.6   R: 0.34   F1: 0.43 </td><td>P: 0.32   R: 0.22   F1: 0.26</td><td>P: 0.61   R: 0.29   F1: 0.4 </td><td>P: 0.49   R: 0.37   F1: 0.42</td><td>P: 0.58   R: 0.33   F1: 0.42</td><td>P: 0.54   R: 0.37   F1: 0.44</td><td>P: 0.3   R: 0.24   F1: 0.27 </td></tr>\n",
       "<tr><td>ud   </td><td>P: 0.44   R: 0.39   F1: 0.42</td><td>P: 0.26   R: 0.24   F1: 0.25</td><td>P: 0.53   R: 0.32   F1: 0.4 </td><td>P: 0.26   R: 0.23   F1: 0.24</td><td>P: 0.46   R: 0.29   F1: 0.36</td><td>P: 0.44   R: 0.39   F1: 0.41</td><td>P: 0.47   R: 0.3   F1: 0.36 </td><td>P: 0.49   R: 0.37   F1: 0.43</td><td>P: 0.26   R: 0.23   F1: 0.24</td></tr>\n",
       "<tr><td>dm   </td><td>P: 0.51   R: 0.39   F1: 0.44</td><td>P: 0.29   R: 0.26   F1: 0.28</td><td>P: 0.56   R: 0.38   F1: 0.45</td><td>P: 0.29   R: 0.25   F1: 0.27</td><td>P: 0.6   R: 0.34   F1: 0.44 </td><td>P: 0.52   R: 0.4   F1: 0.45 </td><td>P: 0.6   R: 0.37   F1: 0.46 </td><td>P: 0.47   R: 0.39   F1: 0.43</td><td>P: 0.26   R: 0.26   F1: 0.26</td></tr>\n",
       "</tbody>\n",
       "</table>"
      ],
      "text/plain": [
       "<IPython.core.display.HTML object>"
      ]
     },
     "metadata": {},
     "output_type": "display_data"
    }
   ],
   "source": [
    "# display_ndict(pivot_potential_indomain_ndict, with_mean=False)\n",
    "display_ndict(pivot_potential_per_domains_ndict[10], with_mean=False)\n",
    "\n",
    "# len(pivot_potential_per_domains_k25_ndict)\n"
   ]
  },
  {
   "cell_type": "code",
   "execution_count": 616,
   "metadata": {},
   "outputs": [],
   "source": []
  },
  {
   "cell_type": "markdown",
   "metadata": {},
   "source": [
    "## Compare pivot-based deterministic prediction to model's predictions"
   ]
  },
  {
   "cell_type": "markdown",
   "metadata": {},
   "source": [
    "#### Extract test predictions from model's log"
   ]
  },
  {
   "cell_type": "code",
   "execution_count": 792,
   "metadata": {},
   "outputs": [],
   "source": [
    "def compare_pivot_to_model(exp_id, formalism, src_domain, tgt_domain, baseline=False, model=\"bert\", baseline_dir=None):\n",
    "    model_name = f\"{model}_baseline\" if baseline else model\n",
    "    def compare_specific_run(predictions_fn, is_print=False):\n",
    "        with open(predictions_fn) as fin:\n",
    "            blocks = [[line.split(\"\\t\") for line in block.split(\"\\n\")] \n",
    "                      for block in fin.read().strip().split(\"\\n\\n\")]\n",
    "        \"\"\" blocks is like-\n",
    "        [[['great', 'B-OP', 'O'],\n",
    "          ['taste', 'O', 'O']],\n",
    "         [['service', 'B-OP', 'B-ASP'],\n",
    "          ['-', 'O', 'O'],\n",
    "          ['friendly', 'B-OP', 'B-OP'],\n",
    "          ['and', 'O', 'O'],\n",
    "          ['attentive', 'B-OP', 'B-OP'],\n",
    "          ['.', 'O', 'O']]\n",
    "         ...]\n",
    "         \"\"\"\n",
    "\n",
    "        # Compute model's performance on intersecting sentences\n",
    "        TPs, FPs, FNs, model_preds, golds = defaultdict(list), defaultdict(list), defaultdict(list), defaultdict(list), defaultdict(list)\n",
    "        pivot_sentences=set(s for s,i in pivot_asp_predictions[formalism][dataset])\n",
    "        model_test_sentences = set()\n",
    "        shared_sentences = set()\n",
    "        for sent in blocks:\n",
    "            tokens, pred_lbls, gold_lbls = list(zip(*sent))[:3]\n",
    "            sent_str = ' '.join(tokens)\n",
    "            model_test_sentences.add(sent_str)\n",
    "            if sent_str in pivot_sentences:\n",
    "                shared_sentences.add(sent_str)\n",
    "            else:\n",
    "                continue\n",
    "            # compute TP,FP,FN in token level - ignore B\\I difference\n",
    "            def lbl(bio_tag):\n",
    "                return bio_tag.split(\"-\")[1] if \"-\" in bio_tag else \"O\"\n",
    "            for i, (pred, gold) in enumerate(zip(pred_lbls, gold_lbls)):\n",
    "                pred, gold = lbl(pred), lbl(gold)       \n",
    "                if pred==gold and gold != \"O\":\n",
    "                    TPs[gold].append((sent_str, i))\n",
    "                    golds[gold].append((sent_str, i))\n",
    "                    model_preds[pred].append((sent_str, i))\n",
    "                elif pred!=gold:\n",
    "                    if gold != \"O\":\n",
    "                        FNs[gold].append((sent_str, i))\n",
    "                        golds[gold].append((sent_str, i))\n",
    "                    if pred != \"O\":\n",
    "                        FPs[pred].append((sent_str, i))\n",
    "                        model_preds[pred].append((sent_str, i))\n",
    "        if is_print:\n",
    "            print(f\"*** Formalism: {formalism} \\t Dataset: {dataset} \\t model type: {model} \\t baseline model: {baseline} ***\")\n",
    "            print(\"Model predictions: \")\n",
    "            #print(f'OP:  {len(TPs[\"OP\"])} TPs,  {len(FPs[\"OP\"])} FPs,  {len(FNs[\"OP\"])} FNs;\\t {pretty_eval(*eval_p_r_f1(len(TPs[\"OP\"]), len(FPs[\"OP\"]), len(FNs[\"OP\"])))}')\n",
    "            print(f'ASP: {len(TPs[\"ASP\"])} TPs,  {len(FPs[\"ASP\"])} FPs,  {len(FNs[\"ASP\"])} FNs;\\t {pretty_eval(*eval_p_r_f1(len(TPs[\"ASP\"]), len(FPs[\"ASP\"]), len(FNs[\"ASP\"])))}')\n",
    "\n",
    "        # prepare analsis - consider only sentences in intersection\n",
    "        pv_predicted_all = pivot_asp_predictions[formalism][dataset]    \n",
    "        # filter by sentences in model's predictions\n",
    "        is_in_shared_sents = lambda s_i: s_i[0] in shared_sentences \n",
    "        pv_predicted = sorted(filter(is_in_shared_sents, pv_predicted_all))\n",
    "        pv = {}\n",
    "        pv['TP'], pv['FP'], pv['FN'] = compute_eval_groups_from_sets(golds['ASP'], pv_predicted)\n",
    "        # recall-wise\n",
    "        inclusive_joint_tp = set(TPs['ASP']) | set(pv['TP'])\n",
    "        mod_r = len(TPs['ASP']) / (len(TPs['ASP']) + len(FNs['ASP']))\n",
    "        joint_r = len(inclusive_joint_tp) / (len(TPs['ASP']) + len(FNs['ASP']))\n",
    "        # precision-wise\n",
    "        mod_p = len(TPs['ASP']) / (len(TPs['ASP']) + len(FPs['ASP'])) if len(TPs['ASP']) > 0 else 1\n",
    "        joint_p = len(inclusive_joint_tp) / (len(inclusive_joint_tp | set(FPs['ASP'])))\n",
    "\n",
    "        # print performance of two approcahes\n",
    "        if is_print:\n",
    "            report_overlap(model_pred=model_preds['ASP'], pivot_pred=pv_predicted)\n",
    "            report_overlap(model_tp=TPs['ASP'], pivot_tp=pv['TP'])\n",
    "            print(f\"Pivot-method performance:\\t\\t {pretty_eval(*eval_p_r_f1(pv['TP'], pv['FP'], pv['FN']))}\")\n",
    "            print(f\"Out of {len(set(FNs['ASP']))} model's Aspect-Term misses (FN), {len(set(FNs['ASP']) & set(pv['TP']))} are covered correctly by pivoting, while {len(set(FNs['ASP']) & set(pv['FN']))} are also missed by it\")\n",
    "            print(f\"\\tThat is: model's recall can improve from {mod_r:.02f} to potentially {joint_r:.02f}\")\n",
    "            print(f\"Out of {len(set(FPs['ASP']))} model's Aspect-Term mistakes (FP), {len(set(FPs['ASP']) - set(pv['FP']))} are correctly not-predicted by pivoting, while {len(set(FPs['ASP']) & set(pv['FP']))} are also erroneously predicted by it\")\n",
    "            print(f\"\\tThat is: model's precision can improve from {mod_p:.02f} to potentially {joint_p:.02f}\")\n",
    "            print()\n",
    "        r_abs_improvement = joint_r - mod_r\n",
    "        p_abs_improvement = joint_p - mod_p\n",
    "        return r_abs_improvement, p_abs_improvement \n",
    "    # aggragate and average runs\n",
    "    exp_base_dir = f\"{libert_dir}/logs/{exp_id}/{formalism}\"\n",
    "    if baseline_dir:\n",
    "        exp_base_dir = f\"{libert_dir}/logs/{baseline_dir}\" \n",
    "    dataset = f\"{src_domain}_to_{tgt_domain}\"\n",
    "    dataset_dir = f\"{exp_base_dir}/{dataset}\"\n",
    "    predictions_fn_query = f\"{dataset_dir}/{model_name}_seed_*_split_*_test/epoch-*-predictions.txt\"\n",
    "    print(predictions_fn_query)\n",
    "    r_abs_improvements, p_abs_improvements = zip(*[compare_specific_run(fn, is_print=(i==0)) \n",
    "                                                   for i,fn in enumerate(glob(predictions_fn_query))])\n",
    "    return np.mean(r_abs_improvements), np.mean(p_abs_improvements)\n",
    "           "
   ]
  },
  {
   "cell_type": "code",
   "execution_count": 793,
   "metadata": {},
   "outputs": [
    {
     "name": "stdout",
     "output_type": "stream",
     "text": [
      "/data/home/ayalklei/nlp-architect/nlp_architect/models/libert/logs/li-vanila-with-predictions-20E_Sat_Jan_23_22:44:04/dm/restaurants_to_laptops/libert_seed_*_split_*_test/epoch-*-predictions.txt\n",
      "*** Formalism: dm \t Dataset: restaurants_to_laptops \t model type: libert \t baseline model: False ***\n",
      "Model predictions: \n",
      "ASP: 451 TPs,  265 FPs,  287 FNs;\t P: 0.63   R: 0.61   F1: 0.62\n",
      "|model_pred|=715, |pivot_pred|=935;   Union: 1353  Intersection: 297 \n",
      "|model_pred-pivot_pred|=418, |pivot_pred-model_pred|=638;   \n",
      "|model_tp|=451, |pivot_tp|=294;   Union: 533  Intersection: 212 \n",
      "|model_tp-pivot_tp|=239, |pivot_tp-model_tp|=82;   \n",
      "Pivot-method performance:\t\t P: 0.31   R: 0.4   F1: 0.35\n",
      "Out of 285 model's Aspect-Term misses (FN), 82 are covered correctly by pivoting, while 203 are also missed by it\n",
      "\tThat is: model's recall can improve from 0.61 to potentially 0.72\n",
      "Out of 264 model's Aspect-Term mistakes (FP), 179 are correctly not-predicted by pivoting, while 85 are also erroneously predicted by it\n",
      "\tThat is: model's precision can improve from 0.63 to potentially 0.67\n",
      "\n",
      "/data/home/ayalklei/nlp-architect/nlp_architect/models/libert/logs/li-patt-with-predictions-20E_Thu_Jan_21_00:17:10/dm/restaurants_to_laptops/libert_seed_*_split_*_test/epoch-*-predictions.txt\n",
      "*** Formalism: dm \t Dataset: restaurants_to_laptops \t model type: libert \t baseline model: False ***\n",
      "Model predictions: \n",
      "ASP: 455 TPs,  253 FPs,  283 FNs;\t P: 0.64   R: 0.62   F1: 0.63\n",
      "|model_pred|=707, |pivot_pred|=935;   Union: 1362  Intersection: 280 \n",
      "|model_pred-pivot_pred|=427, |pivot_pred-model_pred|=655;   \n",
      "|model_tp|=455, |pivot_tp|=294;   Union: 546  Intersection: 203 \n",
      "|model_tp-pivot_tp|=252, |pivot_tp-model_tp|=91;   \n",
      "Pivot-method performance:\t\t P: 0.31   R: 0.4   F1: 0.35\n",
      "Out of 281 model's Aspect-Term misses (FN), 91 are covered correctly by pivoting, while 190 are also missed by it\n",
      "\tThat is: model's recall can improve from 0.62 to potentially 0.74\n",
      "Out of 252 model's Aspect-Term mistakes (FP), 175 are correctly not-predicted by pivoting, while 77 are also erroneously predicted by it\n",
      "\tThat is: model's precision can improve from 0.64 to potentially 0.68\n",
      "\n",
      "/data/home/ayalklei/nlp-architect/nlp_architect/models/libert/logs/li-vanila-with-predictions-20E_Sat_Jan_23_22:44:04/dm/restaurants_to_device/libert_seed_*_split_*_test/epoch-*-predictions.txt\n",
      "*** Formalism: dm \t Dataset: restaurants_to_device \t model type: libert \t baseline model: False ***\n",
      "Model predictions: \n",
      "ASP: 385 TPs,  146 FPs,  176 FNs;\t P: 0.73   R: 0.69   F1: 0.71\n",
      "|model_pred|=531, |pivot_pred|=420;   Union: 727  Intersection: 224 \n",
      "|model_pred-pivot_pred|=307, |pivot_pred-model_pred|=196;   \n",
      "|model_tp|=385, |pivot_tp|=290;   Union: 463  Intersection: 212 \n",
      "|model_tp-pivot_tp|=173, |pivot_tp-model_tp|=78;   \n",
      "Pivot-method performance:\t\t P: 0.69   R: 0.52   F1: 0.59\n",
      "Out of 176 model's Aspect-Term misses (FN), 78 are covered correctly by pivoting, while 98 are also missed by it\n",
      "\tThat is: model's recall can improve from 0.69 to potentially 0.83\n",
      "Out of 146 model's Aspect-Term mistakes (FP), 134 are correctly not-predicted by pivoting, while 12 are also erroneously predicted by it\n",
      "\tThat is: model's precision can improve from 0.73 to potentially 0.76\n",
      "\n",
      "/data/home/ayalklei/nlp-architect/nlp_architect/models/libert/logs/li-patt-with-predictions-20E_Thu_Jan_21_00:17:10/dm/restaurants_to_device/libert_seed_*_split_*_test/epoch-*-predictions.txt\n",
      "*** Formalism: dm \t Dataset: restaurants_to_device \t model type: libert \t baseline model: False ***\n",
      "Model predictions: \n",
      "ASP: 305 TPs,  79 FPs,  256 FNs;\t P: 0.79   R: 0.54   F1: 0.65\n",
      "|model_pred|=384, |pivot_pred|=420;   Union: 620  Intersection: 184 \n",
      "|model_pred-pivot_pred|=200, |pivot_pred-model_pred|=236;   \n",
      "|model_tp|=305, |pivot_tp|=290;   Union: 422  Intersection: 173 \n",
      "|model_tp-pivot_tp|=132, |pivot_tp-model_tp|=117;   \n",
      "Pivot-method performance:\t\t P: 0.69   R: 0.52   F1: 0.59\n",
      "Out of 256 model's Aspect-Term misses (FN), 117 are covered correctly by pivoting, while 139 are also missed by it\n",
      "\tThat is: model's recall can improve from 0.54 to potentially 0.75\n",
      "Out of 79 model's Aspect-Term mistakes (FP), 68 are correctly not-predicted by pivoting, while 11 are also erroneously predicted by it\n",
      "\tThat is: model's precision can improve from 0.79 to potentially 0.84\n",
      "\n",
      "/data/home/ayalklei/nlp-architect/nlp_architect/models/libert/logs/li-vanila-with-predictions-20E_Sat_Jan_23_22:44:04/dm/laptops_to_restaurants/libert_seed_*_split_*_test/epoch-*-predictions.txt\n",
      "*** Formalism: dm \t Dataset: laptops_to_restaurants \t model type: libert \t baseline model: False ***\n",
      "Model predictions: \n",
      "ASP: 742 TPs,  128 FPs,  1010 FNs;\t P: 0.85   R: 0.42   F1: 0.57\n",
      "|model_pred|=825, |pivot_pred|=1675;   Union: 1956  Intersection: 544 \n",
      "|model_pred-pivot_pred|=281, |pivot_pred-model_pred|=1131;   \n",
      "|model_tp|=708, |pivot_tp|=818;   Union: 1039  Intersection: 487 \n",
      "|model_tp-pivot_tp|=221, |pivot_tp-model_tp|=331;   \n",
      "Pivot-method performance:\t\t P: 0.49   R: 0.49   F1: 0.49\n",
      "Out of 970 model's Aspect-Term misses (FN), 331 are covered correctly by pivoting, while 639 are also missed by it\n",
      "\tThat is: model's recall can improve from 0.42 to potentially 0.59\n",
      "Out of 125 model's Aspect-Term mistakes (FP), 68 are correctly not-predicted by pivoting, while 57 are also erroneously predicted by it\n",
      "\tThat is: model's precision can improve from 0.85 to potentially 0.90\n",
      "\n",
      "/data/home/ayalklei/nlp-architect/nlp_architect/models/libert/logs/li-patt-with-predictions-20E_Thu_Jan_21_00:17:10/dm/laptops_to_restaurants/libert_seed_*_split_*_test/epoch-*-predictions.txt\n",
      "*** Formalism: dm \t Dataset: laptops_to_restaurants \t model type: libert \t baseline model: False ***\n",
      "Model predictions: \n",
      "ASP: 778 TPs,  198 FPs,  974 FNs;\t P: 0.8   R: 0.44   F1: 0.57\n",
      "|model_pred|=924, |pivot_pred|=1675;   Union: 2044  Intersection: 555 \n",
      "|model_pred-pivot_pred|=369, |pivot_pred-model_pred|=1120;   \n",
      "|model_tp|=747, |pivot_tp|=818;   Union: 1087  Intersection: 478 \n",
      "|model_tp-pivot_tp|=269, |pivot_tp-model_tp|=340;   \n",
      "Pivot-method performance:\t\t P: 0.49   R: 0.49   F1: 0.49\n",
      "Out of 931 model's Aspect-Term misses (FN), 340 are covered correctly by pivoting, while 591 are also missed by it\n",
      "\tThat is: model's recall can improve from 0.44 to potentially 0.62\n",
      "Out of 188 model's Aspect-Term mistakes (FP), 111 are correctly not-predicted by pivoting, while 77 are also erroneously predicted by it\n",
      "\tThat is: model's precision can improve from 0.80 to potentially 0.86\n",
      "\n",
      "/data/home/ayalklei/nlp-architect/nlp_architect/models/libert/logs/li-vanila-with-predictions-20E_Sat_Jan_23_22:44:04/dm/laptops_to_device/libert_seed_*_split_*_test/epoch-*-predictions.txt\n",
      "*** Formalism: dm \t Dataset: laptops_to_device \t model type: libert \t baseline model: False ***\n",
      "Model predictions: \n",
      "ASP: 359 TPs,  129 FPs,  205 FNs;\t P: 0.74   R: 0.64   F1: 0.68\n",
      "|model_pred|=488, |pivot_pred|=446;   Union: 756  Intersection: 178 \n",
      "|model_pred-pivot_pred|=310, |pivot_pred-model_pred|=268;   \n",
      "|model_tp|=359, |pivot_tp|=268;   Union: 462  Intersection: 165 \n",
      "|model_tp-pivot_tp|=194, |pivot_tp-model_tp|=103;   \n",
      "Pivot-method performance:\t\t P: 0.6   R: 0.48   F1: 0.53\n",
      "Out of 205 model's Aspect-Term misses (FN), 103 are covered correctly by pivoting, while 102 are also missed by it\n",
      "\tThat is: model's recall can improve from 0.64 to potentially 0.82\n",
      "Out of 129 model's Aspect-Term mistakes (FP), 116 are correctly not-predicted by pivoting, while 13 are also erroneously predicted by it\n",
      "\tThat is: model's precision can improve from 0.74 to potentially 0.78\n",
      "\n",
      "/data/home/ayalklei/nlp-architect/nlp_architect/models/libert/logs/li-patt-with-predictions-20E_Thu_Jan_21_00:17:10/dm/laptops_to_device/libert_seed_*_split_*_test/epoch-*-predictions.txt\n",
      "*** Formalism: dm \t Dataset: laptops_to_device \t model type: libert \t baseline model: False ***\n",
      "Model predictions: \n",
      "ASP: 351 TPs,  103 FPs,  213 FNs;\t P: 0.77   R: 0.62   F1: 0.69\n",
      "|model_pred|=454, |pivot_pred|=446;   Union: 715  Intersection: 185 \n",
      "|model_pred-pivot_pred|=269, |pivot_pred-model_pred|=261;   \n",
      "|model_tp|=351, |pivot_tp|=268;   Union: 448  Intersection: 171 \n",
      "|model_tp-pivot_tp|=180, |pivot_tp-model_tp|=97;   \n",
      "Pivot-method performance:\t\t P: 0.6   R: 0.48   F1: 0.53\n",
      "Out of 213 model's Aspect-Term misses (FN), 97 are covered correctly by pivoting, while 116 are also missed by it\n",
      "\tThat is: model's recall can improve from 0.62 to potentially 0.79\n",
      "Out of 103 model's Aspect-Term mistakes (FP), 89 are correctly not-predicted by pivoting, while 14 are also erroneously predicted by it\n",
      "\tThat is: model's precision can improve from 0.77 to potentially 0.81\n",
      "\n",
      "/data/home/ayalklei/nlp-architect/nlp_architect/models/libert/logs/li-vanila-with-predictions-20E_Sat_Jan_23_22:44:04/dm/device_to_restaurants/libert_seed_*_split_*_test/epoch-*-predictions.txt\n",
      "*** Formalism: dm \t Dataset: device_to_restaurants \t model type: libert \t baseline model: False ***\n",
      "Model predictions: \n",
      "ASP: 897 TPs,  241 FPs,  892 FNs;\t P: 0.79   R: 0.5   F1: 0.61\n",
      "|model_pred|=1069, |pivot_pred|=1843;   Union: 2159  Intersection: 753 \n",
      "|model_pred-pivot_pred|=316, |pivot_pred-model_pred|=1090;   \n",
      "|model_tp|=847, |pivot_tp|=833;   Union: 1050  Intersection: 630 \n",
      "|model_tp-pivot_tp|=217, |pivot_tp-model_tp|=203;   \n",
      "Pivot-method performance:\t\t P: 0.45   R: 0.49   F1: 0.47\n",
      "Out of 867 model's Aspect-Term misses (FN), 203 are covered correctly by pivoting, while 664 are also missed by it\n",
      "\tThat is: model's recall can improve from 0.50 to potentially 0.59\n",
      "Out of 229 model's Aspect-Term mistakes (FP), 106 are correctly not-predicted by pivoting, while 123 are also erroneously predicted by it\n",
      "\tThat is: model's precision can improve from 0.79 to potentially 0.83\n",
      "\n",
      "/data/home/ayalklei/nlp-architect/nlp_architect/models/libert/logs/li-patt-with-predictions-20E_Thu_Jan_21_00:17:10/dm/device_to_restaurants/libert_seed_*_split_*_test/epoch-*-predictions.txt\n",
      "*** Formalism: dm \t Dataset: device_to_restaurants \t model type: libert \t baseline model: False ***\n",
      "Model predictions: \n",
      "ASP: 809 TPs,  180 FPs,  980 FNs;\t P: 0.82   R: 0.45   F1: 0.58\n",
      "|model_pred|=933, |pivot_pred|=1843;   Union: 2105  Intersection: 671 \n",
      "|model_pred-pivot_pred|=262, |pivot_pred-model_pred|=1172;   \n",
      "|model_tp|=765, |pivot_tp|=833;   Union: 1028  Intersection: 570 \n",
      "|model_tp-pivot_tp|=195, |pivot_tp-model_tp|=263;   \n",
      "Pivot-method performance:\t\t P: 0.45   R: 0.49   F1: 0.47\n",
      "Out of 949 model's Aspect-Term misses (FN), 263 are covered correctly by pivoting, while 686 are also missed by it\n",
      "\tThat is: model's recall can improve from 0.45 to potentially 0.57\n",
      "Out of 175 model's Aspect-Term mistakes (FP), 74 are correctly not-predicted by pivoting, while 101 are also erroneously predicted by it\n",
      "\tThat is: model's precision can improve from 0.82 to potentially 0.86\n",
      "\n",
      "/data/home/ayalklei/nlp-architect/nlp_architect/models/libert/logs/li-vanila-with-predictions-20E_Sat_Jan_23_22:44:04/dm/device_to_laptops/libert_seed_*_split_*_test/epoch-*-predictions.txt\n",
      "*** Formalism: dm \t Dataset: device_to_laptops \t model type: libert \t baseline model: False ***\n",
      "Model predictions: \n",
      "ASP: 374 TPs,  201 FPs,  385 FNs;\t P: 0.65   R: 0.49   F1: 0.56\n",
      "|model_pred|=575, |pivot_pred|=1150;   Union: 1418  Intersection: 307 \n",
      "|model_pred-pivot_pred|=268, |pivot_pred-model_pred|=843;   \n",
      "|model_tp|=374, |pivot_tp|=273;   Union: 449  Intersection: 198 \n",
      "|model_tp-pivot_tp|=176, |pivot_tp-model_tp|=75;   \n",
      "Pivot-method performance:\t\t P: 0.24   R: 0.36   F1: 0.29\n",
      "Out of 385 model's Aspect-Term misses (FN), 75 are covered correctly by pivoting, while 310 are also missed by it\n",
      "\tThat is: model's recall can improve from 0.49 to potentially 0.59\n",
      "Out of 201 model's Aspect-Term mistakes (FP), 92 are correctly not-predicted by pivoting, while 109 are also erroneously predicted by it\n",
      "\tThat is: model's precision can improve from 0.65 to potentially 0.69\n",
      "\n",
      "/data/home/ayalklei/nlp-architect/nlp_architect/models/libert/logs/li-patt-with-predictions-20E_Thu_Jan_21_00:17:10/dm/device_to_laptops/libert_seed_*_split_*_test/epoch-*-predictions.txt\n",
      "*** Formalism: dm \t Dataset: device_to_laptops \t model type: libert \t baseline model: False ***\n",
      "Model predictions: \n",
      "ASP: 399 TPs,  280 FPs,  360 FNs;\t P: 0.59   R: 0.53   F1: 0.55\n",
      "|model_pred|=679, |pivot_pred|=1150;   Union: 1483  Intersection: 346 \n",
      "|model_pred-pivot_pred|=333, |pivot_pred-model_pred|=804;   \n",
      "|model_tp|=399, |pivot_tp|=273;   Union: 468  Intersection: 204 \n",
      "|model_tp-pivot_tp|=195, |pivot_tp-model_tp|=69;   \n",
      "Pivot-method performance:\t\t P: 0.24   R: 0.36   F1: 0.29\n",
      "Out of 360 model's Aspect-Term misses (FN), 69 are covered correctly by pivoting, while 291 are also missed by it\n",
      "\tThat is: model's recall can improve from 0.53 to potentially 0.62\n",
      "Out of 280 model's Aspect-Term mistakes (FP), 138 are correctly not-predicted by pivoting, while 142 are also erroneously predicted by it\n",
      "\tThat is: model's precision can improve from 0.59 to potentially 0.63\n",
      "\n",
      "/data/home/ayalklei/nlp-architect/nlp_architect/models/libert/logs/li-vanila-with-predictions-20E_Sat_Jan_23_22:44:04/ud/restaurants_to_laptops/libert_seed_*_split_*_test/epoch-*-predictions.txt\n",
      "*** Formalism: ud \t Dataset: restaurants_to_laptops \t model type: libert \t baseline model: False ***\n",
      "Model predictions: \n",
      "ASP: 385 TPs,  199 FPs,  258 FNs;\t P: 0.66   R: 0.6   F1: 0.63\n",
      "|model_pred|=584, |pivot_pred|=926;   Union: 1234  Intersection: 276 \n",
      "|model_pred-pivot_pred|=308, |pivot_pred-model_pred|=650;   \n",
      "|model_tp|=385, |pivot_tp|=271;   Union: 467  Intersection: 189 \n",
      "|model_tp-pivot_tp|=196, |pivot_tp-model_tp|=82;   \n",
      "Pivot-method performance:\t\t P: 0.29   R: 0.42   F1: 0.35\n",
      "Out of 256 model's Aspect-Term misses (FN), 82 are covered correctly by pivoting, while 174 are also missed by it\n",
      "\tThat is: model's recall can improve from 0.60 to potentially 0.73\n",
      "Out of 199 model's Aspect-Term mistakes (FP), 112 are correctly not-predicted by pivoting, while 87 are also erroneously predicted by it\n",
      "\tThat is: model's precision can improve from 0.66 to potentially 0.70\n",
      "\n",
      "/data/home/ayalklei/nlp-architect/nlp_architect/models/libert/logs/li-patt-with-predictions-20E_Thu_Jan_21_00:17:10/ud/restaurants_to_laptops/libert_seed_*_split_*_test/epoch-*-predictions.txt\n",
      "*** Formalism: ud \t Dataset: restaurants_to_laptops \t model type: libert \t baseline model: False ***\n",
      "Model predictions: \n",
      "ASP: 383 TPs,  225 FPs,  260 FNs;\t P: 0.63   R: 0.6   F1: 0.61\n",
      "|model_pred|=607, |pivot_pred|=926;   Union: 1242  Intersection: 291 \n",
      "|model_pred-pivot_pred|=316, |pivot_pred-model_pred|=635;   \n",
      "|model_tp|=383, |pivot_tp|=271;   Union: 458  Intersection: 196 \n",
      "|model_tp-pivot_tp|=187, |pivot_tp-model_tp|=75;   \n",
      "Pivot-method performance:\t\t P: 0.29   R: 0.42   F1: 0.35\n",
      "Out of 258 model's Aspect-Term misses (FN), 75 are covered correctly by pivoting, while 183 are also missed by it\n",
      "\tThat is: model's recall can improve from 0.60 to potentially 0.71\n",
      "Out of 224 model's Aspect-Term mistakes (FP), 129 are correctly not-predicted by pivoting, while 95 are also erroneously predicted by it\n",
      "\tThat is: model's precision can improve from 0.63 to potentially 0.67\n",
      "\n",
      "/data/home/ayalklei/nlp-architect/nlp_architect/models/libert/logs/li-vanila-with-predictions-20E_Sat_Jan_23_22:44:04/ud/restaurants_to_device/libert_seed_*_split_*_test/epoch-*-predictions.txt\n",
      "*** Formalism: ud \t Dataset: restaurants_to_device \t model type: libert \t baseline model: False ***\n",
      "Model predictions: \n",
      "ASP: 296 TPs,  86 FPs,  202 FNs;\t P: 0.77   R: 0.59   F1: 0.67\n",
      "|model_pred|=382, |pivot_pred|=487;   Union: 684  Intersection: 185 \n",
      "|model_pred-pivot_pred|=197, |pivot_pred-model_pred|=302;   \n",
      "|model_tp|=296, |pivot_tp|=244;   Union: 369  Intersection: 171 \n",
      "|model_tp-pivot_tp|=125, |pivot_tp-model_tp|=73;   \n",
      "Pivot-method performance:\t\t P: 0.5   R: 0.49   F1: 0.5\n",
      "Out of 202 model's Aspect-Term misses (FN), 73 are covered correctly by pivoting, while 129 are also missed by it\n",
      "\tThat is: model's recall can improve from 0.59 to potentially 0.74\n",
      "Out of 86 model's Aspect-Term mistakes (FP), 72 are correctly not-predicted by pivoting, while 14 are also erroneously predicted by it\n",
      "\tThat is: model's precision can improve from 0.77 to potentially 0.81\n",
      "\n",
      "/data/home/ayalklei/nlp-architect/nlp_architect/models/libert/logs/li-patt-with-predictions-20E_Thu_Jan_21_00:17:10/ud/restaurants_to_device/libert_seed_*_split_*_test/epoch-*-predictions.txt\n",
      "*** Formalism: ud \t Dataset: restaurants_to_device \t model type: libert \t baseline model: False ***\n",
      "Model predictions: \n",
      "ASP: 210 TPs,  29 FPs,  288 FNs;\t P: 0.88   R: 0.42   F1: 0.57\n",
      "|model_pred|=239, |pivot_pred|=487;   Union: 585  Intersection: 141 \n",
      "|model_pred-pivot_pred|=98, |pivot_pred-model_pred|=346;   \n",
      "|model_tp|=210, |pivot_tp|=244;   Union: 322  Intersection: 132 \n",
      "|model_tp-pivot_tp|=78, |pivot_tp-model_tp|=112;   \n",
      "Pivot-method performance:\t\t P: 0.5   R: 0.49   F1: 0.5\n",
      "Out of 288 model's Aspect-Term misses (FN), 112 are covered correctly by pivoting, while 176 are also missed by it\n",
      "\tThat is: model's recall can improve from 0.42 to potentially 0.65\n",
      "Out of 29 model's Aspect-Term mistakes (FP), 20 are correctly not-predicted by pivoting, while 9 are also erroneously predicted by it\n",
      "\tThat is: model's precision can improve from 0.88 to potentially 0.92\n",
      "\n",
      "/data/home/ayalklei/nlp-architect/nlp_architect/models/libert/logs/li-vanila-with-predictions-20E_Sat_Jan_23_22:44:04/ud/laptops_to_restaurants/libert_seed_*_split_*_test/epoch-*-predictions.txt\n",
      "*** Formalism: ud \t Dataset: laptops_to_restaurants \t model type: libert \t baseline model: False ***\n",
      "Model predictions: \n",
      "ASP: 796 TPs,  194 FPs,  946 FNs;\t P: 0.8   R: 0.46   F1: 0.58\n",
      "|model_pred|=933, |pivot_pred|=1928;   Union: 2277  Intersection: 584 \n",
      "|model_pred-pivot_pred|=349, |pivot_pred-model_pred|=1344;   \n",
      "|model_tp|=760, |pivot_tp|=801;   Union: 1045  Intersection: 516 \n",
      "|model_tp-pivot_tp|=244, |pivot_tp-model_tp|=285;   \n",
      "Pivot-method performance:\t\t P: 0.42   R: 0.48   F1: 0.45\n",
      "Out of 907 model's Aspect-Term misses (FN), 285 are covered correctly by pivoting, while 622 are also missed by it\n",
      "\tThat is: model's recall can improve from 0.46 to potentially 0.60\n",
      "Out of 187 model's Aspect-Term mistakes (FP), 119 are correctly not-predicted by pivoting, while 68 are also erroneously predicted by it\n",
      "\tThat is: model's precision can improve from 0.80 to potentially 0.86\n",
      "\n",
      "/data/home/ayalklei/nlp-architect/nlp_architect/models/libert/logs/li-patt-with-predictions-20E_Thu_Jan_21_00:17:10/ud/laptops_to_restaurants/libert_seed_*_split_*_test/epoch-*-predictions.txt\n",
      "*** Formalism: ud \t Dataset: laptops_to_restaurants \t model type: libert \t baseline model: False ***\n",
      "Model predictions: \n",
      "ASP: 699 TPs,  156 FPs,  1043 FNs;\t P: 0.82   R: 0.4   F1: 0.54\n",
      "|model_pred|=803, |pivot_pred|=1928;   Union: 2193  Intersection: 538 \n",
      "|model_pred-pivot_pred|=265, |pivot_pred-model_pred|=1390;   \n",
      "|model_tp|=663, |pivot_tp|=801;   Union: 986  Intersection: 478 \n",
      "|model_tp-pivot_tp|=185, |pivot_tp-model_tp|=323;   \n",
      "Pivot-method performance:\t\t P: 0.42   R: 0.48   F1: 0.45\n",
      "Out of 1004 model's Aspect-Term misses (FN), 323 are covered correctly by pivoting, while 681 are also missed by it\n",
      "\tThat is: model's recall can improve from 0.40 to potentially 0.57\n",
      "Out of 153 model's Aspect-Term mistakes (FP), 93 are correctly not-predicted by pivoting, while 60 are also erroneously predicted by it\n",
      "\tThat is: model's precision can improve from 0.82 to potentially 0.88\n",
      "\n",
      "/data/home/ayalklei/nlp-architect/nlp_architect/models/libert/logs/li-vanila-with-predictions-20E_Sat_Jan_23_22:44:04/ud/laptops_to_device/libert_seed_*_split_*_test/epoch-*-predictions.txt\n",
      "*** Formalism: ud \t Dataset: laptops_to_device \t model type: libert \t baseline model: False ***\n",
      "Model predictions: \n",
      "ASP: 373 TPs,  147 FPs,  160 FNs;\t P: 0.72   R: 0.7   F1: 0.71\n",
      "|model_pred|=520, |pivot_pred|=431;   Union: 791  Intersection: 160 \n",
      "|model_pred-pivot_pred|=360, |pivot_pred-model_pred|=271;   \n",
      "|model_tp|=373, |pivot_tp|=212;   Union: 443  Intersection: 142 \n",
      "|model_tp-pivot_tp|=231, |pivot_tp-model_tp|=70;   \n",
      "Pivot-method performance:\t\t P: 0.49   R: 0.4   F1: 0.44\n",
      "Out of 160 model's Aspect-Term misses (FN), 70 are covered correctly by pivoting, while 90 are also missed by it\n",
      "\tThat is: model's recall can improve from 0.70 to potentially 0.83\n",
      "Out of 147 model's Aspect-Term mistakes (FP), 129 are correctly not-predicted by pivoting, while 18 are also erroneously predicted by it\n",
      "\tThat is: model's precision can improve from 0.72 to potentially 0.75\n",
      "\n",
      "/data/home/ayalklei/nlp-architect/nlp_architect/models/libert/logs/li-patt-with-predictions-20E_Thu_Jan_21_00:17:10/ud/laptops_to_device/libert_seed_*_split_*_test/epoch-*-predictions.txt\n",
      "*** Formalism: ud \t Dataset: laptops_to_device \t model type: libert \t baseline model: False ***\n",
      "Model predictions: \n",
      "ASP: 331 TPs,  92 FPs,  202 FNs;\t P: 0.78   R: 0.62   F1: 0.69\n",
      "|model_pred|=423, |pivot_pred|=431;   Union: 710  Intersection: 144 \n",
      "|model_pred-pivot_pred|=279, |pivot_pred-model_pred|=287;   \n",
      "|model_tp|=331, |pivot_tp|=212;   Union: 415  Intersection: 128 \n",
      "|model_tp-pivot_tp|=203, |pivot_tp-model_tp|=84;   \n",
      "Pivot-method performance:\t\t P: 0.49   R: 0.4   F1: 0.44\n",
      "Out of 202 model's Aspect-Term misses (FN), 84 are covered correctly by pivoting, while 118 are also missed by it\n",
      "\tThat is: model's recall can improve from 0.62 to potentially 0.78\n",
      "Out of 92 model's Aspect-Term mistakes (FP), 76 are correctly not-predicted by pivoting, while 16 are also erroneously predicted by it\n",
      "\tThat is: model's precision can improve from 0.78 to potentially 0.82\n",
      "\n",
      "/data/home/ayalklei/nlp-architect/nlp_architect/models/libert/logs/li-vanila-with-predictions-20E_Sat_Jan_23_22:44:04/ud/device_to_restaurants/libert_seed_*_split_*_test/epoch-*-predictions.txt\n",
      "*** Formalism: ud \t Dataset: device_to_restaurants \t model type: libert \t baseline model: False ***\n",
      "Model predictions: \n",
      "ASP: 917 TPs,  243 FPs,  815 FNs;\t P: 0.79   R: 0.53   F1: 0.63\n",
      "|model_pred|=1093, |pivot_pred|=1642;   Union: 2002  Intersection: 733 \n",
      "|model_pred-pivot_pred|=360, |pivot_pred-model_pred|=909;   \n",
      "|model_tp|=868, |pivot_tp|=776;   Union: 1039  Intersection: 605 \n",
      "|model_tp-pivot_tp|=263, |pivot_tp-model_tp|=171;   \n",
      "Pivot-method performance:\t\t P: 0.47   R: 0.47   F1: 0.47\n",
      "Out of 796 model's Aspect-Term misses (FN), 171 are covered correctly by pivoting, while 625 are also missed by it\n",
      "\tThat is: model's recall can improve from 0.53 to potentially 0.60\n",
      "Out of 234 model's Aspect-Term mistakes (FP), 106 are correctly not-predicted by pivoting, while 128 are also erroneously predicted by it\n",
      "\tThat is: model's precision can improve from 0.79 to potentially 0.82\n",
      "\n",
      "/data/home/ayalklei/nlp-architect/nlp_architect/models/libert/logs/li-patt-with-predictions-20E_Thu_Jan_21_00:17:10/ud/device_to_restaurants/libert_seed_*_split_*_test/epoch-*-predictions.txt\n",
      "*** Formalism: ud \t Dataset: device_to_restaurants \t model type: libert \t baseline model: False ***\n",
      "Model predictions: \n",
      "ASP: 800 TPs,  173 FPs,  932 FNs;\t P: 0.82   R: 0.46   F1: 0.59\n",
      "|model_pred|=909, |pivot_pred|=1642;   Union: 1909  Intersection: 642 \n",
      "|model_pred-pivot_pred|=267, |pivot_pred-model_pred|=1000;   \n",
      "|model_tp|=753, |pivot_tp|=776;   Union: 973  Intersection: 556 \n",
      "|model_tp-pivot_tp|=197, |pivot_tp-model_tp|=220;   \n",
      "Pivot-method performance:\t\t P: 0.47   R: 0.47   F1: 0.47\n",
      "Out of 911 model's Aspect-Term misses (FN), 220 are covered correctly by pivoting, while 691 are also missed by it\n",
      "\tThat is: model's recall can improve from 0.46 to potentially 0.56\n",
      "Out of 163 model's Aspect-Term mistakes (FP), 77 are correctly not-predicted by pivoting, while 86 are also erroneously predicted by it\n",
      "\tThat is: model's precision can improve from 0.82 to potentially 0.86\n",
      "\n",
      "/data/home/ayalklei/nlp-architect/nlp_architect/models/libert/logs/li-vanila-with-predictions-20E_Sat_Jan_23_22:44:04/ud/device_to_laptops/libert_seed_*_split_*_test/epoch-*-predictions.txt\n",
      "*** Formalism: ud \t Dataset: device_to_laptops \t model type: libert \t baseline model: False ***\n",
      "Model predictions: \n",
      "ASP: 399 TPs,  271 FPs,  344 FNs;\t P: 0.6   R: 0.54   F1: 0.56\n",
      "|model_pred|=670, |pivot_pred|=1027;   Union: 1381  Intersection: 316 \n",
      "|model_pred-pivot_pred|=354, |pivot_pred-model_pred|=711;   \n",
      "|model_tp|=399, |pivot_tp|=248;   Union: 462  Intersection: 185 \n",
      "|model_tp-pivot_tp|=214, |pivot_tp-model_tp|=63;   \n",
      "Pivot-method performance:\t\t P: 0.24   R: 0.33   F1: 0.28\n",
      "Out of 344 model's Aspect-Term misses (FN), 63 are covered correctly by pivoting, while 281 are also missed by it\n",
      "\tThat is: model's recall can improve from 0.54 to potentially 0.62\n",
      "Out of 271 model's Aspect-Term mistakes (FP), 140 are correctly not-predicted by pivoting, while 131 are also erroneously predicted by it\n",
      "\tThat is: model's precision can improve from 0.60 to potentially 0.63\n",
      "\n",
      "/data/home/ayalklei/nlp-architect/nlp_architect/models/libert/logs/li-patt-with-predictions-20E_Thu_Jan_21_00:17:10/ud/device_to_laptops/libert_seed_*_split_*_test/epoch-*-predictions.txt\n",
      "*** Formalism: ud \t Dataset: device_to_laptops \t model type: libert \t baseline model: False ***\n",
      "Model predictions: \n",
      "ASP: 382 TPs,  205 FPs,  361 FNs;\t P: 0.65   R: 0.51   F1: 0.57\n",
      "|model_pred|=587, |pivot_pred|=1027;   Union: 1316  Intersection: 298 \n",
      "|model_pred-pivot_pred|=289, |pivot_pred-model_pred|=729;   \n",
      "|model_tp|=382, |pivot_tp|=248;   Union: 451  Intersection: 179 \n",
      "|model_tp-pivot_tp|=203, |pivot_tp-model_tp|=69;   \n",
      "Pivot-method performance:\t\t P: 0.24   R: 0.33   F1: 0.28\n",
      "Out of 361 model's Aspect-Term misses (FN), 69 are covered correctly by pivoting, while 292 are also missed by it\n",
      "\tThat is: model's recall can improve from 0.51 to potentially 0.61\n",
      "Out of 205 model's Aspect-Term mistakes (FP), 86 are correctly not-predicted by pivoting, while 119 are also erroneously predicted by it\n",
      "\tThat is: model's precision can improve from 0.65 to potentially 0.69\n",
      "\n"
     ]
    },
    {
     "data": {
      "text/html": [
       "<table>\n",
       "<tbody>\n",
       "<tr><td>- </td><td>R-&gt;L</td><td>R-&gt;D</td><td>L-&gt;R</td><td>L-&gt;D</td><td>D-&gt;R</td><td>D-&gt;L</td></tr>\n",
       "<tr><td>dm</td><td>10.9\n",
       "12.0\n",
       "-1.0     </td><td>16.3\n",
       "17.5\n",
       "-1.1     </td><td>16.6\n",
       "19.7\n",
       "-3.2     </td><td>14.8\n",
       "18.2\n",
       "-3.4     </td><td>10.8\n",
       "12.6\n",
       "-1.8     </td><td>9.1\n",
       "9.3\n",
       "-0.1     </td></tr>\n",
       "<tr><td>ud</td><td>9.7\n",
       "11.0\n",
       "-1.4     </td><td>12.0\n",
       "13.5\n",
       "-1.5     </td><td>18.7\n",
       "15.7\n",
       "3.0     </td><td>11.8\n",
       "12.7\n",
       "-0.9     </td><td>11.9\n",
       "12.4\n",
       "-0.5     </td><td>9.9\n",
       "12.6\n",
       "-2.7     </td></tr>\n",
       "</tbody>\n",
       "</table>"
      ],
      "text/plain": [
       "<IPython.core.display.HTML object>"
      ]
     },
     "metadata": {},
     "output_type": "display_data"
    }
   ],
   "source": [
    "# which model\n",
    "exp_id = \"li-patt-with-predictions-20E_Thu_Jan_21_00:17:10\"   #  \"bert-AT-with-predictions-10E_Thu_Jan_14_13:42:48\" # -- good for bert-AT-DM\n",
    "baseline_base_dir =  \"li-vanila-with-predictions-20E_Sat_Jan_23_22:44:04\" # \"bert-AT-with-predictions_Mon_Jan_04_10:20:35\"\n",
    "# \"bert-AT-with-predictions_Mon_Jan_04_10:20:35\"  -- good for bert-AT-UD and for BERT-baseline\n",
    "# \"bert-amtl-AT_Mon_Dec_28_00:09:59\" \"bert-patt-with-predictions_Sat_Jan_09_22:12:26\"\n",
    "# formalism = \"dm\"\n",
    "# src_domain, tgt_domain = \"laptops\", \"device\"\n",
    "# compare_pivot_to_model(exp_id, formalism, src_domain, tgt_domain, baseline=True)\n",
    "\n",
    "# compare baseline models to amtl models - which is less overlapping with determinsitic pivoting\n",
    "mod_to_baseline_diff  = defaultdict(dict)\n",
    "for formalism in [\"dm\", \"ud\"]:\n",
    "    for src_domain, tgt_domain in datasets:\n",
    "        dataset_name = f\"{src_domain}_to_{tgt_domain}\"\n",
    "        dataset_short_name = f\"{src_domain[0].upper()}->{tgt_domain[0].upper()}\"\n",
    "        base = np.array(compare_pivot_to_model(\"\", formalism, src_domain, tgt_domain, baseline=False, model=\"libert\", baseline_dir=f\"{baseline_base_dir}/{formalism}\"))\n",
    "        model = np.array(compare_pivot_to_model(exp_id, formalism, src_domain, tgt_domain, baseline=False, model=\"libert\"))\n",
    "        mod_to_baseline_diff[formalism][dataset_short_name] = (base[0], model[0], (base-model)[0]) \n",
    "display_ndict(mod_to_baseline_diff, pprint=lambda t:\"\\n\".join(f\"{100*e:.1f}\" for e in t), with_mean=False)\n",
    "# compare_pivot_to_model(exp_id, formalism, src_domain, tgt_domain, baseline=True)"
   ]
  },
  {
   "cell_type": "code",
   "execution_count": null,
   "metadata": {},
   "outputs": [],
   "source": []
  },
  {
   "cell_type": "code",
   "execution_count": null,
   "metadata": {},
   "outputs": [],
   "source": []
  },
  {
   "cell_type": "code",
   "execution_count": null,
   "metadata": {},
   "outputs": [],
   "source": []
  },
  {
   "cell_type": "code",
   "execution_count": null,
   "metadata": {},
   "outputs": [],
   "source": []
  },
  {
   "cell_type": "code",
   "execution_count": 176,
   "metadata": {},
   "outputs": [
    {
     "name": "stdout",
     "output_type": "stream",
     "text": [
      "|MODEL_SENTS|=1393, |PIVOT_SENTS|=4669;   Union: 4674  Intersection: 1388 \n",
      "|MODEL_SENTS-PIVOT_SENTS|=5, |PIVOT_SENTS-MODEL_SENTS|=3281;   \n"
     ]
    }
   ],
   "source": [
    "report_overlap(MODEL_SENTS=model_test_sentences, PIVOT_SENTS=pivot_sentences)"
   ]
  },
  {
   "cell_type": "code",
   "execution_count": null,
   "metadata": {},
   "outputs": [],
   "source": [
    "pivot_asp_predictions"
   ]
  },
  {
   "cell_type": "code",
   "execution_count": null,
   "metadata": {},
   "outputs": [],
   "source": []
  },
  {
   "cell_type": "markdown",
   "metadata": {},
   "source": [
    "## General AT vs. OT Transferability Analysis\n",
    "\n",
    "Show that OT are shared across domains while AT are not.\n",
    "\n",
    "First (basic) level: on the lexical level."
   ]
  },
  {
   "cell_type": "code",
   "execution_count": 525,
   "metadata": {},
   "outputs": [],
   "source": [
    "# get all AT\\OT instances\n",
    "domain = \"device\"\n",
    "def get_AT_terms(g):\n",
    "    toks = g.input.split(\" \")\n",
    "    return [' '.join(toks[i] for i in range(*term)) for term in g.aspect_spans]\n",
    "def get_OT_terms(g):\n",
    "    toks = g.input.split(\" \")\n",
    "    return [' '.join(toks[i] for i in range(*term)) for term in g.opinion_spans]\n",
    "AT_terms = {domain: flatten([get_AT_terms(g).map(str.lower) \n",
    "                             for g in all_graphs_with_OT_and_AT[\"ud\"][domain]])\n",
    "            for domain in domains}\n",
    "OT_terms = {domain: flatten([get_OT_terms(g).map(str.lower) \n",
    "                             for g in all_graphs_with_OT_and_AT[\"ud\"][domain]])\n",
    "            for domain in domains}"
   ]
  },
  {
   "cell_type": "code",
   "execution_count": 526,
   "metadata": {},
   "outputs": [
    {
     "data": {
      "text/html": [
       "<table>\n",
       "<tbody>\n",
       "<tr><td>-          </td><td>#ATs</td><td>|ATs|</td><td>#OTs</td><td>|OTs|</td></tr>\n",
       "<tr><td>device     </td><td>1829</td><td>718  </td><td>1629</td><td>405  </td></tr>\n",
       "<tr><td>restaurants</td><td>5147</td><td>1417 </td><td>5451</td><td>1032 </td></tr>\n",
       "<tr><td>laptops    </td><td>2087</td><td>846  </td><td>2166</td><td>696  </td></tr>\n",
       "</tbody>\n",
       "</table>"
      ],
      "text/plain": [
       "<IPython.core.display.HTML object>"
      ]
     },
     "metadata": {},
     "output_type": "display_data"
    }
   ],
   "source": [
    "# general lexical descriptive statistics\n",
    "per_domain_term_info = {domain: {\"#ATs\": len(AT_terms[domain]), \"|ATs|\": len(set(AT_terms[domain])), \"#OTs\": len(OT_terms[domain]), \"|OTs|\": len(set(OT_terms[domain]))}\n",
    "                       for domain in domains}\n",
    "display_ndict(per_domain_term_info, with_mean=False)"
   ]
  },
  {
   "cell_type": "code",
   "execution_count": 530,
   "metadata": {},
   "outputs": [
    {
     "name": "stdout",
     "output_type": "stream",
     "text": [
      "Overlap in set of terms:\n"
     ]
    },
    {
     "data": {
      "text/html": [
       "<table>\n",
       "<tbody>\n",
       "<tr><td>-                   </td><td>ATs IOU</td><td>OTs IOU</td></tr>\n",
       "<tr><td>device--restaurants </td><td>0.008  </td><td>0.1636 </td></tr>\n",
       "<tr><td>device--laptops     </td><td>0.0734 </td><td>0.2343 </td></tr>\n",
       "<tr><td>restaurants--laptops</td><td>0.0076 </td><td>0.1699 </td></tr>\n",
       "</tbody>\n",
       "</table>"
      ],
      "text/plain": [
       "<IPython.core.display.HTML object>"
      ]
     },
     "metadata": {},
     "output_type": "display_data"
    },
    {
     "name": "stdout",
     "output_type": "stream",
     "text": [
      "Overlap in terms (instances - accounting for frequency):\n"
     ]
    },
    {
     "data": {
      "text/html": [
       "<table>\n",
       "<tbody>\n",
       "<tr><td>-                   </td><td>%AT from src in tgt</td><td>%OT from src in tgt</td></tr>\n",
       "<tr><td>device--restaurants </td><td>7.3                </td><td>78.6               </td></tr>\n",
       "<tr><td>device--laptops     </td><td>42.3               </td><td>83.2               </td></tr>\n",
       "<tr><td>restaurants--device </td><td>12.2               </td><td>59.1               </td></tr>\n",
       "<tr><td>restaurants--laptops</td><td>11.0               </td><td>61.4               </td></tr>\n",
       "<tr><td>laptops--device     </td><td>41.3               </td><td>65.4               </td></tr>\n",
       "<tr><td>laptops--restaurants</td><td>9.1                </td><td>68.3               </td></tr>\n",
       "</tbody>\n",
       "</table>"
      ],
      "text/plain": [
       "<IPython.core.display.HTML object>"
      ]
     },
     "metadata": {},
     "output_type": "display_data"
    }
   ],
   "source": [
    "# cross-domain lexical overlap (IOU on sets) \n",
    "term_iou = {f\"{domain1}--{domain2}\": {\"ATs IOU\": IOU(AT_terms[domain1], AT_terms[domain2]), \n",
    "                                      \"OTs IOU\": IOU(OT_terms[domain1], OT_terms[domain2])}\n",
    "                       for domain1, domain2 in combinations(domains,2)}\n",
    "print(\"Overlap in set of terms:\")\n",
    "display_ndict(term_iou, with_mean=False)\n",
    "\n",
    "def list_overlap(lst1, lst2):\n",
    "    from1at2 = [e for e in lst1 if e in lst2]\n",
    "    return len(from1at2)/len(lst1)\n",
    "term_freq_overlap = {f\"{domain1}--{domain2}\": {\"%AT from src in tgt\": list_overlap(AT_terms[domain1], AT_terms[domain2]), \n",
    "                                      \"%OT from src in tgt\": list_overlap(OT_terms[domain1], OT_terms[domain2])}\n",
    "                       for domain1, domain2 in permutations(domains,2)}\n",
    "print(\"Overlap in terms (instances - accounting for frequency):\")\n",
    "display_ndict(term_freq_overlap, with_mean=False, pprint=lambda x:f\"{100*x:.1f}\")\n"
   ]
  },
  {
   "cell_type": "code",
   "execution_count": 797,
   "metadata": {},
   "outputs": [
    {
     "name": "stdout",
     "output_type": "stream",
     "text": [
      "restaurants [('great', 0.08071913410383416), ('good', 0.07558246193359017), ('best', 0.028802054668868097), ('delicious', 0.024949550541185105), ('excellent', 0.024399192808658963), ('nice', 0.02164740414602825), ('friendly', 0.019996330948449825), ('fresh', 0.015410016510731976), ('better', 0.01192441753806641), ('recommend', 0.011190607228031554)]\n",
      "\n",
      "laptops [('great', 0.06832871652816251), ('easy', 0.0420129270544783), ('good', 0.028624192059095107), ('fast', 0.02585410895660203), ('love', 0.02077562326869806), ('better', 0.015235457063711912), ('nice', 0.014773776546629732), ('well', 0.013850415512465374), ('like', 0.012003693444136657), ('best', 0.011542012927054479)]\n",
      "\n",
      "device [('great', 0.07427869858809086), ('easy', 0.06322897483118478), ('good', 0.06015960712093309), ('excellent', 0.029465930018416207), ('nice', 0.025168815224063844), ('best', 0.022099447513812154), ('better', 0.01780233271945979), ('well', 0.017188459177409455), ('love', 0.016574585635359115), ('small', 0.013505217925107428)]\n",
      "\n"
     ]
    }
   ],
   "source": [
    "rel_freq_lex_ot = {}\n",
    "for domain in domains:\n",
    "    counter = Counter(counter_as_relative(Counter(OT_terms[domain])))\n",
    "    rel_freq_lex_ot[domain] = counter\n",
    "    com = counter.most_common(10)\n",
    "    print(domain, com)\n",
    "    print()\n",
    "# display_cum_dist_as_bar_chart( Counter(AT_terms[\"laptops\"]))"
   ]
  },
  {
   "cell_type": "code",
   "execution_count": null,
   "metadata": {},
   "outputs": [],
   "source": []
  },
  {
   "cell_type": "code",
   "execution_count": 798,
   "metadata": {},
   "outputs": [
    {
     "name": "stdout",
     "output_type": "stream",
     "text": [
      "restaurants 0.2186754723903871\n",
      "laptops 0.13850415512465375\n",
      "device 0.19950890116635972\n"
     ]
    }
   ],
   "source": [
    "l = [\"good\", \"best\", \"better\", \"nice\", \"great\"]\n",
    "for domain in domains:\n",
    "    s = sum([rel_freq_lex_ot[domain][word] for word in l])\n",
    "    print(domain, s)"
   ]
  },
  {
   "cell_type": "code",
   "execution_count": 806,
   "metadata": {},
   "outputs": [
    {
     "name": "stdout",
     "output_type": "stream",
     "text": [
      "{'price'}\n"
     ]
    }
   ],
   "source": [
    "# how many aspects are shared as occuring in the top-k common ATs by the three domains?\n",
    "k=50\n",
    "rel_freq_lex_at = {}\n",
    "topk_common_ats = {}\n",
    "for domain in domains:\n",
    "    counter = Counter(counter_as_relative(Counter(AT_terms[domain])))\n",
    "    rel_freq_lex_at[domain] = counter\n",
    "    topk_common_ats[domain] = set(w for w,freq in counter.most_common(k))\n",
    "print((set.intersection(*topk_common_ats.values())))\n"
   ]
  },
  {
   "cell_type": "code",
   "execution_count": null,
   "metadata": {},
   "outputs": [],
   "source": []
  },
  {
   "cell_type": "code",
   "execution_count": null,
   "metadata": {},
   "outputs": [],
   "source": []
  },
  {
   "cell_type": "code",
   "execution_count": null,
   "metadata": {},
   "outputs": [],
   "source": []
  },
  {
   "cell_type": "markdown",
   "metadata": {},
   "source": [
    "### Repeat Jensen-Shannon analyses for selected related pairs"
   ]
  },
  {
   "cell_type": "code",
   "execution_count": 605,
   "metadata": {},
   "outputs": [
    {
     "name": "stdout",
     "output_type": "stream",
     "text": [
      "total number of patterns across domains:  {'spacy': 258, 'ud': 391, 'dm': 204, 'psd': 351, 'eud_pp': 671}\n"
     ]
    },
    {
     "data": {
      "text/html": [
       "<table>\n",
       "<tbody>\n",
       "<tr><td>-     </td><td>restaurants-laptops</td><td>restaurants-device </td><td>laptops-device    </td><td>mean              </td></tr>\n",
       "<tr><td>spacy </td><td>0.6187071113422923 </td><td>0.6026572468321881 </td><td>0.5764433834278013</td><td>0.7741248266273086</td></tr>\n",
       "<tr><td>ud    </td><td>0.5985063618920867 </td><td>0.5915472012803674 </td><td>0.5610491222478756</td><td>0.7640032036190096</td></tr>\n",
       "<tr><td>dm    </td><td>0.5041365382839428 </td><td>0.49709167407172156</td><td>0.501272120390497 </td><td>0.7076958698824802</td></tr>\n",
       "<tr><td>psd   </td><td>0.5970662390183035 </td><td>0.5610583464168966 </td><td>0.5778762851639914</td><td>0.7607016214432549</td></tr>\n",
       "<tr><td>eud_pp</td><td>0.6387860749153241 </td><td>0.6244981027582572 </td><td>0.6132236436903472</td><td>0.7908872278152617</td></tr>\n",
       "</tbody>\n",
       "</table>"
      ],
      "text/plain": [
       "<IPython.core.display.HTML object>"
      ]
     },
     "metadata": {},
     "output_type": "display_data"
    }
   ],
   "source": [
    "# convert path-pattern raw data (deplbl_pattern_strs) to a probability distribtuion of patterns\n",
    "all_patterns_of_formalism = {formalism: list(set().union(*[list_patterns[formalism][domain] \n",
    "                                                           for domain in domains])) \n",
    "\n",
    "                             for formalism in formalisms}\n",
    "n_all_patterns = {formalism: len(all_patterns) for formalism, all_patterns in all_patterns_of_formalism.items()}\n",
    "print(\"total number of patterns across domains: \", \n",
    "      n_all_patterns)\n",
    "# probabilty distribution for a domain would be a list, where index i is \n",
    "# the probability of the pattern all_patterns_of_formalism[formalism][i]\n",
    "pattern2idx = {formalism: {pattern: idx\n",
    "                           for idx, pattern in enumerate(all_patterns_of_formalism[formalism])}\n",
    "               for formalism in formalisms}\n",
    "pattern_prob_distr =  {formalism: {domain: [dist_patterns[formalism][domain][pattern] / len(list_patterns[formalism][domain])\n",
    "                                            for pattern in all_patterns_of_formalism[formalism]] \n",
    "                                   for domain in domains} \n",
    "                       for formalism in formalisms}\n",
    "assert abs(1-sum(pattern_prob_distr['dm']['device']))<0.00000001, \"probability distribution should sum up to 1\"\n",
    "\n",
    "# compute Jensen–Shannon Divergence (JSD) between any two domains\n",
    "domain_pairs = list(combinations(domains, 2))\n",
    "jsds = {formalism: {f\"{dom1}-{dom2}\": jsd(pattern_prob_distr[formalism][dom1], pattern_prob_distr[formalism][dom2], base=2) \n",
    "                    for dom1, dom2 in domain_pairs}\n",
    "        for formalism in formalisms}\n",
    "import math\n",
    "display_ndict(jsds, pprint=lambda x: math.sqrt(x))"
   ]
  },
  {
   "cell_type": "code",
   "execution_count": null,
   "metadata": {},
   "outputs": [],
   "source": []
  },
  {
   "cell_type": "code",
   "execution_count": null,
   "metadata": {},
   "outputs": [],
   "source": []
  },
  {
   "cell_type": "code",
   "execution_count": null,
   "metadata": {},
   "outputs": [],
   "source": [
    "*********************************************************"
   ]
  },
  {
   "cell_type": "markdown",
   "metadata": {},
   "source": [
    "****************************************************************"
   ]
  },
  {
   "cell_type": "markdown",
   "metadata": {},
   "source": [
    "## Small computations for paper writing"
   ]
  },
  {
   "cell_type": "code",
   "execution_count": 590,
   "metadata": {},
   "outputs": [
    {
     "data": {
      "text/html": [
       "<table>\n",
       "<tbody>\n",
       "<tr><td>-     </td><td style=\"text-align: right;\">1     </td><td style=\"text-align: right;\">2     </td><td style=\"text-align: right;\">3     </td><td style=\"text-align: right;\">4     </td><td style=\"text-align: right;\">5     </td><td style=\"text-align: right;\">6     </td><td style=\"text-align: right;\">7     </td><td style=\"text-align: right;\">8     </td><td style=\"text-align: right;\">9     </td><td>mean  </td></tr>\n",
       "<tr><td>spacy </td><td style=\"text-align: right;\">0.2729</td><td style=\"text-align: right;\">0.5384</td><td style=\"text-align: right;\">0.5775</td><td style=\"text-align: right;\">0.6141</td><td style=\"text-align: right;\">0.6475</td><td style=\"text-align: right;\">0.6729</td><td style=\"text-align: right;\">0.6968</td><td style=\"text-align: right;\">0.7147</td><td style=\"text-align: right;\">0.7316</td><td>0.6074</td></tr>\n",
       "<tr><td>ud    </td><td style=\"text-align: right;\">0.2106</td><td style=\"text-align: right;\">0.3989</td><td style=\"text-align: right;\">0.4628</td><td style=\"text-align: right;\">0.4931</td><td style=\"text-align: right;\">0.5215</td><td style=\"text-align: right;\">0.5498</td><td style=\"text-align: right;\">0.5768</td><td style=\"text-align: right;\">0.5961</td><td style=\"text-align: right;\">0.6147</td><td>0.4916</td></tr>\n",
       "<tr><td>dm    </td><td style=\"text-align: right;\">0.5511</td><td style=\"text-align: right;\">0.6072</td><td style=\"text-align: right;\">0.6425</td><td style=\"text-align: right;\">0.6693</td><td style=\"text-align: right;\">0.6932</td><td style=\"text-align: right;\">0.7151</td><td style=\"text-align: right;\">0.7369</td><td style=\"text-align: right;\">0.7561</td><td style=\"text-align: right;\">0.7733</td><td>0.6827</td></tr>\n",
       "<tr><td>psd   </td><td style=\"text-align: right;\">0.3529</td><td style=\"text-align: right;\">0.6202</td><td style=\"text-align: right;\">0.6889</td><td style=\"text-align: right;\">0.7147</td><td style=\"text-align: right;\">0.7354</td><td style=\"text-align: right;\">0.7534</td><td style=\"text-align: right;\">0.7631</td><td style=\"text-align: right;\">0.7725</td><td style=\"text-align: right;\">0.7818</td><td>0.687 </td></tr>\n",
       "<tr><td>eud_pp</td><td style=\"text-align: right;\">0.2415</td><td style=\"text-align: right;\">0.4247</td><td style=\"text-align: right;\">0.457 </td><td style=\"text-align: right;\">0.4862</td><td style=\"text-align: right;\">0.5152</td><td style=\"text-align: right;\">0.544 </td><td style=\"text-align: right;\">0.5708</td><td style=\"text-align: right;\">0.5891</td><td style=\"text-align: right;\">0.6063</td><td>0.4928</td></tr>\n",
       "</tbody>\n",
       "</table>"
      ],
      "text/plain": [
       "<IPython.core.display.HTML object>"
      ]
     },
     "metadata": {},
     "output_type": "display_data"
    }
   ],
   "source": [
    "# relative (cumulative) frequency of top-k common pattern (aggregated across domains)\n",
    "rel_freq_top_k_patt = defaultdict(dict)\n",
    "# k=3\n",
    "# frmlsm=\"ud\"\n",
    "for frmlsm in formalisms:\n",
    "    for k in range(1,10):\n",
    "        rel_freq_top_k_patt[frmlsm][k] = sum(pattern_dist_across_domains[frmlsm].most_common(k)[i][1] for i in range(k))/sum(pattern_dist_across_domains[frmlsm].values())\n",
    "display_ndict(rel_freq_top_k_patt)"
   ]
  },
  {
   "cell_type": "code",
   "execution_count": 675,
   "metadata": {},
   "outputs": [
    {
     "data": {
      "text/html": [
       "<table>\n",
       "<tbody>\n",
       "<tr><td>-     </td><td>restaurants</td><td>laptops</td><td>device</td></tr>\n",
       "<tr><td>spacy </td><td>4573       </td><td>1696   </td><td>1539  </td></tr>\n",
       "<tr><td>ud    </td><td>6574       </td><td>2180   </td><td>1986  </td></tr>\n",
       "<tr><td>dm    </td><td>5694       </td><td>1871   </td><td>1792  </td></tr>\n",
       "<tr><td>psd   </td><td>5008       </td><td>1798   </td><td>1593  </td></tr>\n",
       "<tr><td>eud_pp</td><td>6953       </td><td>2303   </td><td>2096  </td></tr>\n",
       "</tbody>\n",
       "</table>"
      ],
      "text/plain": [
       "<IPython.core.display.HTML object>"
      ]
     },
     "metadata": {},
     "output_type": "display_data"
    }
   ],
   "source": [
    "# how many pairs are collected as related (detailed per formalism per domain)\n",
    "n_related_pairs = defaultdict(dict)\n",
    "for frmlsm in formalisms:\n",
    "    for domain in domains:\n",
    "        c = len(all_related_pairs[frmlsm][domain])\n",
    "        n_related_pairs[frmlsm][domain] = c\n",
    "display_ndict(n_related_pairs, with_mean=False)\n",
    "\n"
   ]
  },
  {
   "cell_type": "code",
   "execution_count": 666,
   "metadata": {},
   "outputs": [
    {
     "data": {
      "text/html": [
       "<table>\n",
       "<tbody>\n",
       "<tr><td>-          </td><td>Num Sentences</td><td>Num ATs</td><td>Num OTs</td></tr>\n",
       "<tr><td>restaurants</td><td>5842         </td><td>6096   </td><td>6186   </td></tr>\n",
       "<tr><td>laptops    </td><td>3846         </td><td>2808   </td><td>3157   </td></tr>\n",
       "<tr><td>device     </td><td>3834         </td><td>2325   </td><td>1660   </td></tr>\n",
       "</tbody>\n",
       "</table>"
      ],
      "text/plain": [
       "<IPython.core.display.HTML object>"
      ]
     },
     "metadata": {},
     "output_type": "display_data"
    }
   ],
   "source": [
    "# Descriptive ABSA statistics per domain \n",
    "descriptive_ndict = defaultdict(dict)\n",
    "for domain in domains:\n",
    "    graphs = all_graphs[\"spacy\"][domain]\n",
    "    descriptive_ndict[domain][\"Num Sentences\"] = len(graphs)\n",
    "    descriptive_ndict[domain][\"Num ATs\"] = sum([1 for g in graphs for s in g.aspect_spans ])\n",
    "    descriptive_ndict[domain][\"Num OTs\"] = sum([1 for g in graphs for s in g.opinion_spans ])\n",
    "display_ndict(descriptive_ndict, with_mean=False)    "
   ]
  },
  {
   "cell_type": "code",
   "execution_count": null,
   "metadata": {},
   "outputs": [],
   "source": []
  },
  {
   "cell_type": "code",
   "execution_count": null,
   "metadata": {},
   "outputs": [],
   "source": []
  },
  {
   "cell_type": "code",
   "execution_count": null,
   "metadata": {},
   "outputs": [],
   "source": []
  },
  {
   "cell_type": "markdown",
   "metadata": {},
   "source": [
    "## DRAFT"
   ]
  },
  {
   "cell_type": "code",
   "execution_count": null,
   "metadata": {},
   "outputs": [],
   "source": [
    "## work-space\n",
    "g = all_indicative_graphs[\"dm\"][\"laptops\"][4]\n",
    "nxg = to_nx(g)\n",
    "print(directed_path_length(nxg))\n",
    "# print([n.label for n in nxg.g.nodes])\n",
    "print(nxg.input)\n",
    "print(nxg.g.opinion_spans)\n",
    "print(nxg.g.aspect_spans)\n",
    "\n",
    "c= Counter([1,2,3,1,2,3,1,1,1,5,4,2,12])\n",
    "counter_as_accumulative(counter_as_relative(c))"
   ]
  },
  {
   "cell_type": "code",
   "execution_count": 674,
   "metadata": {},
   "outputs": [
    {
     "name": "stdout",
     "output_type": "stream",
     "text": [
      "num graphs:  13522\n",
      "opinion: num terms:  11003\n",
      "aspects: num terms:  11229\n",
      "opinion: span length:  Counter({1: 10383, 2: 502, 3: 72, 4: 37, 5: 6, 6: 2, 8: 1})\n",
      "aspects: span length:  Counter({1: 7862, 2: 2473, 3: 569, 4: 186, 5: 81, 6: 26, 7: 12, 9: 6, 8: 6, 13: 2, 15: 2, 10: 1, 21: 1, 11: 1, 12: 1})\n",
      "opinion: mean span length:  1.0725256748159593\n",
      "aspects: mean span length:  1.4352123964734171\n",
      "\n",
      "num possible (OT, AT) pairs:  16630\n",
      "num selected (OT, AT) pairs: 7808, which are 0.47 of possible pairs \n",
      "6376 different ATs are selected, which ar 0.57 of ATs. \n",
      "6606 different OTs are selected, which ar 0.60 of OTs. \n"
     ]
    }
   ],
   "source": [
    "# General ABSA terms statistics\n",
    "formalism = \"spacy\"\n",
    "all_graphs_overall = [g for domain in domains for g in all_graphs[formalism][domain]]\n",
    "print(\"num graphs: \", len(all_graphs_overall))\n",
    "numOTs= sum([1 for g in all_graphs_overall for s in g.opinion_spans ])\n",
    "print(\"opinion: num terms: \", numOTs)\n",
    "numATs= sum([1 for g in all_graphs_overall for s in g.aspect_spans ])\n",
    "print(\"aspects: num terms: \", numATs )\n",
    "print(\"opinion: span length: \", Counter([s[1]-s[0] for g in all_graphs_overall for s in g.opinion_spans ]))\n",
    "print(\"aspects: span length: \", Counter([s[1]-s[0] for g in all_graphs_overall for s in g.aspect_spans ]))\n",
    "print(\"opinion: mean span length: \", np.mean([s[1]-s[0] for g in all_graphs_overall for s in g.opinion_spans ]))\n",
    "print(\"aspects: mean span length: \", np.mean([s[1]-s[0] for g in all_graphs_overall for s in g.aspect_spans ]))\n",
    "print()\n",
    "num_possible_pairs= sum(len(all_possible_pairs[formalism][domain]) for domain in domains)\n",
    "print(f\"num possible (OT, AT) pairs: \", num_possible_pairs)\n",
    "num_selected_pairs= len(agg(all_related_pairs[formalism]))\n",
    "print(f\"num selected (OT, AT) pairs: {num_selected_pairs}, which are {num_selected_pairs/num_possible_pairs:.2} of possible pairs \" )\n",
    "selected_ATs = set( (g,at) for g,op,at in agg(all_related_pairs[formalism]))\n",
    "selected_OTs = set( (g,op) for g,op,at in agg(all_related_pairs[formalism]))\n",
    "\n",
    "print(f\"{len(selected_ATs)} different ATs are selected, which ar {len(selected_ATs)/numATs:.2f} of ATs. \")\n",
    "print(f\"{len(selected_OTs)} different OTs are selected, which ar {len(selected_OTs)/numOTs:.2f} of OTs. \")\n"
   ]
  },
  {
   "cell_type": "code",
   "execution_count": 474,
   "metadata": {},
   "outputs": [
    {
     "name": "stdout",
     "output_type": "stream",
     "text": [
      "mean sentence length:  16.46871764531874\n",
      "#-sentences with length>64:  Counter({64: 5, 65: 4, 69: 4, 66: 4, 72: 2, 70: 2, 79: 2, 85: 1, 73: 1, 106: 1, 75: 1, 68: 1, 80: 1, 78: 1, 74: 1, 83: 1})\n"
     ]
    }
   ],
   "source": [
    "print(\"mean sentence length: \", np.mean([len(g.input.split()) for g in all_graphs_overall]))\n",
    "print(\"#-sentences with length>64: \", Counter([len(g.input.split()) for g in all_graphs_overall if len(g.input.split())>63]))"
   ]
  },
  {
   "cell_type": "code",
   "execution_count": null,
   "metadata": {},
   "outputs": [],
   "source": [
    "7584"
   ]
  },
  {
   "cell_type": "code",
   "execution_count": 689,
   "metadata": {},
   "outputs": [],
   "source": [
    "dist_patterns_agg = {frm: sum([dist_patterns[frm][dom] for dom in domains], Counter()).most_common()\n",
    "                     for frm in formalisms}"
   ]
  },
  {
   "cell_type": "code",
   "execution_count": null,
   "metadata": {},
   "outputs": [],
   "source": []
  },
  {
   "cell_type": "code",
   "execution_count": 688,
   "metadata": {},
   "outputs": [],
   "source": [
    "\n"
   ]
  }
 ],
 "metadata": {
  "kernelspec": {
   "display_name": "Python 3",
   "language": "python",
   "name": "python3"
  },
  "language_info": {
   "codemirror_mode": {
    "name": "ipython",
    "version": 3
   },
   "file_extension": ".py",
   "mimetype": "text/x-python",
   "name": "python",
   "nbconvert_exporter": "python",
   "pygments_lexer": "ipython3",
   "version": "3.6.8"
  }
 },
 "nbformat": 4,
 "nbformat_minor": 4
}
